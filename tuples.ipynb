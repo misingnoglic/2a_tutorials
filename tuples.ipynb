{
 "cells": [
  {
   "cell_type": "markdown",
   "metadata": {},
   "source": [
    "# Tuples"
   ]
  },
  {
   "cell_type": "markdown",
   "metadata": {},
   "source": [
    "Tuples are another way of representing lists of data. Syntactically they only differ in using parentheses () rather than square brackets []. For example, the following code creates a list x and a tuple y. You can use the same notation to access elements of tuples and lists.  Note also that you can have lists of tuples, and lists of list, and tuples of tuples, etc.  "
   ]
  },
  {
   "cell_type": "code",
   "execution_count": null,
   "metadata": {
    "collapsed": false
   },
   "outputs": [],
   "source": [
    "x = [3,1,4,1,5,9,2]\n",
    "y = (3,1,4,1,5,9.2)\n",
    "print(x[2:5])\n",
    "print(y[2:5])\n",
    "\n",
    "bulletin = [('cs2a','elective'), ('cs11a','core'), ('cs12b','core'), ('cs21a','core'), ('cs164a','elective')]\n",
    "for k in bulletin:\n",
    "    print(k)"
   ]
  },
  {
   "cell_type": "markdown",
   "metadata": {},
   "source": [
    "### Project 1\n",
    "Add a few courses to the bulletin list above and cut/paste it into TeachBack\n",
    "* * *"
   ]
  },
  {
   "cell_type": "markdown",
   "metadata": {},
   "source": [
    "Tuples differ from lists in that they are **immutable**, that is, you can't change their elements. For example, run the code below and see that it throws an error when you try to set the third element of y to 100"
   ]
  },
  {
   "cell_type": "code",
   "execution_count": null,
   "metadata": {
    "collapsed": false
   },
   "outputs": [],
   "source": [
    "x = [3,1,4,1,5,9,2]  # this is a list, its items can be changed\n",
    "y = (3,1,4,1,5,9.2)  # this is a tuple, we can't change its items\n",
    "x[3]=100\n",
    "print('x=',x)\n",
    "y[3]=100   # this line throws an error, comment it out after you see the error \n",
    "print('y=',y)"
   ]
  },
  {
   "cell_type": "markdown",
   "metadata": {},
   "source": [
    "Tuples and lists can also be used for multiple assignment. You see this often. Note that the expression on the right hand side is evaluated first to get a tuple, and those values are then assigned to the variables."
   ]
  },
  {
   "cell_type": "code",
   "execution_count": null,
   "metadata": {
    "collapsed": false
   },
   "outputs": [],
   "source": [
    "(a,b) = (5,3)\n",
    "print(\"(a,b)=\",(a,b))\n",
    "(a,b) = (b,a)\n",
    "print(\"(a,b)=\",(a,b))\n",
    "a=b\n",
    "b=a\n",
    "print(\"(a,b)=\",(a,b))"
   ]
  },
  {
   "cell_type": "markdown",
   "metadata": {},
   "source": [
    "## Project 2\n",
    "Observe that (a,b)=(b,a) swaps the values of a and b.\n",
    "Explain why you can just use a=b; b=a to swap the values?\n",
    "Cut/paste your answer to TeachBack\n",
    "* * *"
   ]
  },
  {
   "cell_type": "markdown",
   "metadata": {},
   "source": [
    "The main advantages of tuples over lists is that they are a little faster for Python to process and take less space i memory. Also they can be used as keys in dictionaries. Here is an example of how to keep track of who taught which classes in which semesters using a dictionary.  "
   ]
  },
  {
   "cell_type": "code",
   "execution_count": null,
   "metadata": {
    "collapsed": false
   },
   "outputs": [],
   "source": [
    "classes = {\n",
    "     ('cs2a','spr17'):'Tim', \n",
    "     ('cs21a','spr17'):'Antonella', \n",
    "     ('cs164a','fall16'):\"Tim\",  \n",
    "     ('cs11a','fall16'):\"Antonella\",\n",
    "     ('jbs','sum16'): \"Tim\",\n",
    "     ('cs11a','sum16'):\"Antonella\",\n",
    "     ('cs21a','sum16'):\"Antonella\"\n",
    "}\n",
    "\n",
    "for k in classes:\n",
    "    print(k,classes[k])\n",
    "\n",
    "\n",
    "\n",
    "\n",
    "    "
   ]
  },
  {
   "cell_type": "markdown",
   "metadata": {},
   "source": [
    "Tuples are often used with lists and dictionaries to store structured data. For example, imagine organizing your contact list. You could use tuples for people's first, middle, and last names. Add two contacts to this list (you can use fictional people) and cut/paste it into TeachBack."
   ]
  },
  {
   "cell_type": "code",
   "execution_count": null,
   "metadata": {
    "collapsed": false
   },
   "outputs": [],
   "source": [
    "contacts = [\n",
    "    {'name':(\"Timothy\",\"John\",\"Hickey\"), 'email':\"tjhickey@brandeis.edu\", 'phone':'17817362706'},\n",
    "    {'name':(\"Fatima\",\"Abu Deeb\"),       'email':\"abudeebf@brandeis.edu\", 'phone':'17817362700'},\n",
    "    {'name':(\"Arya\",\"Boudaie\"),          'email':\"aboudaie@brandeis.edu\", 'phone':'unlisted'}\n",
    "]\n",
    "print(contacts)"
   ]
  },
  {
   "cell_type": "markdown",
   "metadata": {},
   "source": [
    "## Project 3\n",
    "Write a loop that prints out the first names of everyone in your contacts list and cut/paste your code into TeachBack\n",
    "***"
   ]
  },
  {
   "cell_type": "code",
   "execution_count": null,
   "metadata": {
    "collapsed": true
   },
   "outputs": [],
   "source": []
  },
  {
   "cell_type": "markdown",
   "metadata": {},
   "source": [
    "## Project 4\n",
    "Now write a loop that prints out the last names and phone numbers of everyone in your contact list, and cut/paste the result into TeachBack\n",
    "***"
   ]
  },
  {
   "cell_type": "code",
   "execution_count": null,
   "metadata": {
    "collapsed": true
   },
   "outputs": [],
   "source": []
  }
 ],
 "metadata": {
  "kernelspec": {
   "display_name": "Python 3",
   "language": "python",
   "name": "python3"
  },
  "language_info": {
   "codemirror_mode": {
    "name": "ipython",
    "version": 3
   },
   "file_extension": ".py",
   "mimetype": "text/x-python",
   "name": "python",
   "nbconvert_exporter": "python",
   "pygments_lexer": "ipython3",
   "version": "3.6.0"
  }
 },
 "nbformat": 4,
 "nbformat_minor": 1
}
