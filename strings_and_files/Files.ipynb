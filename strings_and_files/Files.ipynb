{
 "cells": [
  {
   "cell_type": "markdown",
   "metadata": {},
   "source": [
    "# Reading and Writing Files"
   ]
  },
  {
   "cell_type": "markdown",
   "metadata": {},
   "source": [
    "This notebook will teach you the skills necissary to read and write text files."
   ]
  },
  {
   "cell_type": "markdown",
   "metadata": {},
   "source": [
    "## Introduction\n",
    "\n",
    "On your computer, you have probably opened a .txt file at some point. \n",
    "A txt file is just a file that has plain text, just like a string.\n",
    "\n",
    "They are a common way of storing information on computers, and it is very easy to open and read from them.\n",
    "\n",
    "For example, in the same folder as this notebook, there should be a file called romeo_and_juliet.txt\n",
    "\n",
    "If you open this .txt file, you should see the entirety of romeo_and_juliet in your text editor.\n",
    "\n",
    "Let's start with something simple. There's another text file called Grades.txt\n",
    "\n",
    "The text file is just a list of people's names, with their grade after their name. \n",
    "\n",
    "If you wanted to open it in Python to do some analysis on it, here's how you would do it."
   ]
  },
  {
   "cell_type": "code",
   "execution_count": null,
   "metadata": {
    "collapsed": true
   },
   "outputs": [],
   "source": [
    "f = open(\"Grades.txt\") # First, open the file - you can save the opened file "
   ]
  },
  {
   "cell_type": "code",
   "execution_count": null,
   "metadata": {
    "collapsed": false
   },
   "outputs": [],
   "source": [
    "f.read() # Then, you have you do f.read() to get the string version of the text file. "
   ]
  },
  {
   "cell_type": "markdown",
   "metadata": {},
   "source": [
    "It would be worth it to save the f.read() into a variable. "
   ]
  },
  {
   "cell_type": "code",
   "execution_count": null,
   "metadata": {
    "collapsed": false
   },
   "outputs": [],
   "source": [
    "f = open(\"Grades.txt\") # First, open the file - you can save the opened file \n",
    "s = f.read()\n",
    "print(s)"
   ]
  },
  {
   "cell_type": "markdown",
   "metadata": {},
   "source": [
    "Notice that when I printed this s, those weird \\n's didn't show up. \n",
    "In a string, \\n is the code that means new line, and when you give it to print, it will print out a new line. Look at this for example:"
   ]
  },
  {
   "cell_type": "code",
   "execution_count": null,
   "metadata": {
    "collapsed": false
   },
   "outputs": [],
   "source": [
    "print(\"Hello\\nMy\\nName\\nIs\\nArya\")"
   ]
  },
  {
   "cell_type": "markdown",
   "metadata": {},
   "source": [
    "For files, the thing you probably want to do first is use the \"splitlines\" method on strings. This will split your string into a list of all the lines:"
   ]
  },
  {
   "cell_type": "code",
   "execution_count": null,
   "metadata": {
    "collapsed": false
   },
   "outputs": [],
   "source": [
    "split = s.splitlines()\n",
    "print(split)"
   ]
  },
  {
   "cell_type": "code",
   "execution_count": null,
   "metadata": {
    "collapsed": false
   },
   "outputs": [],
   "source": [
    "# We can put all these three lines together into one line\n",
    "all_the_lines =  open(\"Grades.txt\").read().splitlines()\n",
    "print(all_the_lines)"
   ]
  },
  {
   "cell_type": "markdown",
   "metadata": {},
   "source": [
    "Now we can do some data analysis on it. Let's first do a list comprehension to turn this into a lists of lists."
   ]
  },
  {
   "cell_type": "code",
   "execution_count": null,
   "metadata": {
    "collapsed": false
   },
   "outputs": [],
   "source": [
    "grades = [x.split() for x in all_the_lines] # .split() splits the string on the space, so now this is a list of lists. \n",
    "grades"
   ]
  },
  {
   "cell_type": "markdown",
   "metadata": {},
   "source": [
    "Now this is much easier! Now let's see what the average grade is."
   ]
  },
  {
   "cell_type": "code",
   "execution_count": null,
   "metadata": {
    "collapsed": false
   },
   "outputs": [],
   "source": [
    "# first let's create a list of just the score themselves, without the names,\n",
    "# and lets convert the scores from strings to Python integers\n",
    "scores = [int(line[1]) for line in grades] # why do we need to use the int(...) function??\n",
    "print('the quiz scores are',scores)\n",
    "print() # this prints a blank line!\n",
    "\n",
    "# now that we have a list of the scores, we can easily find the average by dividing the sum by the length of the lists\n",
    "avg_score = sum(scores)/len(scores)\n",
    "print('the sum of the scores is',sum(scores),'the number of scores is',len(scores),'the average score is',avg_score)"
   ]
  },
  {
   "cell_type": "markdown",
   "metadata": {},
   "source": [
    "Looks like we have a solid C average. I think we'll do better after taking the makeups!!"
   ]
  },
  {
   "cell_type": "markdown",
   "metadata": {},
   "source": [
    "## Files1\n",
    "Add a few lines to the Grades.txt file using a code editor\n",
    "then write some code to read the file and find the highest grade!"
   ]
  },
  {
   "cell_type": "code",
   "execution_count": null,
   "metadata": {
    "collapsed": true
   },
   "outputs": [],
   "source": []
  },
  {
   "cell_type": "markdown",
   "metadata": {},
   "source": [
    "## Digital Humanities\n",
    "Now let's look at some examples of working with Romeo and Juliet, which we downloaded from the\n",
    "www.gutenberg.org website."
   ]
  },
  {
   "cell_type": "code",
   "execution_count": null,
   "metadata": {
    "collapsed": false
   },
   "outputs": [],
   "source": [
    "# Let's find every line in Romeo and Juliet with the word \"dog\"\n",
    "\n",
    "rj_lines = open(\"romeo_and_juliet.txt\").read().splitlines() \n",
    "# In one line, this opens the file, turns it into a string, and splits it into lines\n",
    "\n",
    "# next we filter the list of lines to find only those containing the word 'dog'\n",
    "result_lines = [line for line in rj_lines if 'dog' in line]  # note the use of a list comprehension!\n",
    "\n",
    "# now we print out the results\n",
    "print('there are',len(result_lines),'lines in Romeo and Juliet containing the word dog',)\n",
    "print('\\nHere they are:\\n')\n",
    "for line in result_lines:\n",
    "    print(line)"
   ]
  },
  {
   "cell_type": "markdown",
   "metadata": {},
   "source": [
    "## Line Numbers!\n",
    "Here is a modification that finds the line numbers of the lines in Romeo and Juliet containing the word \"dog\".  Observe that we create a list of the indices k of lines rj_lines[k] which contain the word \"dog\" and we can use those indices to print out the original lines..."
   ]
  },
  {
   "cell_type": "code",
   "execution_count": null,
   "metadata": {
    "collapsed": false
   },
   "outputs": [],
   "source": [
    "# Let's find every line in Romeo and Juliet with the word \"dog\"\n",
    "rj_lines = open(\"romeo_and_juliet.txt\").read().splitlines() # In one line - opens file, turns it into string, and splits lines\n",
    "\n",
    "# next we find out how many lines are in the Romeo and Juliet manuscript\n",
    "num_lines = len(rj_lines)  # let's see how many indexes we need to use\n",
    "\n",
    "# here we find the line numbers (indexes) of the lines which contain the word 'dog'\n",
    "# notice that range(0,num_lines) is the list of all line numbers for Romeo and Juliet\n",
    "\n",
    "result_lines = [k for k in range(0,num_lines) if 'dog' in rj_lines[k]]  # note the use of a list comprehension to filter\n",
    "\n",
    "print('there are',len(result_lines),'lines in Romeo and Juliet containing the word \"dog\"')\n",
    "\n",
    "print('\\nHere they are:\\n')\n",
    "for k in result_lines:\n",
    "    print(k,rj_lines[k])"
   ]
  },
  {
   "cell_type": "markdown",
   "metadata": {},
   "source": [
    "### Files 2: Modify the code in the previous example to also print the line before and the line after each occurrence of the word \"dog\".\n",
    "\n",
    "So is should print\n",
    "\n",
    "    there are 6 lines in Romeo and Juliet containing the word \"dog\"\n",
    "\n",
    "    Here they are:\n",
    "\n",
    "    36 SAMPSON\n",
    "    37 A dog of the house of Montague moves me.\n",
    "    38 GREGORY\n",
    "    \n",
    "    41 SAMPSON\n",
    "    42 A dog of that house shall move me to stand: I will\n",
    "    43 take the wall of any man or maid of Montague's.\n",
    "    \n",
    "    ....\n",
    "    \n",
    "with three consecutive lines around each occurrence of the word.\n",
    "\n",
    "Cut/paste your code into TeachBack, as usual!"
   ]
  },
  {
   "cell_type": "code",
   "execution_count": null,
   "metadata": {
    "collapsed": false
   },
   "outputs": [],
   "source": [
    "\n",
    "print('there are',len(result_lines),'lines in Romeo and Juliet containing the word \"dog\"')\n",
    "\n",
    "print('\\nHere they are:\\n')\n",
    "for k in result_lines:\n",
    "    print(k,rj_lines[k])"
   ]
  },
  {
   "cell_type": "markdown",
   "metadata": {},
   "source": [
    "## How to store information in files. \n",
    "\n",
    "Let's say you want to send some results to your boss in a text file. It's very easy to write things to text files. Here's how you do it. "
   ]
  },
  {
   "cell_type": "code",
   "execution_count": null,
   "metadata": {
    "collapsed": true
   },
   "outputs": [],
   "source": [
    "f = open(\"newfile.txt\", \"w\") "
   ]
  },
  {
   "cell_type": "markdown",
   "metadata": {},
   "source": [
    "Notice that second argument \"w\" - This is how you tell python that this file doesn't exist, and you're going to create it, and \"write\" things into the file (\"w\" for write!)\n",
    "\n",
    "Now to write a line to it, you can just write to the file like this:"
   ]
  },
  {
   "cell_type": "code",
   "execution_count": null,
   "metadata": {
    "collapsed": false
   },
   "outputs": [],
   "source": [
    "f.write(\"Hello\\n\") # Don't forget the /n, that's how you make there be a new line in the text file. \n",
    "f.write(\"World\\n\")"
   ]
  },
  {
   "cell_type": "markdown",
   "metadata": {},
   "source": [
    "You can also \"print\" to a file by passing in the file like this as a second argument, file=f (where f is the name of your file). This is an example of \"overriding a default parameter.\"  You can define your own functions to have parameters with default values and allowing the user to override them.  We'll talk about this later.\n",
    "\n",
    "Notice that you don't need the \\n here, since print adds it automatically."
   ]
  },
  {
   "cell_type": "code",
   "execution_count": null,
   "metadata": {
    "collapsed": false
   },
   "outputs": [],
   "source": [
    "print(\"Hello\", file=f)"
   ]
  },
  {
   "cell_type": "code",
   "execution_count": null,
   "metadata": {
    "collapsed": false
   },
   "outputs": [],
   "source": [
    "# Let's print a table of square roots\n",
    "import math\n",
    "for i in range(10):\n",
    "    print(i,math.sqrt(i), file=f)"
   ]
  },
  {
   "cell_type": "markdown",
   "metadata": {},
   "source": [
    "When you're done with the file you're writing, you have to close it. Like this:"
   ]
  },
  {
   "cell_type": "code",
   "execution_count": null,
   "metadata": {
    "collapsed": false
   },
   "outputs": [],
   "source": [
    "f.close()"
   ]
  },
  {
   "cell_type": "markdown",
   "metadata": {},
   "source": [
    "Now let's see the file! You can also open it in Atom."
   ]
  },
  {
   "cell_type": "code",
   "execution_count": null,
   "metadata": {
    "collapsed": false
   },
   "outputs": [],
   "source": [
    "print(open(\"newfile.txt\").read())"
   ]
  },
  {
   "cell_type": "code",
   "execution_count": null,
   "metadata": {
    "collapsed": true
   },
   "outputs": [],
   "source": []
  }
 ],
 "metadata": {
  "kernelspec": {
   "display_name": "Python 3",
   "language": "python",
   "name": "python3"
  },
  "language_info": {
   "codemirror_mode": {
    "name": "ipython",
    "version": 3
   },
   "file_extension": ".py",
   "mimetype": "text/x-python",
   "name": "python",
   "nbconvert_exporter": "python",
   "pygments_lexer": "ipython3",
   "version": "3.6.0"
  }
 },
 "nbformat": 4,
 "nbformat_minor": 2
}
