{
 "cells": [
  {
   "cell_type": "markdown",
   "metadata": {},
   "source": [
    "# Reading and Writing Files"
   ]
  },
  {
   "cell_type": "markdown",
   "metadata": {},
   "source": [
    "This notebook will teach you the skills necissary to read and write text files."
   ]
  },
  {
   "cell_type": "markdown",
   "metadata": {},
   "source": [
    "## Introduction\n",
    "\n",
    "On your computer, you have probably opened a .txt file at some point. \n",
    "A txt file is just a file that has plain text, just like a string.\n",
    "\n",
    "They are a common way of storing information on computers, and it is very easy to open and read from them.\n",
    "\n",
    "For example, in the same folder as this notebook, there should be a file called romeo_and_juliet.txt\n",
    "\n",
    "If you open this .txt file, you should see the entirety of romeo_and_juliet in your text editor.\n",
    "\n",
    "Let's start with something simple. There's another text file called Grades.txt\n",
    "\n",
    "The text file is just a list of people's names, with their grade after their name. \n",
    "\n",
    "If you wanted to open it in Python to do some analysis on it, here's how you would do it."
   ]
  },
  {
   "cell_type": "code",
   "execution_count": null,
   "metadata": {
    "collapsed": true
   },
   "outputs": [],
   "source": [
    "f = open(\"Grades.txt\") # First, open the file - you can save the opened file "
   ]
  },
  {
   "cell_type": "code",
   "execution_count": null,
   "metadata": {
    "collapsed": false
   },
   "outputs": [],
   "source": [
    "f.read() # Then, you have you do f.read() to get the string version of the text file. "
   ]
  },
  {
   "cell_type": "markdown",
   "metadata": {},
   "source": [
    "It would be worth it to save the f.read() into a variable. "
   ]
  },
  {
   "cell_type": "code",
   "execution_count": null,
   "metadata": {
    "collapsed": false
   },
   "outputs": [],
   "source": [
    "f = open(\"Grades.txt\") # First, open the file - you can save the opened file \n",
    "s = f.read()\n",
    "print(s)"
   ]
  },
  {
   "cell_type": "markdown",
   "metadata": {},
   "source": [
    "Notice that when I printed this s, those weird \\n's didn't show up. \n",
    "In a string, \\n is the code that means new line, and when you give it to print, it will print out a new line. Look at this for example:"
   ]
  },
  {
   "cell_type": "code",
   "execution_count": null,
   "metadata": {
    "collapsed": false
   },
   "outputs": [],
   "source": [
    "print(\"Hello\\nMy\\nName\\nIs\\nArya\")"
   ]
  },
  {
   "cell_type": "markdown",
   "metadata": {},
   "source": [
    "Going back to our opened file, this is just like any normal string. You can do all of the normal string things to it. For example, slicing."
   ]
  },
  {
   "cell_type": "code",
   "execution_count": null,
   "metadata": {
    "collapsed": false
   },
   "outputs": [],
   "source": [
    "s[10:20]"
   ]
  },
  {
   "cell_type": "markdown",
   "metadata": {},
   "source": [
    "For files, the thing you probably want to do first is use the \"splitlines\" method on strings. This will split your string into a list of all the lines:"
   ]
  },
  {
   "cell_type": "code",
   "execution_count": null,
   "metadata": {
    "collapsed": false
   },
   "outputs": [],
   "source": [
    "split = s.splitlines()\n",
    "print(split)"
   ]
  },
  {
   "cell_type": "code",
   "execution_count": null,
   "metadata": {
    "collapsed": true
   },
   "outputs": [],
   "source": [
    "# We can put all these three lines together into one line\n",
    "split =  open(\"Grades.txt\").read().splitlines()"
   ]
  },
  {
   "cell_type": "markdown",
   "metadata": {},
   "source": [
    "Now we can do some data on it. Let's first do a list comprehension to turn this into a lists of lists."
   ]
  },
  {
   "cell_type": "code",
   "execution_count": null,
   "metadata": {
    "collapsed": false
   },
   "outputs": [],
   "source": [
    "grades = [x.split() for x in split] # .split() splits the string on the space, so now this is a list of lists. \n",
    "grades"
   ]
  },
  {
   "cell_type": "markdown",
   "metadata": {},
   "source": [
    "Now this is much easier! Now let's see what the average grade is."
   ]
  },
  {
   "cell_type": "code",
   "execution_count": null,
   "metadata": {
    "collapsed": false
   },
   "outputs": [],
   "source": [
    "total = 0\n",
    "for line in grades:\n",
    "    total += int(line[1])\n",
    "average=total/len(grades)\n",
    "print(average)"
   ]
  },
  {
   "cell_type": "markdown",
   "metadata": {},
   "source": [
    "Looks like we have a good average!"
   ]
  },
  {
   "cell_type": "code",
   "execution_count": null,
   "metadata": {
    "collapsed": false
   },
   "outputs": [],
   "source": [
    "# Let's find every line in Romeo and Juliet with the word \"love\"\n",
    "\n",
    "rj_lines = open(\"romeo_and_juliet.txt\").read().splitlines() # In one line - opens file, turns it into string, and splits lines\n",
    "\n",
    "for line in rj_lines: # For each line in the split \n",
    "    if \"love\" in line.lower(): # Put the line in lowercase, if \"love\" is in it, print the line\n",
    "        print(line)"
   ]
  },
  {
   "cell_type": "markdown",
   "metadata": {},
   "source": [
    "### Project 1: Write the code to count how many times a word appears in a file"
   ]
  },
  {
   "cell_type": "code",
   "execution_count": null,
   "metadata": {
    "collapsed": true
   },
   "outputs": [],
   "source": [
    "# Put the code here"
   ]
  },
  {
   "cell_type": "markdown",
   "metadata": {},
   "source": [
    "## How to write to files. \n",
    "\n",
    "Let's say you want to send some results to your boss in a text file. It's very easy to write things to text files. Here's how you do it. "
   ]
  },
  {
   "cell_type": "code",
   "execution_count": null,
   "metadata": {
    "collapsed": true
   },
   "outputs": [],
   "source": [
    "f = open(\"newfile.txt\", \"w\") "
   ]
  },
  {
   "cell_type": "markdown",
   "metadata": {},
   "source": [
    "Notice that second argument \"w\" - This is how you tell python that this file doesn't exist, and you're gonna create it.\n",
    "\n",
    "Now to write a line to it, you can just write to the file like this:"
   ]
  },
  {
   "cell_type": "code",
   "execution_count": null,
   "metadata": {
    "collapsed": false
   },
   "outputs": [],
   "source": [
    "f.write(\"Hello\\n\") # Don't forget the /n, that's how you make there be a new line in the text file. \n",
    "f.write(\"World\\n\")"
   ]
  },
  {
   "cell_type": "markdown",
   "metadata": {},
   "source": [
    "You can also \"print\" to a file by passing in the file like this as a second argument, file=f (where f is the name of your file)\n",
    "Notice that you don't need the \\n here, since print adds it automatically."
   ]
  },
  {
   "cell_type": "code",
   "execution_count": null,
   "metadata": {
    "collapsed": false
   },
   "outputs": [],
   "source": [
    "print(\"Hello\", file=f)"
   ]
  },
  {
   "cell_type": "code",
   "execution_count": null,
   "metadata": {
    "collapsed": true
   },
   "outputs": [],
   "source": [
    "# Let's print a table of square roots\n",
    "import math\n",
    "for i in range(100):\n",
    "    print(i,math.sqrt(i), file=f)"
   ]
  },
  {
   "cell_type": "markdown",
   "metadata": {},
   "source": [
    "When you're done with the file you're writing, you have to close it. Like this:"
   ]
  },
  {
   "cell_type": "code",
   "execution_count": null,
   "metadata": {
    "collapsed": true
   },
   "outputs": [],
   "source": [
    "f.close()"
   ]
  },
  {
   "cell_type": "markdown",
   "metadata": {},
   "source": [
    "Now let's see the file! You can also open it in Atom."
   ]
  },
  {
   "cell_type": "code",
   "execution_count": null,
   "metadata": {
    "collapsed": false
   },
   "outputs": [],
   "source": [
    "print(open(\"newfile.txt\").read())"
   ]
  }
 ],
 "metadata": {
  "kernelspec": {
   "display_name": "Python 3",
   "language": "python",
   "name": "python3"
  },
  "language_info": {
   "codemirror_mode": {
    "name": "ipython",
    "version": 3
   },
   "file_extension": ".py",
   "mimetype": "text/x-python",
   "name": "python",
   "nbconvert_exporter": "python",
   "pygments_lexer": "ipython3",
   "version": "3.6.0"
  }
 },
 "nbformat": 4,
 "nbformat_minor": 2
}
