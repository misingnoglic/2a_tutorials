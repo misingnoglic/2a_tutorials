{
 "cells": [
  {
   "cell_type": "markdown",
   "metadata": {},
   "source": [
    "# Reading and Writing Files"
   ]
  },
  {
   "cell_type": "markdown",
   "metadata": {},
   "source": [
    "This notebook will teach you the skills necissary to read and write text files."
   ]
  },
  {
   "cell_type": "markdown",
   "metadata": {},
   "source": [
    "## Introduction\n",
    "\n",
    "On your computer, you have probably opened a .txt file at some point. \n",
    "A txt file is just a file that has plain text, just like a string.\n",
    "\n",
    "They are a common way of storing information on computers, and it is very easy to open and read from them.\n",
    "\n",
    "For example, in the same folder as this notebook, there should be a file called romeo_and_juliet.txt\n",
    "\n",
    "If you open this .txt file, you should see the entirety of romeo_and_juliet in your text editor.\n",
    "\n",
    "Let's start with something simple. There's another text file called Grades.txt\n",
    "\n",
    "The text file is just a list of people's names, with their grade after their name. \n",
    "\n",
    "If you wanted to open it in Python to do some analysis on it, here's how you would do it."
   ]
  },
  {
   "cell_type": "code",
   "execution_count": 5,
   "metadata": {
    "collapsed": true
   },
   "outputs": [],
   "source": [
    "f = open(\"Grades.txt\") # First, open the file - you can save the opened file "
   ]
  },
  {
   "cell_type": "code",
   "execution_count": 6,
   "metadata": {
    "collapsed": false
   },
   "outputs": [
    {
     "data": {
      "text/plain": [
       "'Arya 70\\nBen 80\\nTim 87\\nFatima 99\\nKahlil 40'"
      ]
     },
     "execution_count": 6,
     "metadata": {},
     "output_type": "execute_result"
    }
   ],
   "source": [
    "f.read() # Then, you have you do f.read() to get the string version of the text file. "
   ]
  },
  {
   "cell_type": "markdown",
   "metadata": {},
   "source": [
    "It would be worth it to save the f.read() into a variable. "
   ]
  },
  {
   "cell_type": "code",
   "execution_count": 9,
   "metadata": {
    "collapsed": false
   },
   "outputs": [
    {
     "name": "stdout",
     "output_type": "stream",
     "text": [
      "Arya 70\n",
      "Ben 80\n",
      "Tim 87\n",
      "Fatima 99\n",
      "Kahlil 40\n"
     ]
    }
   ],
   "source": [
    "f = open(\"Grades.txt\") # First, open the file - you can save the opened file \n",
    "s = f.read()\n",
    "print(s)"
   ]
  },
  {
   "cell_type": "markdown",
   "metadata": {},
   "source": [
    "Notice that when I printed this s, those weird \\n's didn't show up. \n",
    "In a string, \\n is the code that means new line, and when you give it to print, it will print out a new line. Look at this for example:"
   ]
  },
  {
   "cell_type": "code",
   "execution_count": 10,
   "metadata": {
    "collapsed": false
   },
   "outputs": [
    {
     "name": "stdout",
     "output_type": "stream",
     "text": [
      "Hello\n",
      "My\n",
      "Name\n",
      "Is\n",
      "Arya\n"
     ]
    }
   ],
   "source": [
    "print(\"Hello\\nMy\\nName\\nIs\\nArya\")"
   ]
  },
  {
   "cell_type": "markdown",
   "metadata": {},
   "source": [
    "Going back to our opened file, this is just like any normal string. You can do all of the normal string things to it. For example, slicing."
   ]
  },
  {
   "cell_type": "code",
   "execution_count": 13,
   "metadata": {
    "collapsed": false
   },
   "outputs": [
    {
     "data": {
      "text/plain": [
       "'n 80\\nTim 8'"
      ]
     },
     "execution_count": 13,
     "metadata": {},
     "output_type": "execute_result"
    }
   ],
   "source": [
    "s[10:20]"
   ]
  },
  {
   "cell_type": "markdown",
   "metadata": {},
   "source": [
    "For files, the thing you probably want to do first is use the \"splitlines\" method on strings. This will split your string into a list of all the lines:"
   ]
  },
  {
   "cell_type": "code",
   "execution_count": 19,
   "metadata": {
    "collapsed": false
   },
   "outputs": [],
   "source": [
    "split = s.splitlines()"
   ]
  },
  {
   "cell_type": "markdown",
   "metadata": {},
   "source": [
    "Now we can do some data on it. Let's first do a list comprehension to turn this into a lists of lists."
   ]
  },
  {
   "cell_type": "code",
   "execution_count": 20,
   "metadata": {
    "collapsed": false
   },
   "outputs": [
    {
     "data": {
      "text/plain": [
       "[['Arya', '70'],\n",
       " ['Ben', '80'],\n",
       " ['Tim', '87'],\n",
       " ['Fatima', '99'],\n",
       " ['Kahlil', '40']]"
      ]
     },
     "execution_count": 20,
     "metadata": {},
     "output_type": "execute_result"
    }
   ],
   "source": [
    "grades = [x.split() for x in split] # .split() splits the string on the space, so now this is a list of lists. \n",
    "grades"
   ]
  },
  {
   "cell_type": "markdown",
   "metadata": {},
   "source": [
    "Now this is much easier! Now let's see what the average grade is."
   ]
  },
  {
   "cell_type": "code",
   "execution_count": 21,
   "metadata": {
    "collapsed": false
   },
   "outputs": [
    {
     "name": "stdout",
     "output_type": "stream",
     "text": [
      "75.2\n"
     ]
    }
   ],
   "source": [
    "total = 0\n",
    "for line in grades:\n",
    "    total += int(line[1])\n",
    "print(total/len(grades))"
   ]
  },
  {
   "cell_type": "markdown",
   "metadata": {},
   "source": [
    "Looks like we have a good average!"
   ]
  },
  {
   "cell_type": "markdown",
   "metadata": {},
   "source": [
    "## How to write to files. \n",
    "\n",
    "Let's say you want to send some results to your boss in a text file. It's very easy to write things to text files. Here's how you do it. "
   ]
  },
  {
   "cell_type": "code",
   "execution_count": 22,
   "metadata": {
    "collapsed": true
   },
   "outputs": [],
   "source": [
    "w = open(\"newfile.txt\", \"w\") \n",
    "# Notice that second argument \"w\" - This is how you tell python that this file doesn't exist, and you're gonna create it"
   ]
  },
  {
   "cell_type": "code",
   "execution_count": 23,
   "metadata": {
    "collapsed": true
   },
   "outputs": [],
   "source": [
    "print(\"Hello\", file=w)"
   ]
  },
  {
   "cell_type": "code",
   "execution_count": null,
   "metadata": {
    "collapsed": true
   },
   "outputs": [],
   "source": []
  }
 ],
 "metadata": {
  "kernelspec": {
   "display_name": "Python 3",
   "language": "python",
   "name": "python3"
  },
  "language_info": {
   "codemirror_mode": {
    "name": "ipython",
    "version": 3
   },
   "file_extension": ".py",
   "mimetype": "text/x-python",
   "name": "python",
   "nbconvert_exporter": "python",
   "pygments_lexer": "ipython3",
   "version": "3.6.0"
  }
 },
 "nbformat": 4,
 "nbformat_minor": 2
}
