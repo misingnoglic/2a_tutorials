{
 "cells": [
  {
   "cell_type": "markdown",
   "metadata": {},
   "source": [
    "# Tutorial - Strings and Files"
   ]
  },
  {
   "cell_type": "markdown",
   "metadata": {},
   "source": [
    "This tutorial will teach you the following things:\n",
    "\n",
    "1. How to use Jupyter notebooks\n",
    "2. How to use built in string methods\n",
    "3. How to learn about discovering and learning about methods\n",
    "4. How to read online documentation\n",
    "5. How to read from and write from files"
   ]
  },
  {
   "cell_type": "markdown",
   "metadata": {},
   "source": [
    "## Intro to Jupyter Notebooks"
   ]
  },
  {
   "cell_type": "markdown",
   "metadata": {},
   "source": [
    "This is a Jupyter notebook. It is a way to write Python code in your browser, and create an interractive scientific notebook.\n",
    "\n",
    "Each of the little blocks are called \"Cells.\" Cells can either contain text, such as this one, or code, such as the next one. \n",
    "\n",
    "To evaluate a cell, click on the cell, and press shift+enter. \n",
    "\n",
    "Try it on this cell, and then try it on the next cell."
   ]
  },
  {
   "cell_type": "code",
   "execution_count": null,
   "metadata": {
    "collapsed": false
   },
   "outputs": [],
   "source": [
    "print(\"Hello World\")\n",
    "print(\"You have evaluated this cell\")"
   ]
  },
  {
   "cell_type": "markdown",
   "metadata": {},
   "source": [
    "To create a cell, you can either do shift+enter on the last cell, or click \"Insert\" at the top. Clicking \"insert\" is used when you want to create a cell in the middle of the notebook (such as for this assignment). \n",
    "\n",
    "To change the type of a cell from text to code, you can click on the dropdown above, where it says Code (Or Markdown). You can change it to \"Markdown\" for real code. If it says \"Markdown,\" the cell is going to be plain text. If it says \"code\", it is regular Python code.\n",
    "\n",
    "The raw text is formatted using \"Markdown,\" If you want to make your text prettier, you can Google \"markdown\" to learn more. "
   ]
  },
  {
   "cell_type": "markdown",
   "metadata": {},
   "source": [
    "### Project 1: \n",
    "Make a Markdown cell under this one with the name of all of your group members. Put your name first. "
   ]
  },
  {
   "cell_type": "markdown",
   "metadata": {},
   "source": [
    "Talie, Arya, Claire, Ryan"
   ]
  },
  {
   "cell_type": "markdown",
   "metadata": {},
   "source": [
    "### Project 2: \n",
    "Make a cell under this one with a function f(x), which returns x squared. Then, call that function with the parameter 10. Try different things if you can't get it to work the first time"
   ]
  },
  {
   "cell_type": "markdown",
   "metadata": {},
   "source": [
    "### Project 3:\n",
    "Run the code below this cell. Submit the number that it gives to TeachBack. You'll learn what it does later, but you can guess right now. "
   ]
  },
  {
   "cell_type": "code",
   "execution_count": null,
   "metadata": {
    "collapsed": false
   },
   "outputs": [],
   "source": [
    "f = int(open(\"num.txt\").read())\n",
    "print(f*100)"
   ]
  }
 ],
 "metadata": {
  "kernelspec": {
   "display_name": "Python 3",
   "language": "python",
   "name": "python3"
  },
  "language_info": {
   "codemirror_mode": {
    "name": "ipython",
    "version": 3
   },
   "file_extension": ".py",
   "mimetype": "text/x-python",
   "name": "python",
   "nbconvert_exporter": "python",
   "pygments_lexer": "ipython3",
   "version": "3.6.0"
  }
 },
 "nbformat": 4,
 "nbformat_minor": 2
}
