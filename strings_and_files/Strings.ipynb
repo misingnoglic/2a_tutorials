{
 "cells": [
  {
   "cell_type": "markdown",
   "metadata": {},
   "source": [
    "# Tutorial - Strings"
   ]
  },
  {
   "cell_type": "markdown",
   "metadata": {},
   "source": [
    "This tutorial will teach you the following things:\n",
    "\n",
    "1. How to use built in string methods\n",
    "2. How to learn about discovering and learning about methods\n",
    "3. How to read online documentation\n",
    "4. How to read from and write from files\n",
    "\n",
    "As a rule to make this much more effective, "
   ]
  },
  {
   "cell_type": "markdown",
   "metadata": {},
   "source": [
    "## Part 1: Review"
   ]
  },
  {
   "cell_type": "markdown",
   "metadata": {},
   "source": [
    "We already know what strings are, but just for a review:\n",
    "A string is a list of characters, which are like a word in Python.\n",
    "They let you store text."
   ]
  },
  {
   "cell_type": "code",
   "execution_count": null,
   "metadata": {
    "collapsed": false
   },
   "outputs": [],
   "source": [
    "x = \"Hello!\"\n",
    "print(x)"
   ]
  },
  {
   "cell_type": "markdown",
   "metadata": {},
   "source": [
    "We can also get strings from user input"
   ]
  },
  {
   "cell_type": "code",
   "execution_count": null,
   "metadata": {
    "collapsed": false
   },
   "outputs": [],
   "source": [
    "name = input(\"What is your name: \")\n",
    "print(name)"
   ]
  },
  {
   "cell_type": "markdown",
   "metadata": {},
   "source": [
    "You can also add strings together using the + sign"
   ]
  },
  {
   "cell_type": "code",
   "execution_count": null,
   "metadata": {
    "collapsed": false
   },
   "outputs": [],
   "source": [
    "print(\"Hello \"+name)"
   ]
  },
  {
   "cell_type": "markdown",
   "metadata": {},
   "source": [
    "You can get specific indexes of strings by using the indexing operations"
   ]
  },
  {
   "cell_type": "code",
   "execution_count": null,
   "metadata": {
    "collapsed": false
   },
   "outputs": [],
   "source": [
    "print(x[1]) # Item at index 1 (the second item)\n",
    "print(x[1:4]) # from index 1 to index 4"
   ]
  },
  {
   "cell_type": "markdown",
   "metadata": {},
   "source": [
    "You can also use the str() function to turn something else into a string. This is very useful when adding other things to other strings."
   ]
  },
  {
   "cell_type": "code",
   "execution_count": null,
   "metadata": {
    "collapsed": false
   },
   "outputs": [],
   "source": [
    "num = 99\n",
    "s = str(num)\n",
    "print(s)\n",
    "print(s + \" Bottles of milk on the wall\")"
   ]
  },
  {
   "cell_type": "markdown",
   "metadata": {},
   "source": [
    "To get the length of the string, you can use the len() function"
   ]
  },
  {
   "cell_type": "code",
   "execution_count": null,
   "metadata": {
    "collapsed": false
   },
   "outputs": [],
   "source": [
    "print(len(s))\n",
    "print(len(x))"
   ]
  },
  {
   "cell_type": "markdown",
   "metadata": {},
   "source": [
    "To go through each character in a string, you can loop through the characters in a for loop"
   ]
  },
  {
   "cell_type": "code",
   "execution_count": null,
   "metadata": {
    "collapsed": false
   },
   "outputs": [],
   "source": [
    "def count_a(s):\n",
    "    \"\"\"\n",
    "    This function counts the number of a's in a string s\n",
    "    count_a(\"hello\") = 0\n",
    "    count_a(\"arya\") = 2\n",
    "    \"\"\"\n",
    "    counter = 0\n",
    "    for character in s:\n",
    "        if character == \"a\":\n",
    "            counter = counter + 1\n",
    "    return counter\n",
    "\n",
    "print(count_a(\"arya\"))"
   ]
  },
  {
   "cell_type": "markdown",
   "metadata": {},
   "source": [
    "### Project 1:\n",
    "\n",
    "Write a function that counts the number of vowels in a string. Count the number of vowels in the string g (which has been created for you, don't touch that line), and submit it on TeachBack. For this situation, y is never a vowel. \n",
    "\n",
    "HINT: It's very similar to the above code, but you need to change the if statement."
   ]
  },
  {
   "cell_type": "code",
   "execution_count": null,
   "metadata": {
    "collapsed": false
   },
   "outputs": [],
   "source": [
    "def count_vowels(s):\n",
    "    pass # replace this with your code\n",
    "\n",
    "\n",
    "# Once you finish writing count_vowels, the following code should give you the number of vowels in Romeo and Juliet. \n",
    "# It's hard to test, but you can guess that it will be a lot of vowels. \n",
    "g = open(\"romeo_and_juliet.txt\").read() # open the file romeo_and_juliet.txt and turn it into a giant string\n",
    "print(count_vowels(g))"
   ]
  },
  {
   "cell_type": "markdown",
   "metadata": {},
   "source": [
    "## Part 2: Built in Methods"
   ]
  },
  {
   "cell_type": "markdown",
   "metadata": {},
   "source": [
    "Strings have a method called count. Here are a few examples of what it does, and how to call it. \n",
    "\n",
    "What do you think it does?\n",
    "\n",
    "Submit on Teachback what you think count does. \n",
    "\n",
    "Here are a few examples:"
   ]
  },
  {
   "cell_type": "code",
   "execution_count": null,
   "metadata": {
    "collapsed": false
   },
   "outputs": [],
   "source": [
    "s = \"hello World\"\n",
    "\n",
    "x = s.count(\"o\")\n",
    "print(x)"
   ]
  },
  {
   "cell_type": "markdown",
   "metadata": {},
   "source": [
    "Write a function using the \"count\" method on strings to return the number of a's in a string. This should be much shorter than the one given to you previously. "
   ]
  },
  {
   "cell_type": "code",
   "execution_count": null,
   "metadata": {
    "collapsed": true
   },
   "outputs": [],
   "source": [
    "def count_as_better(s):\n",
    "    pass # Replace this \"pass\" with your code. Use s.count() to count the number of a's and return that number"
   ]
  },
  {
   "cell_type": "markdown",
   "metadata": {},
   "source": [
    "Here is another example of a method on s. It is called lower(), and it turns the string into a lower case version of itself. Type on teachback what you might think could be a good use for this method. Discuss with your group. "
   ]
  },
  {
   "cell_type": "code",
   "execution_count": null,
   "metadata": {
    "collapsed": false
   },
   "outputs": [],
   "source": [
    "s.lower() # Turns the string into a lower case version of itself"
   ]
  },
  {
   "cell_type": "markdown",
   "metadata": {},
   "source": [
    "What are some other methods that strings might have? Try a few by doing s.whateveryouthink(). Here is another example, but try to find your own. Don't google it yet, just try what you think might be a method on a string. "
   ]
  },
  {
   "cell_type": "code",
   "execution_count": null,
   "metadata": {
    "collapsed": true
   },
   "outputs": [],
   "source": [
    "# Write some test code here. "
   ]
  },
  {
   "cell_type": "markdown",
   "metadata": {},
   "source": [
    "Did you find any other methods? Type any you found on Teachback"
   ]
  },
  {
   "cell_type": "markdown",
   "metadata": {},
   "source": [
    "### How to find methods!"
   ]
  },
  {
   "cell_type": "markdown",
   "metadata": {},
   "source": [
    "Obviously, programmers don't just guess what methods are named. It's a good skill to know though, how to guess what the thing you want to do is called, because you're often right. Remember that programming languages are made by people too :)"
   ]
  },
  {
   "cell_type": "markdown",
   "metadata": {},
   "source": [
    "However, for an object (such as a string), there is a way to get all of the methods on that object! Simply call the dir() function on the object, like below. Ignore the functions with \\__'s around them"
   ]
  },
  {
   "cell_type": "code",
   "execution_count": null,
   "metadata": {
    "collapsed": false
   },
   "outputs": [],
   "source": [
    "x = \"Hello\"\n",
    "dir(x)"
   ]
  },
  {
   "cell_type": "markdown",
   "metadata": {},
   "source": [
    "Try messing with a few of these functions, and figuring out what they do. Submit on TeachBack the ones you figured out what they do. If you get an error about the number of arguments, or the type of arguments, try messing with the types of arguments. "
   ]
  },
  {
   "cell_type": "code",
   "execution_count": null,
   "metadata": {
    "collapsed": true
   },
   "outputs": [],
   "source": [
    "# Here is a cell for messing with code\n",
    "\n"
   ]
  },
  {
   "cell_type": "markdown",
   "metadata": {},
   "source": [
    "### AFTER YOU HAVE TRIED MESSING WITH CODE"
   ]
  },
  {
   "cell_type": "markdown",
   "metadata": {},
   "source": [
    "Again, or course, there is a better way to find out what a function does than simply mess with it. There is another function, called help(), which will return the docstring for the function you pass in. For example, if we want to know what s.zfill does:"
   ]
  },
  {
   "cell_type": "code",
   "execution_count": null,
   "metadata": {
    "collapsed": false
   },
   "outputs": [],
   "source": [
    "help(s.zfill)"
   ]
  },
  {
   "cell_type": "markdown",
   "metadata": {},
   "source": [
    "Now we know we can try something like this:"
   ]
  },
  {
   "cell_type": "code",
   "execution_count": null,
   "metadata": {
    "collapsed": false
   },
   "outputs": [],
   "source": [
    "x.zfill(10) # Pads x with some extra zeroes"
   ]
  },
  {
   "cell_type": "markdown",
   "metadata": {},
   "source": [
    "## Project 2: \n",
    "Mess around with the s.islower() method. \n",
    "First, what do you think it does? (Hint: It doesn't take any parameters) - Try it on different strings, and then submit on TeachBack what you think it does. \n",
    "\n",
    "Then - run the help function on s.islower, and see what the documentation says. \n",
    "Finally - submit on teachback one string that would make s.islower() True, and one that makes s.islower() False. "
   ]
  },
  {
   "cell_type": "markdown",
   "metadata": {},
   "source": [
    "## Another way to learn about methods\n",
    "\n",
    "Using the dir() and help() functions is useful when you are just messing around in the terminal, but there's a better way to see all of the methods that a string has.\n",
    "\n",
    "The Python documentation has a section of their website with descriptions of these methods:\n",
    "https://docs.python.org/3.6/library/stdtypes.html#string-methods\n",
    "\n",
    "Go on it, and then try to answer these questions using methods on strings:"
   ]
  },
  {
   "cell_type": "code",
   "execution_count": null,
   "metadata": {
    "collapsed": true
   },
   "outputs": [],
   "source": [
    "s = \"hello World\""
   ]
  },
  {
   "cell_type": "code",
   "execution_count": null,
   "metadata": {
    "collapsed": false
   },
   "outputs": [],
   "source": [
    "# Write the code to turn s into HELLO WORLD\n",
    "s.upper()"
   ]
  },
  {
   "cell_type": "code",
   "execution_count": null,
   "metadata": {
    "collapsed": false
   },
   "outputs": [],
   "source": [
    "# Write the code to turn  s into hello world\n",
    "s.lower()"
   ]
  },
  {
   "cell_type": "code",
   "execution_count": null,
   "metadata": {
    "collapsed": false
   },
   "outputs": [],
   "source": [
    "# Write the code to turn s into Hello world\n",
    "s.capitalize()"
   ]
  }
 ],
 "metadata": {
  "kernelspec": {
   "display_name": "Python 3",
   "language": "python",
   "name": "python3"
  },
  "language_info": {
   "codemirror_mode": {
    "name": "ipython",
    "version": 3
   },
   "file_extension": ".py",
   "mimetype": "text/x-python",
   "name": "python",
   "nbconvert_exporter": "python",
   "pygments_lexer": "ipython3",
   "version": "3.6.0"
  }
 },
 "nbformat": 4,
 "nbformat_minor": 2
}
