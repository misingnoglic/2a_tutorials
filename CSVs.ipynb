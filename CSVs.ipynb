{
 "cells": [
  {
   "cell_type": "markdown",
   "metadata": {},
   "source": [
    "# How to use and manipulate CSV files in Python"
   ]
  },
  {
   "cell_type": "markdown",
   "metadata": {},
   "source": [
    "## Part 1 - What is a CSV file"
   ]
  },
  {
   "cell_type": "markdown",
   "metadata": {},
   "source": [
    "A csv file is a type of file where the data is structured into rows and columns, using commas and new lines. They're commonly used to represent data in a spreadsheet - such as from Microsoft Excel or Google Sheets.\n",
    "\n",
    "For example, if I had this spreadsheet on Google Sheets or Excel\n",
    "\n",
    "![http://i.imgur.com/9ig18Kt.png](http://i.imgur.com/9ig18Kt.png)\n",
    "\n",
    "And then I went to File->Download As->Comma-separated values and downloaded the file, it would look like this:"
   ]
  },
  {
   "cell_type": "raw",
   "metadata": {},
   "source": [
    "Item,Quantity,Price per item (in dollars)\n",
    "Bag of carrots,3,3\n",
    "Box of cookies,2,4\n",
    "Brie Cheese,1,4"
   ]
  },
  {
   "cell_type": "markdown",
   "metadata": {},
   "source": [
    "In this example, the first row has three things separated by commas. For each of the following rows, the first item correspons to the first item in the first row (so Box of cookies is an item, 2 is a quantity, and 4 is a price per item. \n",
    "\n",
    "P.S. If you can't remember which are rows and which are columns, you can think of columns like the roman columns (going up and down), and rows like running (left to right).\n",
    "\n",
    "This shows probably the biggest reason we care about CSV files. They're structured, so they're easy to read programmatically, but they're also easy to just give to someone who knows nothing about code, so they can just open it in their favorite spreadsheet program. Many times when downloading large data sets from online, they will give you CSV files to read."
   ]
  },
  {
   "cell_type": "markdown",
   "metadata": {},
   "source": [
    "## Part 2 - Reading CSV Files"
   ]
  },
  {
   "cell_type": "markdown",
   "metadata": {},
   "source": [
    "### Part 2a - Reading them manually"
   ]
  },
  {
   "cell_type": "markdown",
   "metadata": {},
   "source": [
    "Remember that CSV files are just regular files with a standard formatting.\n",
    "Therefore, you can just read them like a regular file, and get the data you want.\n",
    "\n",
    "For example, if we want to figure out how much we will have to pay in the end, we have to go through the rows, and multiply the price by the quantity, and add them all up."
   ]
  },
  {
   "cell_type": "code",
   "execution_count": null,
   "metadata": {
    "collapsed": false
   },
   "outputs": [],
   "source": [
    "csv_text = open(\"shopping_list.csv\").read() # How to turn a file into a string\n",
    "csv_text"
   ]
  },
  {
   "cell_type": "code",
   "execution_count": null,
   "metadata": {
    "collapsed": false
   },
   "outputs": [],
   "source": [
    "# Now we have to split it on the new lines, so each \n",
    "csv_text_split = csv_text.split(\"\\n\")\n",
    "print(csv_text_split)"
   ]
  },
  {
   "cell_type": "code",
   "execution_count": null,
   "metadata": {
    "collapsed": false
   },
   "outputs": [],
   "source": [
    "# We can get rid of the first line, since that's just the headers. \n",
    "# We know that quantity is index 1, and price is index 2.\n",
    "csv_text_split.pop(0) # Delete the line at index 0 - since it's the header"
   ]
  },
  {
   "cell_type": "code",
   "execution_count": null,
   "metadata": {
    "collapsed": false
   },
   "outputs": [],
   "source": [
    "# And now we just iterate through each line, and take out the information we want. \n",
    "total_price = 0\n",
    "for line in csv_text_split: # For each line\n",
    "    new_line = line.split(\",\") # split the line on the comma, so the line is now a list [Item,Quantity,Price]\n",
    "    quantity = int(new_line[1]) # turn the thing at index 1 into an int\n",
    "    price_per_item = int(new_line[2]) # take the dollar sign off the thing at index 2, and turn it into an int\n",
    "    \n",
    "    total_price += quantity*price_per_item\n",
    "\n",
    "print(\"Total Price: ${}\".format(total_price)) "
   ]
  },
  {
   "cell_type": "markdown",
   "metadata": {},
   "source": [
    "### Part 2b - Using the CSV library"
   ]
  },
  {
   "cell_type": "markdown",
   "metadata": {},
   "source": [
    "That wasn't awful - but there's a lot of code in there that would be repeated in all CSVs. In addition, our code doesn't handle some special cases (What if there are commas in the item, for example?)\n",
    "\n",
    "Because of this, Python comes with a CSV library that makes it extremely easy to turn a CSV file into a list of lists, so that you can parse it more easily. Let me show you how it works:"
   ]
  },
  {
   "cell_type": "code",
   "execution_count": null,
   "metadata": {
    "collapsed": false
   },
   "outputs": [],
   "source": [
    "# First step: import the library\n",
    "import csv\n",
    "\n",
    "# Second step: pass the open file into csv.reader\n",
    "csv_lists = csv.reader(open(\"shopping_list.csv\"))\n",
    "\n",
    "# Third step: iterate through the file you created:\n",
    "for line in csv_lists: \n",
    "    print(line)"
   ]
  },
  {
   "cell_type": "markdown",
   "metadata": {},
   "source": [
    "## CSV1\n",
    "Add a few lines ot the shopping_list.csv file using a code editor (e.g. atom) or a spreadsheet program (e.g. excel, but then store it as a CSV). Then execute the code above to print out the lines of data from the file."
   ]
  },
  {
   "cell_type": "markdown",
   "metadata": {},
   "source": [
    "We can find the total cost by looking at each line and multiplying the 2nd and 3rd values, quantity times price."
   ]
  },
  {
   "cell_type": "code",
   "execution_count": null,
   "metadata": {
    "collapsed": false
   },
   "outputs": [],
   "source": [
    "csv_lists = csv.reader(open(\"shopping_list.csv\"))\n",
    "total_cost = 0\n",
    "next(csv_lists) # this advances the csv_lists by one, skipping over the header line\n",
    "\n",
    "costs = [int(line[2])* int(line[1]) for line in csv_lists]  # why do we need the int(...)'s\n",
    "print(costs)\n",
    "\n",
    "print('the total cost is $',sum(costs))"
   ]
  },
  {
   "cell_type": "markdown",
   "metadata": {},
   "source": [
    "Something to keep in mind is that csv.reader isn't exactly a list of lists. It just goes through each line, and then becomes empty. So you can't read from csv_lists twice - the second time it will just be empty. This also means you can't do indexing on it. "
   ]
  },
  {
   "cell_type": "code",
   "execution_count": null,
   "metadata": {
    "collapsed": false
   },
   "outputs": [],
   "source": [
    "print(\"here are the items in the csv_lists variable\")\n",
    "for line in csv_lists:\n",
    "    print(line)"
   ]
  },
  {
   "cell_type": "markdown",
   "metadata": {},
   "source": [
    "The reason the csv library does this is in case you had a very large CSV file - this way, you don't have to store it all in memory, you can just read it line by line.\n",
    "\n",
    "To read from it more than once, you can convert it into a list after reading it. This will store the entire list in your computer's memory, and allow you to use it like a list of lists. "
   ]
  },
  {
   "cell_type": "code",
   "execution_count": null,
   "metadata": {
    "collapsed": false
   },
   "outputs": [],
   "source": [
    "csv_lists = list(csv.reader(open(\"shopping_list.csv\")))\n",
    "print(csv_lists)\n",
    "\n",
    "print(csv_lists[1])"
   ]
  },
  {
   "cell_type": "markdown",
   "metadata": {},
   "source": [
    "With it as a list, we can also use a List Comprehension to get the total price."
   ]
  },
  {
   "cell_type": "code",
   "execution_count": null,
   "metadata": {
    "collapsed": true
   },
   "outputs": [],
   "source": [
    "csv_lists = csv_lists[1:] # Take off the headers"
   ]
  },
  {
   "cell_type": "code",
   "execution_count": null,
   "metadata": {
    "collapsed": false
   },
   "outputs": [],
   "source": [
    "totals = [int(line[1])*int(line[2]) for line in csv_lists]\n",
    "print(totals)\n",
    "print(sum(totals))"
   ]
  },
  {
   "cell_type": "markdown",
   "metadata": {},
   "source": [
    "Now you have a list of lists, which is the data from your CSV.\n",
    "\n",
    "Try writing code that goes through csv_lists, and prints out the item you're spending the most money on."
   ]
  },
  {
   "cell_type": "markdown",
   "metadata": {},
   "source": [
    "## CSV2\n",
    "Write a function which finds the total number of items you are buying. Use a list comprehension to get the list of quantities of each item, then sum it."
   ]
  },
  {
   "cell_type": "code",
   "execution_count": null,
   "metadata": {
    "collapsed": false
   },
   "outputs": [],
   "source": [
    "def total_num_of_items(csv_lists):\n",
    "    pass\n",
    "\n",
    "csv_lists = list(csv.reader(open(\"shopping_list.csv\")))\n",
    "print(total_num_of_items(csv_lists))"
   ]
  },
  {
   "cell_type": "markdown",
   "metadata": {},
   "source": [
    "You might have noticed a lot of annoying things about working with this library while working with it. For one, you have to drop the first row, since it doesn't contain any data you want. Secondly, you have to refer to the items by index, which means you have to know the index of what you want.\n",
    "\n",
    "These issues can be solved with the DictReader module of the csv library. Let me show you how that one works, and what it produces:"
   ]
  },
  {
   "cell_type": "code",
   "execution_count": null,
   "metadata": {
    "collapsed": false
   },
   "outputs": [],
   "source": [
    "# csv library is already imported\n",
    "csv_file = csv.DictReader(open(\"shopping_list.csv\"))\n",
    "csv_list = list(csv_file)\n",
    "\n",
    "# now let's see what's inside\n",
    "for line in csv_list:\n",
    "    print(line['Item'],line)\n",
    "print(list(csv_list))"
   ]
  },
  {
   "cell_type": "markdown",
   "metadata": {},
   "source": [
    "As you can see, the DictReader takes in a CSV file, and gives you a bunch of dictionaries, where the key is the header, and the value is the value at that line. This makes it easy to write very readable code, as you can use the name of the header to get what you want. For example, to rewrite the \"total cost\" code:"
   ]
  },
  {
   "cell_type": "code",
   "execution_count": null,
   "metadata": {
    "collapsed": false
   },
   "outputs": [],
   "source": [
    "csv_file = csv.DictReader(open(\"shopping_list.csv\"))\n",
    "total_cost = 0\n",
    "for line in csv_file:\n",
    "    quantity = int(line['Quantity'])\n",
    "    price = int(line['Price per item in Dollars'])\n",
    "    total_cost += quantity*price\n",
    "print(\"Total cost is: ${}\".format(total_cost))"
   ]
  },
  {
   "cell_type": "markdown",
   "metadata": {},
   "source": [
    "The list comprehension version looks like this"
   ]
  },
  {
   "cell_type": "code",
   "execution_count": null,
   "metadata": {
    "collapsed": false
   },
   "outputs": [],
   "source": [
    "csv_file = csv.DictReader(open(\"shopping_list.csv\"))\n",
    "print(sum(\n",
    "    [int(line['Quantity'])*int(line['Price per item in Dollars']) for line in csv_file]\n",
    "))"
   ]
  },
  {
   "cell_type": "markdown",
   "metadata": {},
   "source": [
    "It's up to you which version you want to use - whatever you're more comfortable with and you think looks the best."
   ]
  },
  {
   "cell_type": "markdown",
   "metadata": {
    "collapsed": true
   },
   "source": [
    "## Part 3: Writing a CSV file"
   ]
  },
  {
   "cell_type": "markdown",
   "metadata": {},
   "source": [
    "Like reading CSV files, we don't necessarily need the CSV library to create a CSV. However, It makes it a lot easier. In fact, I will only go over how to create one using the CSV library."
   ]
  },
  {
   "cell_type": "markdown",
   "metadata": {},
   "source": [
    "Let's say we want to create a CSV of the first 100 numbers, and their values at x^2, x^3, and sqrt(x)\n",
    "Just like there's a csv.reader and a csv.DictReader, there's also a csv.writer and a csv.DictWriter. I'll show both ways of using them.\n",
    "\n",
    "This also shows the \"with\" method of opening a file."
   ]
  },
  {
   "cell_type": "code",
   "execution_count": null,
   "metadata": {
    "collapsed": false
   },
   "outputs": [],
   "source": [
    "import math\n",
    "# First way, using CSV writer\n",
    "with open(\"number_values.csv\", \"w\") as new_csv: # we add the extra 'w' parameter for saying this file will be written to\n",
    "    writer = csv.writer(new_csv)\n",
    "    writer.writerow([\"Number\", \"Number Squared\", \"Number Cubed\", \"Square Root of Number\"])\n",
    "    for i in range(1,101):\n",
    "        writer.writerow([i, i**2, i**3, round(math.sqrt(i),2)])\n",
    "# Notice there's no \"close\" statement"
   ]
  },
  {
   "cell_type": "code",
   "execution_count": null,
   "metadata": {
    "collapsed": false
   },
   "outputs": [],
   "source": [
    "with open(\"number_values.csv\") as f:\n",
    "    print(f.read())"
   ]
  },
  {
   "cell_type": "markdown",
   "metadata": {},
   "source": [
    "The other way to do this is to use a DictWriter - I'll show you how to do that below.\n",
    "Remember that the way the DictWriter worked was that each line was a dictionary mapping the header to its value at that line. The writer will work similarly, for each line, we will write a dictionary."
   ]
  },
  {
   "cell_type": "code",
   "execution_count": null,
   "metadata": {
    "collapsed": false
   },
   "outputs": [],
   "source": [
    "with open(\"number_values2.csv\", \"w\") as new_csv:\n",
    "    # we have to tell the writer what our top fields are\n",
    "    writer = csv.DictWriter(new_csv, fieldnames=[\"num\", \"squared\", \"cubed\", \"sqrt\"])\n",
    "    writer.writeheader() # to write the header\n",
    "    for i in range(1,101):\n",
    "        writer.writerow({\"num\": i, \"squared\": i**2, \"cubed\": i**3, \"sqrt\": round(math.sqrt(i), 2)})\n",
    "with open(\"number_values2.csv\") as f:\n",
    "    print(f.read())\n",
    "    "
   ]
  },
  {
   "cell_type": "markdown",
   "metadata": {},
   "source": [
    "As you see, they produce the same output. It's up to you which one you want to do, depending on the type of CSV file you're trying to read/write from."
   ]
  },
  {
   "cell_type": "markdown",
   "metadata": {},
   "source": [
    "## Real Data\n",
    "\n"
   ]
  },
  {
   "cell_type": "markdown",
   "metadata": {},
   "source": [
    "### Real Estate data"
   ]
  },
  {
   "cell_type": "markdown",
   "metadata": {},
   "source": [
    "Download this CSV file: http://samplecsvs.s3.amazonaws.com/Sacramentorealestatetransactions.csv\n",
    "\n",
    "Found from here: https://support.spatialkey.com/spatialkey-sample-csv-data/"
   ]
  },
  {
   "cell_type": "markdown",
   "metadata": {},
   "source": [
    "\"The Sacramento real estate transactions file is a list of 985 real estate transactions in the Sacramento area reported over a five-day period, as reported by the Sacramento Bee. Note that this file has address level information that you can choose to geocode, or you can use the existing latitude/longitude in the file.\"\n",
    "\n",
    "We've already downloaded it into the file RE.csv in this folder, but you can download it again if you want. You should open it in excel or googlesheets and look at the data as a spreadsheet.\n",
    "\n",
    "Next we look at the data using Python, and observe that it has 12 columns of data."
   ]
  },
  {
   "cell_type": "code",
   "execution_count": null,
   "metadata": {
    "collapsed": false
   },
   "outputs": [],
   "source": [
    "csv_file = csv.DictReader(open('RE.csv'))\n",
    "csv_list = list(csv_file)\n",
    "\n",
    "for row in csv_list:\n",
    "    pass#print(row)\n"
   ]
  },
  {
   "cell_type": "markdown",
   "metadata": {},
   "source": [
    "Finish these functions - the parameter will be a string which is the file name. We solve the first one for you!"
   ]
  },
  {
   "cell_type": "code",
   "execution_count": null,
   "metadata": {
    "collapsed": false
   },
   "outputs": [],
   "source": [
    "# What is the average price of house sold?\n",
    "def average_price(csv_filename):\n",
    "    csv_file = csv.DictReader(open(csv_filename))\n",
    "    prices = [int(line['price']) for line in csv_file]\n",
    "    return( sum(prices)/len(prices))\n",
    "\n",
    "print('the average price is',average_price(\"RE.csv\"))\n"
   ]
  },
  {
   "cell_type": "code",
   "execution_count": null,
   "metadata": {
    "collapsed": false
   },
   "outputs": [],
   "source": [
    "# return a list of all house with at least the specified number of bedroom and under the specified price\n",
    "def find_house(bedrooms,max_price):\n",
    "    pass\n",
    "\n",
    "z = OrderedDict([('street', '3526 HIGH ST'), ('city', 'SACRAMENTO'), ('zip', '95838'), ('state', 'CA'), ('beds', '2'), ('baths', '1'), ('sq__ft', '836'), ('type', 'Residential'), ('sale_date', 'Wed May 21 00:00:00 EDT 2008'), ('price', '59222'), ('latitude', '38.631913'), ('longitude', '-121.434879')])\n",
    "print(z)"
   ]
  },
  {
   "cell_type": "code",
   "execution_count": null,
   "metadata": {
    "collapsed": true
   },
   "outputs": [],
   "source": [
    "# What is the most expensive house?\n",
    "def price_of_most_expensive_house(csv_file):\n",
    "    # first find the prices then take the max and return it\n",
    "    pass # write your code here"
   ]
  },
  {
   "cell_type": "code",
   "execution_count": null,
   "metadata": {
    "collapsed": true
   },
   "outputs": [],
   "source": [
    "# Which zipcodes have the most expensive house sold?\n",
    "def addresses_of_most_expensive_houses(csv_file):\n",
    "    # first find the price of the most expensive house (by calling previous function!)\n",
    "    # then find the addresses of the houses that cost M using a list comprehension\n",
    "    # then return that list\n",
    "    pass # write your code here"
   ]
  },
  {
   "cell_type": "code",
   "execution_count": null,
   "metadata": {
    "collapsed": true
   },
   "outputs": [],
   "source": [
    "# Which house had the highest ratio of square feet to price\n",
    "# In other words: which house was the most expensive per square foot?\n",
    "# Return the address of the house\n",
    "def most_expensive_house_per_sq_ft(csv_file):\n",
    "    pass # write your code here\n",
    "    # hint: find the list of prices per square foot using a list comprehension\n",
    "    # then find the max of those values\n",
    "    # then using another list comprehension to find the address of the house with the highest cost/sqft\n",
    "    # and return that"
   ]
  },
  {
   "cell_type": "markdown",
   "metadata": {},
   "source": [
    "### Number 2:"
   ]
  },
  {
   "cell_type": "markdown",
   "metadata": {},
   "source": [
    "Download an interesting CSV file online, and write code to find an interesting fact about it!\n",
    "\n",
    "Here is an example of somewhere you can get an interesting CSV file: https://catalog.data.gov/dataset?res_format=CSV"
   ]
  }
 ],
 "metadata": {
  "kernelspec": {
   "display_name": "Python 3",
   "language": "python",
   "name": "python3"
  },
  "language_info": {
   "codemirror_mode": {
    "name": "ipython",
    "version": 3
   },
   "file_extension": ".py",
   "mimetype": "text/x-python",
   "name": "python",
   "nbconvert_exporter": "python",
   "pygments_lexer": "ipython3",
   "version": "3.6.0"
  }
 },
 "nbformat": 4,
 "nbformat_minor": 0
}
