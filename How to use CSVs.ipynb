{
 "cells": [
  {
   "cell_type": "markdown",
   "metadata": {},
   "source": [
    "# How to use and manipulate CSV files in Python"
   ]
  },
  {
   "cell_type": "markdown",
   "metadata": {},
   "source": [
    "## Part 1 - What is a CSV file"
   ]
  },
  {
   "cell_type": "markdown",
   "metadata": {},
   "source": [
    "A csv file is a type of file where the data is structured into rows and columns, using commas and new lines. They're commonly used to represent data in a spreadsheet - such as from Microsoft Excel or Google Sheets.\n",
    "\n",
    "For example, if I had this spreadsheet on Google Sheets:\n",
    "\n",
    "![http://i.imgur.com/9ig18Kt.png](http://i.imgur.com/9ig18Kt.png)\n",
    "\n",
    "And then I went to File->Download As->Comma-separated values and downloaded the file, it would look like this:"
   ]
  },
  {
   "cell_type": "raw",
   "metadata": {},
   "source": [
    "Item,Quantity,Price per item\n",
    "Bag of carrots,3,$3\n",
    "Box of cookies,2,$4\n",
    "Brie Cheese,1,$4"
   ]
  },
  {
   "cell_type": "markdown",
   "metadata": {},
   "source": [
    "In this example, the first row has three things separated by commas. For each of the following row, the first item correspons to the first item in the first row (so Bag of carrots is an item, 3 is a quantity, and $3 is a price per item. \n",
    "\n",
    "P.S. If you can't remember which are rows and which are columns, you can think of columns like the roman columns (going up and down), and rows like running (left to right).\n",
    "\n",
    "This shows probably the biggest reason we care about CSV files. They're structured, so they're easy to read programmatically, but they're also easy to just give to someone who knows nothing about code, so they can just open it in their favorite spreadsheet program. Many times when downloading large data sets from online, they will give you CSV files to read."
   ]
  },
  {
   "cell_type": "markdown",
   "metadata": {},
   "source": [
    "## Part 2 - Reading CSV Files"
   ]
  },
  {
   "cell_type": "markdown",
   "metadata": {},
   "source": [
    "### Part 2a - Reading them manually"
   ]
  },
  {
   "cell_type": "markdown",
   "metadata": {},
   "source": [
    "Remember that CSV files are just regular files with a standard formatting.\n",
    "Therefore, you can just read them like a regular file, and get the data you want.\n",
    "\n",
    "For example, if we want to figure out how much we will have to pay in the end, we have to go through the rows, and multiply the price by the quantity, and add them all up."
   ]
  },
  {
   "cell_type": "code",
   "execution_count": 2,
   "metadata": {
    "collapsed": false
   },
   "outputs": [
    {
     "name": "stdout",
     "output_type": "stream",
     "text": [
      "Item,Quantity,Price per item\n",
      "Bag of carrots,3,$3\n",
      "Box of cookies,2,$4\n",
      "Brie Cheese,1,$4\n"
     ]
    }
   ],
   "source": [
    "csv_text = open(\"shopping_list.csv\").read() # How to turn a file into a string\n",
    "print (csv_text)"
   ]
  },
  {
   "cell_type": "code",
   "execution_count": 3,
   "metadata": {
    "collapsed": false
   },
   "outputs": [
    {
     "name": "stdout",
     "output_type": "stream",
     "text": [
      "['Item,Quantity,Price per item', 'Bag of carrots,3,$3', 'Box of cookies,2,$4', 'Brie Cheese,1,$4']\n"
     ]
    }
   ],
   "source": [
    "# Now we have to split it on the new lines, so each \n",
    "csv_text_split = csv_text.split(\"\\n\")\n",
    "print(csv_text_split)"
   ]
  },
  {
   "cell_type": "code",
   "execution_count": 4,
   "metadata": {
    "collapsed": false
   },
   "outputs": [
    {
     "data": {
      "text/plain": [
       "'Item,Quantity,Price per item'"
      ]
     },
     "execution_count": 4,
     "metadata": {},
     "output_type": "execute_result"
    }
   ],
   "source": [
    "# We can get rid of the first line, since that's just the headers. We know that quantity is index 1, and price is index 2.\n",
    "csv_text_split.pop(0) # Delete the line at index 0 - since it's the headers"
   ]
  },
  {
   "cell_type": "code",
   "execution_count": 5,
   "metadata": {
    "collapsed": false
   },
   "outputs": [
    {
     "name": "stdout",
     "output_type": "stream",
     "text": [
      "Total Price: $21\n"
     ]
    }
   ],
   "source": [
    "# And now we just iterate through each line, and take out the information we want. \n",
    "total_price = 0\n",
    "for line in csv_text_split: # For each line\n",
    "    new_line = line.split(\",\") # split the line on the comma, so the line is now a list [Item,Quantity,Price]\n",
    "    quantity = int(new_line[1]) # turn the thing at index 1 into an int\n",
    "    price_per_item = int(new_line[2][1:]) # take the dollar sign off the thing at index 2, and turn it into an int\n",
    "    \n",
    "    total_price += quantity*price_per_item\n",
    "\n",
    "print(\"Total Price: ${}\".format(total_price)) "
   ]
  },
  {
   "cell_type": "markdown",
   "metadata": {},
   "source": [
    "### Part 2b - Using the CSV library"
   ]
  },
  {
   "cell_type": "markdown",
   "metadata": {},
   "source": [
    "That wasn't awful - but there's a lot of code in there that would be repeated in all CSVs. In addition, our code doesn't handle some special cases (What if there are commas in the item, for example?)\n",
    "\n",
    "Because of this, Python comes with a CSV library that makes it extremely easy to turn a CSV file into a list of lists, so that you can parse it more easily. Let me show you how it works:"
   ]
  },
  {
   "cell_type": "code",
   "execution_count": 6,
   "metadata": {
    "collapsed": false
   },
   "outputs": [
    {
     "name": "stdout",
     "output_type": "stream",
     "text": [
      "['Item', 'Quantity', 'Price per item']\n",
      "['Bag of carrots', '3', '$3']\n",
      "['Box of cookies', '2', '$4']\n",
      "['Brie Cheese', '1', '$4']\n"
     ]
    }
   ],
   "source": [
    "# First step: import the library\n",
    "import csv\n",
    "\n",
    "# Second step: pass the open file into csv.reader\n",
    "csv_lists = csv.reader(open(\"shopping_list.csv\"))\n",
    "\n",
    "# Third step: iterate through the file you created:\n",
    "for line in csv_lists: \n",
    "    print(line)"
   ]
  },
  {
   "cell_type": "markdown",
   "metadata": {},
   "source": [
    "If we want to rewrite the code for finding the total price:"
   ]
  },
  {
   "cell_type": "code",
   "execution_count": 7,
   "metadata": {
    "collapsed": false
   },
   "outputs": [
    {
     "name": "stdout",
     "output_type": "stream",
     "text": [
      "Total cost is: $21\n"
     ]
    }
   ],
   "source": [
    "csv_lists = csv.reader(open(\"shopping_list.csv\"))\n",
    "total_cost = 0\n",
    "next(csv_lists) # this advances the csv_lists by one\n",
    "\n",
    "for line in csv_lists:\n",
    "    quantity = int(line[1])\n",
    "    price = int(line[2][1:]) # the 1: takes off the dollar sign\n",
    "    total_cost += quantity*price\n",
    "print(\"Total cost is: ${}\".format(total_cost))"
   ]
  },
  {
   "cell_type": "markdown",
   "metadata": {},
   "source": [
    "Something to keep in mind is that csv.reader isn't exactly a list of lists. It just goes through each line, and then becomes empty. So you can't read from csv_lists twice - the second time it will just be empty. This also means you can't do indexing on it. "
   ]
  },
  {
   "cell_type": "code",
   "execution_count": 8,
   "metadata": {
    "collapsed": true
   },
   "outputs": [],
   "source": [
    "for line in csv_lists:\n",
    "    print(line)"
   ]
  },
  {
   "cell_type": "markdown",
   "metadata": {},
   "source": [
    "The reason the csv library does this is in case you had a very large CSV file - this way, you don't have to store it all in memory, you can just read it line by line.\n",
    "\n",
    "To read from it more than once, you can convert it into a list after reading it. This will store the entire list in your computer's memory, and allow you to use it like a list of lists. "
   ]
  },
  {
   "cell_type": "code",
   "execution_count": 18,
   "metadata": {
    "collapsed": false
   },
   "outputs": [
    {
     "name": "stdout",
     "output_type": "stream",
     "text": [
      "[['Item', 'Quantity', 'Price per item'], ['Bag of carrots', '3', '$3'], ['Box of cookies', '2', '$4'], ['Brie Cheese', '1', '$4']]\n",
      "$3\n"
     ]
    }
   ],
   "source": [
    "csv_lists = list(csv.reader(open(\"shopping_list.csv\")))\n",
    "print(csv_lists)\n",
    "\n",
    "print(csv_lists[1][2])"
   ]
  },
  {
   "cell_type": "markdown",
   "metadata": {},
   "source": [
    "With it as a list, we can also use a List Comprehension to get the total price."
   ]
  },
  {
   "cell_type": "code",
   "execution_count": 19,
   "metadata": {
    "collapsed": true
   },
   "outputs": [],
   "source": [
    "csv_lists = csv_lists[1:] # Take off the headers"
   ]
  },
  {
   "cell_type": "code",
   "execution_count": 21,
   "metadata": {
    "collapsed": false
   },
   "outputs": [
    {
     "name": "stdout",
     "output_type": "stream",
     "text": [
      "[9, 8, 4]\n",
      "21\n"
     ]
    }
   ],
   "source": [
    "totals = [int(line[1])*int(line[2][1:]) for line in csv_lists]\n",
    "print(totals)\n",
    "print(sum(totals))"
   ]
  },
  {
   "cell_type": "markdown",
   "metadata": {},
   "source": [
    "Now you have a list of lists, which is the data from your CSV.\n",
    "\n",
    "Try writing code that goes through csv_lists, and prints out the item you're spending the most money on."
   ]
  },
  {
   "cell_type": "code",
   "execution_count": 11,
   "metadata": {
    "collapsed": false
   },
   "outputs": [
    {
     "data": {
      "text/plain": [
       "'Bag of carrots'"
      ]
     },
     "execution_count": 11,
     "metadata": {},
     "output_type": "execute_result"
    }
   ],
   "source": [
    "# answer - will be blank for students:\n",
    "def most_expensive(csv_lists):\n",
    "    max_item = \"\"\n",
    "    max_price = -1\n",
    "    for line in csv_lists:\n",
    "        total_price = int(line[1])*int(line[2][1:])\n",
    "        if total_price>max_price:\n",
    "            max_price = total_price\n",
    "            max_item = line[0]\n",
    "    \n",
    "    return max_item\n",
    "most_expensive(csv_lists[1:])"
   ]
  },
  {
   "cell_type": "markdown",
   "metadata": {},
   "source": [
    "You might have noticed a lot of annoying things about working with this library while working with it. For one, you have to drop the first row, since it doesn't contain any data you want. Secondly, you have to refer to the items by index, which means you have to know the index of what you want.\n",
    "\n",
    "These issues can be solved with the DictReader module of the csv library. Let me show you how that one works, and what it produces:"
   ]
  },
  {
   "cell_type": "code",
   "execution_count": 13,
   "metadata": {
    "collapsed": false
   },
   "outputs": [
    {
     "name": "stdout",
     "output_type": "stream",
     "text": [
      "OrderedDict([('Item', 'Bag of carrots'), ('Quantity', '3'), ('Price per item', '$3')])\n",
      "OrderedDict([('Item', 'Box of cookies'), ('Quantity', '2'), ('Price per item', '$4')])\n",
      "OrderedDict([('Item', 'Brie Cheese'), ('Quantity', '1'), ('Price per item', '$4')])\n"
     ]
    }
   ],
   "source": [
    "# csv library is already imported\n",
    "csv_file = csv.DictReader(open(\"shopping_list.csv\"))\n",
    "\n",
    "# now let's see what's inside\n",
    "for line in csv_file:\n",
    "    print(line)"
   ]
  },
  {
   "cell_type": "markdown",
   "metadata": {},
   "source": [
    "As you can see, the DictReader takes in a CSV file, and gives you a bunch of dictionaries, where the key is the header, and the value is the value at that line. This makes it easy to write very readable code, as you can use the name of the header to get what you want. For example, to rewrite the \"total cost\" code:"
   ]
  },
  {
   "cell_type": "code",
   "execution_count": 15,
   "metadata": {
    "collapsed": false
   },
   "outputs": [
    {
     "name": "stdout",
     "output_type": "stream",
     "text": [
      "Total cost is: $21\n"
     ]
    }
   ],
   "source": [
    "csv_file = csv.DictReader(open(\"shopping_list.csv\"))\n",
    "total_cost = 0\n",
    "for line in csv_file:\n",
    "    quantity = int(line['Quantity'])\n",
    "    price = int(line['Price per item'][1:])\n",
    "    total_cost += quantity*price\n",
    "print(\"Total cost is: ${}\".format(total_cost))"
   ]
  },
  {
   "cell_type": "markdown",
   "metadata": {},
   "source": [
    "The list comprehension version looks like this"
   ]
  },
  {
   "cell_type": "code",
   "execution_count": 24,
   "metadata": {
    "collapsed": false
   },
   "outputs": [
    {
     "name": "stdout",
     "output_type": "stream",
     "text": [
      "21\n"
     ]
    }
   ],
   "source": [
    "csv_file = csv.DictReader(open(\"shopping_list.csv\"))\n",
    "print(sum(\n",
    "    [int(line['Quantity'])*int(line['Price per item'][1:]) for line in csv_file]\n",
    "))"
   ]
  },
  {
   "cell_type": "markdown",
   "metadata": {},
   "source": [
    "It's up to you which version you want to use - whatever you're more comfortable with and you think looks the best."
   ]
  },
  {
   "cell_type": "markdown",
   "metadata": {
    "collapsed": true
   },
   "source": [
    "## Part 3: Writing a CSV file"
   ]
  },
  {
   "cell_type": "markdown",
   "metadata": {},
   "source": [
    "Like reading CSV files, we don't necissarily need the CSV library to create a CSV. However, It makes it a lot easier. In fact, I will only go over how to create one using the CSV library."
   ]
  },
  {
   "cell_type": "markdown",
   "metadata": {},
   "source": [
    "Let's say we want to create a CSV of the first 100 numbers, and their values at x^2, x^3, and sqrt(x)\n",
    "Just like there's a csv.reader and a csv.DictReader, there's also a csv.writer and a csv.DictWriter. I'll show both ways of using them.\n",
    "\n",
    "This also shows the \"with\" method of opening a file."
   ]
  },
  {
   "cell_type": "code",
   "execution_count": 18,
   "metadata": {
    "collapsed": false
   },
   "outputs": [],
   "source": [
    "import math\n",
    "# First way, using CSV writer\n",
    "with open(\"number_values.csv\", \"w\") as new_csv: # we add the extra 'w' parameter for saying this file will be written to\n",
    "    writer = csv.writer(new_csv)\n",
    "    writer.writerow([\"Number\", \"Number Squared\", \"Number Cubed\", \"Square Root of Number\"])\n",
    "    for i in range(1,101):\n",
    "        writer.writerow([i, i**2, i**3, round(math.sqrt(i),2)])\n",
    "# Notice there's no \"close\" statement"
   ]
  },
  {
   "cell_type": "code",
   "execution_count": 19,
   "metadata": {
    "collapsed": false
   },
   "outputs": [
    {
     "name": "stdout",
     "output_type": "stream",
     "text": [
      "Number,Number Squared,Number Cubed,Square Root of Number\n",
      "\n",
      "1,1,1,1.0\n",
      "\n",
      "2,4,8,1.41\n",
      "\n",
      "3,9,27,1.73\n",
      "\n",
      "4,16,64,2.0\n",
      "\n",
      "5,25,125,2.24\n",
      "\n",
      "6,36,216,2.45\n",
      "\n",
      "7,49,343,2.65\n",
      "\n",
      "8,64,512,2.83\n",
      "\n",
      "9,81,729,3.0\n",
      "\n",
      "10,100,1000,3.16\n",
      "\n",
      "11,121,1331,3.32\n",
      "\n",
      "12,144,1728,3.46\n",
      "\n",
      "13,169,2197,3.61\n",
      "\n",
      "14,196,2744,3.74\n",
      "\n",
      "15,225,3375,3.87\n",
      "\n",
      "16,256,4096,4.0\n",
      "\n",
      "17,289,4913,4.12\n",
      "\n",
      "18,324,5832,4.24\n",
      "\n",
      "19,361,6859,4.36\n",
      "\n",
      "20,400,8000,4.47\n",
      "\n",
      "21,441,9261,4.58\n",
      "\n",
      "22,484,10648,4.69\n",
      "\n",
      "23,529,12167,4.8\n",
      "\n",
      "24,576,13824,4.9\n",
      "\n",
      "25,625,15625,5.0\n",
      "\n",
      "26,676,17576,5.1\n",
      "\n",
      "27,729,19683,5.2\n",
      "\n",
      "28,784,21952,5.29\n",
      "\n",
      "29,841,24389,5.39\n",
      "\n",
      "30,900,27000,5.48\n",
      "\n",
      "31,961,29791,5.57\n",
      "\n",
      "32,1024,32768,5.66\n",
      "\n",
      "33,1089,35937,5.74\n",
      "\n",
      "34,1156,39304,5.83\n",
      "\n",
      "35,1225,42875,5.92\n",
      "\n",
      "36,1296,46656,6.0\n",
      "\n",
      "37,1369,50653,6.08\n",
      "\n",
      "38,1444,54872,6.16\n",
      "\n",
      "39,1521,59319,6.24\n",
      "\n",
      "40,1600,64000,6.32\n",
      "\n",
      "41,1681,68921,6.4\n",
      "\n",
      "42,1764,74088,6.48\n",
      "\n",
      "43,1849,79507,6.56\n",
      "\n",
      "44,1936,85184,6.63\n",
      "\n",
      "45,2025,91125,6.71\n",
      "\n",
      "46,2116,97336,6.78\n",
      "\n",
      "47,2209,103823,6.86\n",
      "\n",
      "48,2304,110592,6.93\n",
      "\n",
      "49,2401,117649,7.0\n",
      "\n",
      "50,2500,125000,7.07\n",
      "\n",
      "51,2601,132651,7.14\n",
      "\n",
      "52,2704,140608,7.21\n",
      "\n",
      "53,2809,148877,7.28\n",
      "\n",
      "54,2916,157464,7.35\n",
      "\n",
      "55,3025,166375,7.42\n",
      "\n",
      "56,3136,175616,7.48\n",
      "\n",
      "57,3249,185193,7.55\n",
      "\n",
      "58,3364,195112,7.62\n",
      "\n",
      "59,3481,205379,7.68\n",
      "\n",
      "60,3600,216000,7.75\n",
      "\n",
      "61,3721,226981,7.81\n",
      "\n",
      "62,3844,238328,7.87\n",
      "\n",
      "63,3969,250047,7.94\n",
      "\n",
      "64,4096,262144,8.0\n",
      "\n",
      "65,4225,274625,8.06\n",
      "\n",
      "66,4356,287496,8.12\n",
      "\n",
      "67,4489,300763,8.19\n",
      "\n",
      "68,4624,314432,8.25\n",
      "\n",
      "69,4761,328509,8.31\n",
      "\n",
      "70,4900,343000,8.37\n",
      "\n",
      "71,5041,357911,8.43\n",
      "\n",
      "72,5184,373248,8.49\n",
      "\n",
      "73,5329,389017,8.54\n",
      "\n",
      "74,5476,405224,8.6\n",
      "\n",
      "75,5625,421875,8.66\n",
      "\n",
      "76,5776,438976,8.72\n",
      "\n",
      "77,5929,456533,8.77\n",
      "\n",
      "78,6084,474552,8.83\n",
      "\n",
      "79,6241,493039,8.89\n",
      "\n",
      "80,6400,512000,8.94\n",
      "\n",
      "81,6561,531441,9.0\n",
      "\n",
      "82,6724,551368,9.06\n",
      "\n",
      "83,6889,571787,9.11\n",
      "\n",
      "84,7056,592704,9.17\n",
      "\n",
      "85,7225,614125,9.22\n",
      "\n",
      "86,7396,636056,9.27\n",
      "\n",
      "87,7569,658503,9.33\n",
      "\n",
      "88,7744,681472,9.38\n",
      "\n",
      "89,7921,704969,9.43\n",
      "\n",
      "90,8100,729000,9.49\n",
      "\n",
      "91,8281,753571,9.54\n",
      "\n",
      "92,8464,778688,9.59\n",
      "\n",
      "93,8649,804357,9.64\n",
      "\n",
      "94,8836,830584,9.7\n",
      "\n",
      "95,9025,857375,9.75\n",
      "\n",
      "96,9216,884736,9.8\n",
      "\n",
      "97,9409,912673,9.85\n",
      "\n",
      "98,9604,941192,9.9\n",
      "\n",
      "99,9801,970299,9.95\n",
      "\n",
      "100,10000,1000000,10.0\n",
      "\n",
      "\n"
     ]
    }
   ],
   "source": [
    "with open(\"number_values.csv\") as f:\n",
    "    print(f.read())"
   ]
  },
  {
   "cell_type": "markdown",
   "metadata": {},
   "source": [
    "The other way to do this is to use a DictWriter - I'll show you how to do that below.\n",
    "Remember that the way the DictWriter worked was that each line was a dictionary mapping the header to its value at that line. The writer will work similarly, for each line, we will write a dictionary."
   ]
  },
  {
   "cell_type": "code",
   "execution_count": 20,
   "metadata": {
    "collapsed": false
   },
   "outputs": [
    {
     "name": "stdout",
     "output_type": "stream",
     "text": [
      "num,squared,cubed,sqrt\n",
      "\n",
      "1,1,1,1.0\n",
      "\n",
      "2,4,8,1.41\n",
      "\n",
      "3,9,27,1.73\n",
      "\n",
      "4,16,64,2.0\n",
      "\n",
      "5,25,125,2.24\n",
      "\n",
      "6,36,216,2.45\n",
      "\n",
      "7,49,343,2.65\n",
      "\n",
      "8,64,512,2.83\n",
      "\n",
      "9,81,729,3.0\n",
      "\n",
      "10,100,1000,3.16\n",
      "\n",
      "11,121,1331,3.32\n",
      "\n",
      "12,144,1728,3.46\n",
      "\n",
      "13,169,2197,3.61\n",
      "\n",
      "14,196,2744,3.74\n",
      "\n",
      "15,225,3375,3.87\n",
      "\n",
      "16,256,4096,4.0\n",
      "\n",
      "17,289,4913,4.12\n",
      "\n",
      "18,324,5832,4.24\n",
      "\n",
      "19,361,6859,4.36\n",
      "\n",
      "20,400,8000,4.47\n",
      "\n",
      "21,441,9261,4.58\n",
      "\n",
      "22,484,10648,4.69\n",
      "\n",
      "23,529,12167,4.8\n",
      "\n",
      "24,576,13824,4.9\n",
      "\n",
      "25,625,15625,5.0\n",
      "\n",
      "26,676,17576,5.1\n",
      "\n",
      "27,729,19683,5.2\n",
      "\n",
      "28,784,21952,5.29\n",
      "\n",
      "29,841,24389,5.39\n",
      "\n",
      "30,900,27000,5.48\n",
      "\n",
      "31,961,29791,5.57\n",
      "\n",
      "32,1024,32768,5.66\n",
      "\n",
      "33,1089,35937,5.74\n",
      "\n",
      "34,1156,39304,5.83\n",
      "\n",
      "35,1225,42875,5.92\n",
      "\n",
      "36,1296,46656,6.0\n",
      "\n",
      "37,1369,50653,6.08\n",
      "\n",
      "38,1444,54872,6.16\n",
      "\n",
      "39,1521,59319,6.24\n",
      "\n",
      "40,1600,64000,6.32\n",
      "\n",
      "41,1681,68921,6.4\n",
      "\n",
      "42,1764,74088,6.48\n",
      "\n",
      "43,1849,79507,6.56\n",
      "\n",
      "44,1936,85184,6.63\n",
      "\n",
      "45,2025,91125,6.71\n",
      "\n",
      "46,2116,97336,6.78\n",
      "\n",
      "47,2209,103823,6.86\n",
      "\n",
      "48,2304,110592,6.93\n",
      "\n",
      "49,2401,117649,7.0\n",
      "\n",
      "50,2500,125000,7.07\n",
      "\n",
      "51,2601,132651,7.14\n",
      "\n",
      "52,2704,140608,7.21\n",
      "\n",
      "53,2809,148877,7.28\n",
      "\n",
      "54,2916,157464,7.35\n",
      "\n",
      "55,3025,166375,7.42\n",
      "\n",
      "56,3136,175616,7.48\n",
      "\n",
      "57,3249,185193,7.55\n",
      "\n",
      "58,3364,195112,7.62\n",
      "\n",
      "59,3481,205379,7.68\n",
      "\n",
      "60,3600,216000,7.75\n",
      "\n",
      "61,3721,226981,7.81\n",
      "\n",
      "62,3844,238328,7.87\n",
      "\n",
      "63,3969,250047,7.94\n",
      "\n",
      "64,4096,262144,8.0\n",
      "\n",
      "65,4225,274625,8.06\n",
      "\n",
      "66,4356,287496,8.12\n",
      "\n",
      "67,4489,300763,8.19\n",
      "\n",
      "68,4624,314432,8.25\n",
      "\n",
      "69,4761,328509,8.31\n",
      "\n",
      "70,4900,343000,8.37\n",
      "\n",
      "71,5041,357911,8.43\n",
      "\n",
      "72,5184,373248,8.49\n",
      "\n",
      "73,5329,389017,8.54\n",
      "\n",
      "74,5476,405224,8.6\n",
      "\n",
      "75,5625,421875,8.66\n",
      "\n",
      "76,5776,438976,8.72\n",
      "\n",
      "77,5929,456533,8.77\n",
      "\n",
      "78,6084,474552,8.83\n",
      "\n",
      "79,6241,493039,8.89\n",
      "\n",
      "80,6400,512000,8.94\n",
      "\n",
      "81,6561,531441,9.0\n",
      "\n",
      "82,6724,551368,9.06\n",
      "\n",
      "83,6889,571787,9.11\n",
      "\n",
      "84,7056,592704,9.17\n",
      "\n",
      "85,7225,614125,9.22\n",
      "\n",
      "86,7396,636056,9.27\n",
      "\n",
      "87,7569,658503,9.33\n",
      "\n",
      "88,7744,681472,9.38\n",
      "\n",
      "89,7921,704969,9.43\n",
      "\n",
      "90,8100,729000,9.49\n",
      "\n",
      "91,8281,753571,9.54\n",
      "\n",
      "92,8464,778688,9.59\n",
      "\n",
      "93,8649,804357,9.64\n",
      "\n",
      "94,8836,830584,9.7\n",
      "\n",
      "95,9025,857375,9.75\n",
      "\n",
      "96,9216,884736,9.8\n",
      "\n",
      "97,9409,912673,9.85\n",
      "\n",
      "98,9604,941192,9.9\n",
      "\n",
      "99,9801,970299,9.95\n",
      "\n",
      "100,10000,1000000,10.0\n",
      "\n",
      "\n"
     ]
    }
   ],
   "source": [
    "with open(\"number_values2.csv\", \"w\") as new_csv:\n",
    "    # we have to tell the writer what our top fields are\n",
    "    writer = csv.DictWriter(new_csv, fieldnames=[\"num\", \"squared\", \"cubed\", \"sqrt\"])\n",
    "    writer.writeheader() # to write the header\n",
    "    for i in range(1,101):\n",
    "        writer.writerow({\"num\": i, \"squared\": i**2, \"cubed\": i**3, \"sqrt\": round(math.sqrt(i), 2)})\n",
    "with open(\"number_values2.csv\") as f:\n",
    "    print(f.read())\n",
    "    "
   ]
  },
  {
   "cell_type": "markdown",
   "metadata": {},
   "source": [
    "As you see, they produce the same output. It's up to you which one you want to do, depending on the type of CSV file you're trying to read/write from."
   ]
  },
  {
   "cell_type": "markdown",
   "metadata": {},
   "source": [
    "## Exercises "
   ]
  },
  {
   "cell_type": "markdown",
   "metadata": {},
   "source": [
    "### Number 1:"
   ]
  },
  {
   "cell_type": "markdown",
   "metadata": {},
   "source": [
    "Download this CSV file: http://samplecsvs.s3.amazonaws.com/Sacramentorealestatetransactions.csv\n",
    "\n",
    "Found from here: https://support.spatialkey.com/spatialkey-sample-csv-data/"
   ]
  },
  {
   "cell_type": "markdown",
   "metadata": {},
   "source": [
    "\"The Sacramento real estate transactions file is a list of 985 real estate transactions in the Sacramento area reported over a five-day period, as reported by the Sacramento Bee. Note that this file has address level information that you can choose to geocode, or you can use the existing latitude/longitude in the file.\""
   ]
  },
  {
   "cell_type": "markdown",
   "metadata": {},
   "source": [
    "Finish these functions - the parameter will be a string which is the file name."
   ]
  },
  {
   "cell_type": "code",
   "execution_count": null,
   "metadata": {
    "collapsed": true
   },
   "outputs": [],
   "source": [
    "# What is the average price of house sold?\n",
    "def zipcode_with_most_sales(csv_file):\n",
    "    pass # write your code here"
   ]
  },
  {
   "cell_type": "code",
   "execution_count": 21,
   "metadata": {
    "collapsed": true
   },
   "outputs": [],
   "source": [
    "# Which zipcode has the most sales?\n",
    "def zipcode_with_most_sales(csv_file):\n",
    "    pass # write your code here"
   ]
  },
  {
   "cell_type": "code",
   "execution_count": 22,
   "metadata": {
    "collapsed": true
   },
   "outputs": [],
   "source": [
    "# Which zipcode has the most expensive house sold?\n",
    "def zipcode_of_most_expensive_house(csv_file):\n",
    "    pass # write your code here"
   ]
  },
  {
   "cell_type": "code",
   "execution_count": 23,
   "metadata": {
    "collapsed": true
   },
   "outputs": [],
   "source": [
    "# Which house had the best ratio of square feet to price\n",
    "# In other words: which house was the cheapest per square foot?\n",
    "# Return the address of the houes\n",
    "def zipcode_of_most_expensive_house(csv_file):\n",
    "    pass # write your code here"
   ]
  },
  {
   "cell_type": "markdown",
   "metadata": {},
   "source": [
    "### Number 2:"
   ]
  },
  {
   "cell_type": "markdown",
   "metadata": {},
   "source": [
    "Download an interesting CSV file online, and write code to find an interesting fact about it!\n",
    "\n",
    "Here is an example of somewhere you can get an interesting CSV file: https://catalog.data.gov/dataset?res_format=CSV"
   ]
  }
 ],
 "metadata": {
  "kernelspec": {
   "display_name": "Python 3",
   "language": "python",
   "name": "python3"
  },
  "language_info": {
   "codemirror_mode": {
    "name": "ipython",
    "version": 3
   },
   "file_extension": ".py",
   "mimetype": "text/x-python",
   "name": "python",
   "nbconvert_exporter": "python",
   "pygments_lexer": "ipython3",
   "version": "3.6.0"
  }
 },
 "nbformat": 4,
 "nbformat_minor": 0
}
