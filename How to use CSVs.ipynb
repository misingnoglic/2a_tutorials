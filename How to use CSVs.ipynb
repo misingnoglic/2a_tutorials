{
 "cells": [
  {
   "cell_type": "markdown",
   "metadata": {},
   "source": [
    "# How to use and manipulate CSV files in Python"
   ]
  },
  {
   "cell_type": "markdown",
   "metadata": {},
   "source": [
    "## Part 1 - What is a CSV file"
   ]
  },
  {
   "cell_type": "markdown",
   "metadata": {},
   "source": [
    "A csv file is a type of file where the data is structured into rows and columns, using commas and new lines. They're commonly used to represent data in a spreadsheet - such as from Microsoft Excel or Google Sheets.\n",
    "\n",
    "For example, if I had this spreadsheet on Google Sheets:\n",
    "\n",
    "![http://i.imgur.com/9ig18Kt.png](http://i.imgur.com/9ig18Kt.png)\n",
    "\n",
    "And then I went to File->Download As->Comma-separated values and downloaded the file, it would look like this:"
   ]
  },
  {
   "cell_type": "raw",
   "metadata": {},
   "source": [
    "Item,Quantity,Price per item\n",
    "Bag of carrots,3,$3\n",
    "Box of cookies,2,$4\n",
    "Brie Cheese,1,$4"
   ]
  },
  {
   "cell_type": "markdown",
   "metadata": {},
   "source": [
    "In this example, the first row has three things separated by commas. For each of the following row, the first item correspons to the first item in the first row (so Bag of carrots is an item, 3 is a quantity, and $3 is a price per item. \n",
    "\n",
    "P.S. If you can't remember which are rows and which are columns, you can think of columns like the roman columns (going up and down), and rows like running (left to right).\n",
    "\n",
    "This shows probably the biggest reason we care about CSV files. They're structured, so they're easy to read programmatically, but they're also easy to just give to someone who knows nothing about code, so they can just open it in their favorite spreadsheet program. Many times when downloading large data sets from online, they will give you CSV files to read."
   ]
  },
  {
   "cell_type": "markdown",
   "metadata": {},
   "source": [
    "## Part 2 - Reading CSV Files"
   ]
  },
  {
   "cell_type": "markdown",
   "metadata": {},
   "source": [
    "Remember that CSV files are just regular files with a standard formatting.\n",
    "Therefore, you can just read them like a regular file, and get the data you want.\n",
    "\n",
    "For example, if we want to figure out how much we will have to pay in the end, we have to go through the rows, and multiply the price by the quantity, and add them all up."
   ]
  },
  {
   "cell_type": "code",
   "execution_count": 1,
   "metadata": {
    "collapsed": false
   },
   "outputs": [
    {
     "name": "stdout",
     "output_type": "stream",
     "text": [
      "Item,Quantity,Price per item\n",
      "Bag of carrots,3,$3\n",
      "Box of cookies,2,$4\n",
      "Brie Cheese,1,$4\n"
     ]
    }
   ],
   "source": [
    "csv_text = open(\"shopping_list.csv\").read() # How to turn a file into a string\n",
    "print (csv_text)"
   ]
  },
  {
   "cell_type": "code",
   "execution_count": 3,
   "metadata": {
    "collapsed": false
   },
   "outputs": [
    {
     "name": "stdout",
     "output_type": "stream",
     "text": [
      "['Item,Quantity,Price per item', 'Bag of carrots,3,$3', 'Box of cookies,2,$4', 'Brie Cheese,1,$4']\n"
     ]
    }
   ],
   "source": [
    "# Now we have to split it on the new lines, so each \n",
    "csv_text_split = csv_text.split(\"\\n\")\n",
    "print(csv_text_split)"
   ]
  },
  {
   "cell_type": "code",
   "execution_count": null,
   "metadata": {
    "collapsed": true
   },
   "outputs": [],
   "source": [
    "# We can get rid of the first line, since that's just the headers. We know that quantity is index 1, and price is index 2.\n",
    "csv_text_split.pop(0) # Delete the item at index 0\n",
    "\n",
    "total_price = 0\n",
    "for line in csv_text_split: # For each line\n",
    "    new_line = line.split(\",\") # split the line on the comma, so the line is now a list [Item,Quantity,Price]\n",
    "    quantity = int(new_line[1]) # turn the thing at index 1 into an int\n",
    "    price_per_item = int(new_line[2][1:])\n",
    "    "
   ]
  }
 ],
 "metadata": {
  "kernelspec": {
   "display_name": "Python 3",
   "language": "python",
   "name": "python3"
  },
  "language_info": {
   "codemirror_mode": {
    "name": "ipython",
    "version": 3
   },
   "file_extension": ".py",
   "mimetype": "text/x-python",
   "name": "python",
   "nbconvert_exporter": "python",
   "pygments_lexer": "ipython3",
   "version": "3.5.2"
  }
 },
 "nbformat": 4,
 "nbformat_minor": 0
}
