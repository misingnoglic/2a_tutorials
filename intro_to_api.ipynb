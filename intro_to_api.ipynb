{
 "cells": [
  {
   "cell_type": "markdown",
   "metadata": {},
   "source": [
    "# Introduction to APIs"
   ]
  },
  {
   "cell_type": "markdown",
   "metadata": {},
   "source": [
    "## Part 1: What is an API "
   ]
  },
  {
   "cell_type": "markdown",
   "metadata": {},
   "source": [
    "API stands for \"Application program interface.\" In layman's terms, it's an interface that allows you to communicate with another app, and send/recieve data to it. This is useful when someone else already built the tool you need, and you just need to use their data.\n",
    "\n",
    "The difference between an API and a library is that a library will compute everything on your computer, while an API will just send a request to another service, and then give you back an answer.\n",
    "\n",
    "Fortunately, a lot of APIs have Python interfaces, so you can use them as if they were libraries!"
   ]
  },
  {
   "cell_type": "markdown",
   "metadata": {},
   "source": [
    "## Part 2: How to use a Python-ported API"
   ]
  },
  {
   "cell_type": "markdown",
   "metadata": {},
   "source": [
    "Let's say that you find an API for something, and it has a Python package you can install!\n",
    "This is great news, as it makes the work of interracting with the API EXTREMELY easy.\n",
    "\n",
    "For an example, I will use the Indico API. This is an API for sentiment analysis - so you give it some text, and it can tell you some things about the text (such as the mood of the text, the political leanings of the person who said it, etc...). To do this, it uses something called Machine Learning, which might be discussed later. However, the idea is that they have a bunch of samples with data, and then based on those samples, make a guess on what the sentiment of a new piece of text is. "
   ]
  },
  {
   "cell_type": "markdown",
   "metadata": {},
   "source": [
    "### Part 2A: Indico API"
   ]
  },
  {
   "cell_type": "markdown",
   "metadata": {},
   "source": [
    "The first step to using this API is to sign up for their website.\n",
    "Some APIs make you pay, but thankfully indico gives you 10,000 free queries a month (which should be plenty)\n",
    "\n",
    "Just go to their website: www.indico.io, click \"Get Started,\" and then \"Sign up as you go.\""
   ]
  },
  {
   "cell_type": "markdown",
   "metadata": {},
   "source": [
    "Now that you have an account, you can go to their documentation and look at all the features available to use! \n",
    "The documentation is available here: https://indico.io/docs\n",
    "\n",
    "They have many python samples to get you started, but I will take you through a few as well. "
   ]
  },
  {
   "cell_type": "code",
   "execution_count": 1,
   "metadata": {
    "collapsed": false
   },
   "outputs": [
    {
     "ename": "ModuleNotFoundError",
     "evalue": "No module named 'indicoio'",
     "output_type": "error",
     "traceback": [
      "\u001b[0;31m---------------------------------------------------------------------------\u001b[0m",
      "\u001b[0;31mModuleNotFoundError\u001b[0m                       Traceback (most recent call last)",
      "\u001b[0;32m<ipython-input-1-44e367a4bbb5>\u001b[0m in \u001b[0;36m<module>\u001b[0;34m()\u001b[0m\n\u001b[1;32m      1\u001b[0m \u001b[0;31m# The first thing you want to do is import the library\u001b[0m\u001b[0;34m\u001b[0m\u001b[0;34m\u001b[0m\u001b[0m\n\u001b[0;32m----> 2\u001b[0;31m \u001b[0;32mimport\u001b[0m \u001b[0mindicoio\u001b[0m\u001b[0;34m\u001b[0m\u001b[0m\n\u001b[0m",
      "\u001b[0;31mModuleNotFoundError\u001b[0m: No module named 'indicoio'"
     ]
    }
   ],
   "source": [
    "# The first thing you want to do is import the library\n",
    "import indicoio"
   ]
  },
  {
   "cell_type": "markdown",
   "metadata": {},
   "source": [
    "The next thing you want to do is add your config-id to the indicoio object.\n",
    "However, the way that the code sample does it is insecure, since you don't want anyone else to be able to see your key.\n",
    "\n",
    "There's a way we can get around this though. In the same folder as your code using indico, make a file called secrets.py\n",
    "In secrets.py, you should only have one variable:\n",
    "\n",
    "indico_key = \"whatever_your_key_is\"\n",
    "\n",
    "You can get your key from the documentation, or from the top of your dashboard: https://indico.io/dashboard/. I've included a file \"secrets_example.py\" that you can look at, but make sure you change the name to secrets.py, and have the correct API key. \n",
    "\n",
    "And then in your code, you can get the key like this. "
   ]
  },
  {
   "cell_type": "code",
   "execution_count": 2,
   "metadata": {
    "collapsed": true
   },
   "outputs": [],
   "source": [
    "from secrets import indico_key\n",
    "indicoio.config.api_key = indico_key"
   ]
  },
  {
   "cell_type": "markdown",
   "metadata": {},
   "source": [
    "And now you're all authenticated for using your indico account! Let's run some queries."
   ]
  },
  {
   "cell_type": "code",
   "execution_count": 3,
   "metadata": {
    "collapsed": true
   },
   "outputs": [],
   "source": [
    "# Let's find the sentiment of a string\n",
    "result = indicoio.sentiment_hq(\"Today was a very good day!\")"
   ]
  },
  {
   "cell_type": "code",
   "execution_count": 4,
   "metadata": {
    "collapsed": false
   },
   "outputs": [
    {
     "name": "stdout",
     "output_type": "stream",
     "text": [
      "0.9157847166\n"
     ]
    }
   ],
   "source": [
    "print(result)"
   ]
  },
  {
   "cell_type": "markdown",
   "metadata": {},
   "source": [
    "This result is a bit confusing, so let's see what the [documentation](https://indico.io/docs#sentiment_hq) says:\n",
    "\n",
    ">This function will return a number between 0 and 1. This number is a probability representing the likelihood that the analyzed text is positive or negative. Values greater than 0.5 indicate positive sentiment, while values less than 0.5 indicate negative sentiment.\n",
    "\n",
    "So 0.91... indicates a result that has a very high probability of being positive. Let's try a few more, just to see how well it works."
   ]
  },
  {
   "cell_type": "code",
   "execution_count": 5,
   "metadata": {
    "collapsed": false
   },
   "outputs": [
    {
     "data": {
      "text/plain": [
       "0.0328917056"
      ]
     },
     "execution_count": 5,
     "metadata": {},
     "output_type": "execute_result"
    }
   ],
   "source": [
    "indicoio.sentiment_hq(\"Our presentation was a disaster\")"
   ]
  },
  {
   "cell_type": "code",
   "execution_count": 6,
   "metadata": {
    "collapsed": false
   },
   "outputs": [
    {
     "data": {
      "text/plain": [
       "0.9253799319"
      ]
     },
     "execution_count": 6,
     "metadata": {},
     "output_type": "execute_result"
    }
   ],
   "source": [
    "indicoio.sentiment_hq(\"You have a nice computer\")"
   ]
  },
  {
   "cell_type": "code",
   "execution_count": 9,
   "metadata": {
    "collapsed": false
   },
   "outputs": [
    {
     "data": {
      "text/plain": [
       "0.5880327225"
      ]
     },
     "execution_count": 9,
     "metadata": {},
     "output_type": "execute_result"
    }
   ],
   "source": [
    "indicoio.sentiment_hq(\"I end work at 5pm\")"
   ]
  },
  {
   "cell_type": "code",
   "execution_count": 14,
   "metadata": {
    "collapsed": false
   },
   "outputs": [
    {
     "data": {
      "text/plain": [
       "[0.7249644995000001, 0.9912720919]"
      ]
     },
     "execution_count": 14,
     "metadata": {},
     "output_type": "execute_result"
    }
   ],
   "source": [
    "# We can also pass it a list, and it will return a list of results\n",
    "indicoio.sentiment_hq([\"How are you today?\", \"I'm doing great, thank you!\"])"
   ]
  },
  {
   "cell_type": "markdown",
   "metadata": {},
   "source": [
    "Feel free to try a few more of these just to see. Some useful applications of this may include analyzing Yelp reviews of your restaurant, analyzing chats with a friend, or analyzing novels to plot out an emotional graph of how the novel turned out. "
   ]
  },
  {
   "cell_type": "markdown",
   "metadata": {},
   "source": [
    "I'll show some examples of other API calls you can make. A lot of them return dictionaries, which contain information. "
   ]
  },
  {
   "cell_type": "code",
   "execution_count": 10,
   "metadata": {
    "collapsed": true
   },
   "outputs": [],
   "source": [
    "# First paragraph in article about Computer Science on wikipeida\n",
    "paragraph = \"\"\"Computer science is the study of the theory, experimentation, and engineering that form the basis for the design and use of computers. It is the scientific and practical approach to computation and its applications and the systematic study of the feasibility, structure, expression, and mechanization of the methodical procedures (or algorithms) that underlie the acquisition, representation, processing, storage, communication of, and access to information. An alternate, more succinct definition of computer science is the study of automating algorithmic processes that scale. A computer scientist specializes in the theory of computation and the design of computational systems.[1]\n",
    "\n",
    "Its fields can be divided into a variety of theoretical and practical disciplines. Some fields, such as computational complexity theory (which explores the fundamental properties of computational and intractable problems), are highly abstract, while fields such as computer graphics emphasize real-world visual applications. Other fields still focus on challenges in implementing computation. For example, programming language theory considers various approaches to the description of computation, while the study of computer programming itself investigates various aspects of the use of programming language and complex systems. Human–computer interaction considers the challenges in making computers and computations useful, usable, and universally accessible to humans.\"\"\""
   ]
  },
  {
   "cell_type": "code",
   "execution_count": 12,
   "metadata": {
    "collapsed": false
   },
   "outputs": [
    {
     "name": "stdout",
     "output_type": "stream",
     "text": [
      "{'computer': 0.09608448800000001, 'universally accessible': 0.1869326081, 'programming language theory': 0.0322087061, 'theory': 0.1262267688, 'computer graphics': 0.0517569035, 'basis': 0.0499561376, 'complexity theory': 0.0850902368, 'complex systems': 0.0350902368, 'computer science': 0.1289636064, 'experimentation': 0.0618151058, 'programming language': 0.0643414067, 'computer scientist': 0.1350902368, 'scientific': 0.10830214910000001, 'computer interaction': 0.1501730263, 'computational complexity theory': 0.0322087061, 'computational complexity': 0.1012881383, 'science': 0.108400676, 'study': 0.06473109860000001, 'practical approach': 0.1388250084, 'computer programming': 0.0350902368, 'fields': 0.1012478037, 'theory of computation': 0.0665995761}\n"
     ]
    }
   ],
   "source": [
    "# nobody has time to read all of that\n",
    "result = indicoio.keywords(paragraph)\n",
    "print(result)"
   ]
  },
  {
   "cell_type": "markdown",
   "metadata": {},
   "source": [
    "This gives us a dictionary of all the keywords in the paragraph, with the probabiity that they are important to the paragraph.\n",
    "We can pass it a parameter \"top_n\" which will limit it to only that many keywords"
   ]
  },
  {
   "cell_type": "code",
   "execution_count": 15,
   "metadata": {
    "collapsed": false
   },
   "outputs": [
    {
     "name": "stdout",
     "output_type": "stream",
     "text": [
      "{'computer scientist': 0.1350902368, 'theory': 0.1262267688, 'science': 0.108400676, 'practical approach': 0.1388250084, 'computer science': 0.1289636064, 'universally accessible': 0.1869326081, 'computer interaction': 0.1501730263}\n"
     ]
    }
   ],
   "source": [
    "result = indicoio.keywords(paragraph, top_n=7)\n",
    "print(result)"
   ]
  },
  {
   "cell_type": "markdown",
   "metadata": {},
   "source": [
    "The result is just a regular python dictionary, so we can loop through these the same way we would do it for any dictionary. \n",
    "This would also be interesting if passed in paragraphs from a book, see what the keywords are. Maybe make a graphic based on the probabilities"
   ]
  },
  {
   "cell_type": "code",
   "execution_count": 19,
   "metadata": {
    "collapsed": false
   },
   "outputs": [
    {
     "name": "stdout",
     "output_type": "stream",
     "text": [
      "{'Libertarian': 0.08965711300000001, 'Liberal': 0.7911154628, 'Green': 0.0136871245, 'Conservative': 0.1055402532}\n"
     ]
    }
   ],
   "source": [
    "# Here is an example of the political analysis API\n",
    "# obama_farewell.txt is the contents of Obama's farewell speech to the nation\n",
    "speech = open(\"obama_farewell.txt\", encoding=\"utf8\").read()\n",
    "result = indicoio.political(speech)\n",
    "print(result)"
   ]
  },
  {
   "cell_type": "code",
   "execution_count": 21,
   "metadata": {
    "collapsed": false
   },
   "outputs": [
    {
     "name": "stdout",
     "output_type": "stream",
     "text": [
      "{'Libertarian': 0.1327656806, 'Liberal': 0.3615416288, 'Green': 0.1044029593, 'Conservative': 0.4012897909}\n"
     ]
    }
   ],
   "source": [
    "# Unsurprisingly it is 80% Liberal. You could break it down sentence by sentence, to see which parts were most liberal\n",
    "# We can try the same with Donald Trump's victory speech\n",
    "speech = open(\"donald_victory.txt\", encoding=\"utf8\").read()\n",
    "result = indicoio.political(speech)\n",
    "print(result)"
   ]
  },
  {
   "cell_type": "markdown",
   "metadata": {},
   "source": [
    "Somewhat surprisingly, this speech looks almost as liberal as it looks conservative. I'm not a political scientist, but using these kinds of APIs is a good way to find trends in large sections of data. For example, analyze all of Obama's speeches over time and see if Indico finds any trends, and look at the data and see if they're substantial in any way. The useful thing to note is that the computer has no biases towards certain people, so it will be better at finding trends because of that. "
   ]
  },
  {
   "cell_type": "code",
   "execution_count": 29,
   "metadata": {
    "collapsed": false
   },
   "outputs": [
    {
     "data": {
      "text/plain": [
       "{'Afghan hound, Afghan': 0.076512441,\n",
       " 'Blenheim spaniel': 0.0315301642,\n",
       " 'English foxhound': 0.0778390318,\n",
       " 'Saint Bernard, St Bernard': 0.2607925236,\n",
       " 'Walker hound, Walker foxhound': 0.0526631102,\n",
       " 'Welsh springer spaniel': 0.025802087,\n",
       " 'beagle': 0.0403615013,\n",
       " 'dogsled, dog sled, dog sleigh': 0.15499596300000001,\n",
       " 'papillon': 0.0283743348,\n",
       " 'pug, pug-dog': 0.0303313788}"
      ]
     },
     "execution_count": 29,
     "metadata": {},
     "output_type": "execute_result"
    }
   ],
   "source": [
    "# Last one to try: Indico can analyze images\n",
    "# https://indico.io/docs#image_recognition\n",
    "\n",
    "# Let's see if it can tell which what's in this image\n",
    "image_url = \"https://www.sciencenewsforstudents.org/sites/default/files/2016/06/main/articles/860-header-dog-breeds.jpg\"\n",
    "indicoio.image_recognition(image_url, top_n=10)"
   ]
  },
  {
   "cell_type": "markdown",
   "metadata": {},
   "source": [
    "I don't know if these breeds are the real ones, but if they are then this is impressive! Try with your own images."
   ]
  },
  {
   "cell_type": "markdown",
   "metadata": {},
   "source": [
    "## Exercises"
   ]
  },
  {
   "cell_type": "markdown",
   "metadata": {},
   "source": [
    "### Question 1"
   ]
  },
  {
   "cell_type": "markdown",
   "metadata": {},
   "source": [
    "Use the personality API on Indico to find the most likely traits of Donald Trump and Barack Obama, given their speeches. Does the result surprise you?"
   ]
  },
  {
   "cell_type": "code",
   "execution_count": 1,
   "metadata": {
    "collapsed": true
   },
   "outputs": [],
   "source": [
    "def get_personality(text):\n",
    "    pass"
   ]
  },
  {
   "cell_type": "markdown",
   "metadata": {
    "collapsed": true
   },
   "source": [
    "### Question 2"
   ]
  },
  {
   "cell_type": "markdown",
   "metadata": {},
   "source": [
    "Do something interesting with the API! It's up to you to find some corpus of text, and find out something interesting about it. "
   ]
  },
  {
   "cell_type": "code",
   "execution_count": null,
   "metadata": {
    "collapsed": true
   },
   "outputs": [],
   "source": []
  }
 ],
 "metadata": {
  "kernelspec": {
   "display_name": "Python 3",
   "language": "python",
   "name": "python3"
  },
  "language_info": {
   "codemirror_mode": {
    "name": "ipython",
    "version": 3
   },
   "file_extension": ".py",
   "mimetype": "text/x-python",
   "name": "python",
   "nbconvert_exporter": "python",
   "pygments_lexer": "ipython3",
   "version": "3.6.0"
  }
 },
 "nbformat": 4,
 "nbformat_minor": 2
}
