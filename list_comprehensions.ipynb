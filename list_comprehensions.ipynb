{
 "cells": [
  {
   "cell_type": "markdown",
   "metadata": {},
   "source": [
    "# List Comprehensions\n",
    "\n",
    "In this notebook we will learn how to create lists and dictionaries using the for and if operators. This is a very powerful technique that will take a while to master, but it will be worth it!"
   ]
  },
  {
   "cell_type": "markdown",
   "metadata": {},
   "source": [
    "## Creating a list using loops and a test\n",
    "\n",
    "The basic syntax of the list comprehension is the following:\n",
    "\n",
    "    my_list = [EXPRESSION for x in L for y in M ... if TEST]\n",
    "    \n",
    "This will create a list by looping through all of the x in the list L, and the y in the list M, etc. and then running some TEST on x,y,... For those x and y and other variables that pass the test, it uses them to evaluate the EXPRESSION and makes a list of all of those values. We can get the same effect using two loops and a conditional with an accumulation-style loop:\n",
    "\n",
    "    my_list=[]\n",
    "    for x in L:\n",
    "        for y in M:\n",
    "            if TEST:\n",
    "               my_list.append(EXPRESSION)\n",
    "\n",
    "but the list comprehension is much easier to write!\n",
    "\n",
    "For example, the following list comprehension has one loop and no if and it creates a list of the squares of all odd numbers from 1 to 20"
   ]
  },
  {
   "cell_type": "code",
   "execution_count": null,
   "metadata": {
    "collapsed": false
   },
   "outputs": [],
   "source": [
    "odd_squares = [x*x for x in range(1,20) if x%2==1]\n",
    "\n",
    "print(odd_squares)\n",
    "\n"
   ]
  },
  {
   "cell_type": "markdown",
   "metadata": {},
   "source": [
    "and here is how we do it using for and if statements. This does exactly the same calcuation as the list comprehension but its clearly much more complex..."
   ]
  },
  {
   "cell_type": "code",
   "execution_count": null,
   "metadata": {
    "collapsed": false
   },
   "outputs": [],
   "source": [
    "odd_squares = []\n",
    "for x in range(1,20):\n",
    "    if x%2==1:\n",
    "        odd_squares.append(x*x)\n",
    "\n",
    "print(odd_squares)"
   ]
  },
  {
   "cell_type": "markdown",
   "metadata": {},
   "source": [
    "## Project LC1\n",
    "Write a list comprehenson to create the list of the square roots of numbers from 1 to 10. Cut/paste your answer into TeachBack\n",
    "***"
   ]
  },
  {
   "cell_type": "code",
   "execution_count": null,
   "metadata": {
    "collapsed": false
   },
   "outputs": [],
   "source": [
    "import math\n",
    "sqroots = []  # turn this into a list comprehension to calculate the square roots of 1..10\n",
    "for x in sqroots:\n",
    "    print(x)"
   ]
  },
  {
   "cell_type": "markdown",
   "metadata": {},
   "source": [
    "## Multiple loops\n",
    "Here is a list comprehension to find all the ways to roll 2 dice and get a 9. Observe that it first loops over all the values for x from 1 through 6 and for each x it then loops through the values of y from 1 to 6 and if x+y equals 9, it creates a tuple (x,y) and forms the list of all of those tuples!  Try it. What happens if you remove the if condition? Why do we loop over range(1,7) and not range(1,6)?"
   ]
  },
  {
   "cell_type": "code",
   "execution_count": null,
   "metadata": {
    "collapsed": false
   },
   "outputs": [],
   "source": [
    "vals = [(x,y) for x in range(1,7) for y in range(1,7) if x+y==9]\n",
    "print('there are',len(vals), 'ways of rolling two dice and getting a 9. Here they are \\n',vals)"
   ]
  },
  {
   "cell_type": "markdown",
   "metadata": {},
   "source": [
    "## Project LC2\n",
    "Use list comprehensions to find out the number of ways you can roll three dice to get 11. Cut/paste your code and your answer into TeachBack.\n",
    "***"
   ]
  },
  {
   "cell_type": "code",
   "execution_count": null,
   "metadata": {
    "collapsed": false
   },
   "outputs": [],
   "source": [
    "vals = []\n",
    "print('there are',len(vals),'ways of rolling 11 with 3 dice. Here they are\\n',vals)"
   ]
  },
  {
   "cell_type": "markdown",
   "metadata": {},
   "source": [
    "## Filtering a list\n",
    "Here is a list comprehension to return the list of all words in a sentence which are five or more letters long, together with their length in a tuple:"
   ]
  },
  {
   "cell_type": "code",
   "execution_count": null,
   "metadata": {
    "collapsed": false
   },
   "outputs": [],
   "source": [
    "sentence = input(\"Enter a sentence\");\n",
    "long_words = [(word,len(word)) for word in sentence.split() if len(word)>=5]\n",
    "print(\"the long words are \",long_words)"
   ]
  },
  {
   "cell_type": "markdown",
   "metadata": {},
   "source": [
    "## Project LC3\n",
    "Modify the code above so that it returns all words whose length is 3 or less. Cut/paste your code into TeachBack.  The list comprehension should simply return a list of the words not a list of tuples! It should have the form\n",
    "    short_words = ....\n",
    "***"
   ]
  },
  {
   "cell_type": "code",
   "execution_count": null,
   "metadata": {
    "collapsed": true
   },
   "outputs": [],
   "source": [
    "sentence = input(\"Enter a sentence\");\n",
    "short_words = []  # modify this line!\n",
    "print(\"the short words are \",short_words)"
   ]
  },
  {
   "cell_type": "markdown",
   "metadata": {},
   "source": [
    "## Project LC4\n",
    "The example below defines a list menu of tuples consisting of the menu item and its cost. \n",
    "Write a list comprehension which returns the sublist of inexpensive menu items, i.e. those less than 10 dollars. Cut/paste your definition of cheap_items into TeachBack. Remember that you can access the elements of a tuple using indexing just like lists, so if x=('burger',7.25), then x[0] is 'burger' and x[1] is 7.25"
   ]
  },
  {
   "cell_type": "code",
   "execution_count": null,
   "metadata": {
    "collapsed": false
   },
   "outputs": [],
   "source": [
    "menu = [\n",
    "    ('burger',7.25),\n",
    "    ('steak',12.00),\n",
    "    ('curry',18.50),\n",
    "    ('sushi',15.00),\n",
    "    ('lobster',29.45),\n",
    "    ('mac and cheese',6.25),\n",
    "    ('roast chicken',9.50),\n",
    "    ('salmon',15.34),\n",
    "    ('caesar salad',9.00),\n",
    "    ('cobb salad',11,95),\n",
    "    ('soda',2.25),\n",
    "    ('bottled water',1.50)\n",
    "]\n",
    "cheap_items = []\n",
    "\n",
    "print('there are',len(cheap_items),'costing less than $10. Here they are\\n',cheap_items)\n"
   ]
  },
  {
   "cell_type": "code",
   "execution_count": null,
   "metadata": {
    "collapsed": true
   },
   "outputs": [],
   "source": []
  }
 ],
 "metadata": {
  "kernelspec": {
   "display_name": "Python 3",
   "language": "python",
   "name": "python3"
  },
  "language_info": {
   "codemirror_mode": {
    "name": "ipython",
    "version": 3
   },
   "file_extension": ".py",
   "mimetype": "text/x-python",
   "name": "python",
   "nbconvert_exporter": "python",
   "pygments_lexer": "ipython3",
   "version": "3.6.0"
  }
 },
 "nbformat": 4,
 "nbformat_minor": 1
}
