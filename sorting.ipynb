{
 "cells": [
  {
   "cell_type": "markdown",
   "metadata": {},
   "source": [
    "# Sorting and Counting"
   ]
  },
  {
   "cell_type": "markdown",
   "metadata": {},
   "source": [
    "In this notebook we will look at two operations\n",
    "* sorting a list\n",
    "* counting the number of times each item appears in a list\n"
   ]
  },
  {
   "cell_type": "markdown",
   "metadata": {},
   "source": [
    "## Sorting\n",
    "Lets start with sorting.  The easiest way is to use the sorted method to sort a list of numbers or strings.\n",
    "https://docs.python.org/3/howto/sorting.html#sortinghowto"
   ]
  },
  {
   "cell_type": "code",
   "execution_count": null,
   "metadata": {
    "collapsed": false
   },
   "outputs": [],
   "source": [
    "vals = [3,1,4,1,5,9,2,6]\n",
    "words = \"This is a short sentence\".split()\n",
    "sortedvals = sorted(vals)\n",
    "sortedwords = sorted(words)\n",
    "print(sortedvals)\n",
    "print(sortedwords)\n"
   ]
  },
  {
   "cell_type": "markdown",
   "metadata": {},
   "source": [
    "## SC0\n",
    "Write the python code to sort the words in this sentence and cut and paste your code into TeachBack"
   ]
  },
  {
   "cell_type": "code",
   "execution_count": null,
   "metadata": {
    "collapsed": true
   },
   "outputs": [],
   "source": [
    "#put your code here"
   ]
  },
  {
   "cell_type": "markdown",
   "metadata": {},
   "source": [
    "## Sorting with a key\n",
    "Sometimes though we may want to sort a list of more complex items, like lists or dictionaries. To do this we can sort using a \"key\" function which turns each item in the list into a number or string or other sortable type. Here is an example."
   ]
  },
  {
   "cell_type": "code",
   "execution_count": null,
   "metadata": {
    "collapsed": false
   },
   "outputs": [],
   "source": [
    "sort_by_length = sorted(words,key=len)\n",
    "print(sort_by_length)\n"
   ]
  },
  {
   "cell_type": "code",
   "execution_count": null,
   "metadata": {
    "collapsed": false
   },
   "outputs": [],
   "source": [
    "# this is a table of item, quantity, and cost per item\n",
    "tablestring = \"\"\"apples 5 3.25\n",
    "pears 2 6.99\n",
    "bananas 12 0.25\"\"\"\n",
    "shoppinglist = [row.split() for row in tablestring.split('\\n')]\n",
    "print(shoppinglist)\n",
    "\n",
    "def totalcost(row):\n",
    "    return float(row[1])*float(row[2])\n",
    "\n",
    "sort_by_total_cost = sorted(shoppinglist,key=totalcost)\n",
    "print(sort_by_total_cost)"
   ]
  },
  {
   "cell_type": "markdown",
   "metadata": {},
   "source": [
    "## SC1\n",
    "Write the python code to sort the shopping list by the cost per item."
   ]
  },
  {
   "cell_type": "code",
   "execution_count": null,
   "metadata": {
    "collapsed": true
   },
   "outputs": [],
   "source": [
    "#put your code here"
   ]
  },
  {
   "cell_type": "markdown",
   "metadata": {},
   "source": [
    "## Counting\n",
    "Next we look at an important pattern, in which we count the number of times something occurs, e.g. the number of times each word in Romeo and Juliet appears. Here is the code:"
   ]
  },
  {
   "cell_type": "code",
   "execution_count": 15,
   "metadata": {
    "collapsed": false
   },
   "outputs": [
    {
     "name": "stdout",
     "output_type": "stream",
     "text": [
      "{'that': 5, 'is': 6, 'not': 3, 'it': 2}\n"
     ]
    }
   ],
   "source": [
    "def count_words(wordlist):\n",
    "    counter={} # empty dictionary\n",
    "    for word in wordlist:\n",
    "        if word in counter:\n",
    "            counter[word]+= 1\n",
    "        else:\n",
    "            counter[word]=1\n",
    "    return counter\n",
    "\n",
    "sentence = \"that that is is that that is not is not is that not it it is\"\n",
    "counts = count_words(sentence.split())\n",
    "print(counts)"
   ]
  },
  {
   "cell_type": "markdown",
   "metadata": {},
   "source": [
    "## SC2\n",
    "Write the python code to count the number of occurences of each word in Romeo and Juliet"
   ]
  },
  {
   "cell_type": "code",
   "execution_count": 17,
   "metadata": {
    "collapsed": false
   },
   "outputs": [
    {
     "data": {
      "text/plain": [
       "[(6, 'is'), (5, 'that'), (3, 'not'), (2, 'it')]"
      ]
     },
     "execution_count": 17,
     "metadata": {},
     "output_type": "execute_result"
    }
   ],
   "source": [
    "# put your code here\n",
    "#rj_lines = open(\"romeo_and_juliet.txt\").read().split()\n",
    "#counts = count_words(rj_lines)\n",
    "counters = sorted([(counts[x],x) for x in counts], reverse=True)\n",
    "counters"
   ]
  },
  {
   "cell_type": "markdown",
   "metadata": {},
   "source": [
    "## SC3\n",
    "Create the counter of R&J words as above, and then sort that list by the number of times the word occurs and find the 20 most common words in R&J\n"
   ]
  },
  {
   "cell_type": "code",
   "execution_count": 6,
   "metadata": {
    "collapsed": false
   },
   "outputs": [
    {
     "data": {
      "text/plain": [
       "[(2, 'it'), (3, 'not'), (5, 'that'), (6, 'is')]"
      ]
     },
     "execution_count": 6,
     "metadata": {},
     "output_type": "execute_result"
    }
   ],
   "source": [
    "# put your code here\n",
    "sorted([(counts[x],x) for x in counts])"
   ]
  },
  {
   "cell_type": "code",
   "execution_count": null,
   "metadata": {
    "collapsed": true
   },
   "outputs": [],
   "source": []
  }
 ],
 "metadata": {
  "kernelspec": {
   "display_name": "Python 3",
   "language": "python",
   "name": "python3"
  },
  "language_info": {
   "codemirror_mode": {
    "name": "ipython",
    "version": 3
   },
   "file_extension": ".py",
   "mimetype": "text/x-python",
   "name": "python",
   "nbconvert_exporter": "python",
   "pygments_lexer": "ipython3",
   "version": "3.6.0"
  }
 },
 "nbformat": 4,
 "nbformat_minor": 1
}
