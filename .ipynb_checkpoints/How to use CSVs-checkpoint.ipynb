{
 "cells": [
  {
   "cell_type": "markdown",
   "metadata": {},
   "source": [
    "# How to use and manipulate CSV files in Python"
   ]
  },
  {
   "cell_type": "markdown",
   "metadata": {},
   "source": [
    "## Part 1 - What is a CSV file"
   ]
  },
  {
   "cell_type": "markdown",
   "metadata": {},
   "source": [
    "A csv file is a type of file where the data is structured into rows and columns, using commas and new lines. They're commonly used to represent data in a spreadsheet - such as from Microsoft Excel or Google Sheets.\n",
    "\n",
    "For example, if I had this spreadsheet on Google Sheets:\n",
    "\n",
    "![http://i.imgur.com/9ig18Kt.png](http://i.imgur.com/9ig18Kt.png)\n",
    "\n",
    "And then I went to File->Download As->Comma-separated values and downloaded the file, it would look like this:"
   ]
  },
  {
   "cell_type": "raw",
   "metadata": {},
   "source": [
    "Item,Quantity,Price per item\n",
    "Bag of carrots,3,$3\n",
    "Box of cookies,2,$4\n",
    "Brie Cheese,1,$4"
   ]
  },
  {
   "cell_type": "markdown",
   "metadata": {},
   "source": [
    "In this example, the first row has three things separated by commas. For each of the following row, the first item correspons to the first item in the first row (so Bag of carrots is an item, 3 is a quantity, and $3 is a price per item. \n",
    "\n",
    "P.S. If you can't remember which are rows and which are columns, you can think of columns like the roman columns (going up and down), and rows like running (left to right).\n",
    "\n",
    "This shows probably the biggest reason we care about CSV files. They're structured, so they're easy to read programmatically, but they're also easy to just give to someone who knows nothing about code, so they can just open it in their favorite spreadsheet program. Many times when downloading large data sets from online, they will give you CSV files to read."
   ]
  },
  {
   "cell_type": "markdown",
   "metadata": {},
   "source": [
    "## Part 2 - Reading CSV Files"
   ]
  },
  {
   "cell_type": "markdown",
   "metadata": {},
   "source": [
    "### Part 2a - Reading them manually"
   ]
  },
  {
   "cell_type": "markdown",
   "metadata": {},
   "source": [
    "Remember that CSV files are just regular files with a standard formatting.\n",
    "Therefore, you can just read them like a regular file, and get the data you want.\n",
    "\n",
    "For example, if we want to figure out how much we will have to pay in the end, we have to go through the rows, and multiply the price by the quantity, and add them all up."
   ]
  },
  {
   "cell_type": "code",
   "execution_count": 2,
   "metadata": {
    "collapsed": false
   },
   "outputs": [
    {
     "name": "stdout",
     "output_type": "stream",
     "text": [
      "Item,Quantity,Price per item\n",
      "Bag of carrots,3,$3\n",
      "Box of cookies,2,$4\n",
      "Brie Cheese,1,$4\n"
     ]
    }
   ],
   "source": [
    "csv_text = open(\"shopping_list.csv\").read() # How to turn a file into a string\n",
    "print (csv_text)"
   ]
  },
  {
   "cell_type": "code",
   "execution_count": 3,
   "metadata": {
    "collapsed": false
   },
   "outputs": [
    {
     "name": "stdout",
     "output_type": "stream",
     "text": [
      "['Item,Quantity,Price per item', 'Bag of carrots,3,$3', 'Box of cookies,2,$4', 'Brie Cheese,1,$4']\n"
     ]
    }
   ],
   "source": [
    "# Now we have to split it on the new lines, so each \n",
    "csv_text_split = csv_text.split(\"\\n\")\n",
    "print(csv_text_split)"
   ]
  },
  {
   "cell_type": "code",
   "execution_count": 4,
   "metadata": {
    "collapsed": false
   },
   "outputs": [
    {
     "data": {
      "text/plain": [
       "'Item,Quantity,Price per item'"
      ]
     },
     "execution_count": 4,
     "metadata": {},
     "output_type": "execute_result"
    }
   ],
   "source": [
    "# We can get rid of the first line, since that's just the headers. We know that quantity is index 1, and price is index 2.\n",
    "csv_text_split.pop(0) # Delete the line at index 0 - since it's the headers"
   ]
  },
  {
   "cell_type": "code",
   "execution_count": 5,
   "metadata": {
    "collapsed": false
   },
   "outputs": [
    {
     "name": "stdout",
     "output_type": "stream",
     "text": [
      "Total Price: $21\n"
     ]
    }
   ],
   "source": [
    "# And now we just iterate through each line, and take out the information we want. \n",
    "total_price = 0\n",
    "for line in csv_text_split: # For each line\n",
    "    new_line = line.split(\",\") # split the line on the comma, so the line is now a list [Item,Quantity,Price]\n",
    "    quantity = int(new_line[1]) # turn the thing at index 1 into an int\n",
    "    price_per_item = int(new_line[2][1:]) # take the dollar sign off the thing at index 2, and turn it into an int\n",
    "    \n",
    "    total_price += quantity*price_per_item\n",
    "\n",
    "print(\"Total Price: ${}\".format(total_price)) "
   ]
  },
  {
   "cell_type": "markdown",
   "metadata": {},
   "source": [
    "### Part 2b - Using the CSV library"
   ]
  },
  {
   "cell_type": "markdown",
   "metadata": {},
   "source": [
    "That wasn't awful - but there's a lot of code in there that would be repeated in all CSVs. In addition, our code doesn't handle some special cases (What if there are commas in the item, for example?)\n",
    "\n",
    "Because of this, Python comes with a CSV library that makes it extremely easy to turn a CSV file into a list of lists, so that you can parse it more easily. Let me show you how it works:"
   ]
  },
  {
   "cell_type": "code",
   "execution_count": 6,
   "metadata": {
    "collapsed": false
   },
   "outputs": [
    {
     "name": "stdout",
     "output_type": "stream",
     "text": [
      "['Item', 'Quantity', 'Price per item']\n",
      "['Bag of carrots', '3', '$3']\n",
      "['Box of cookies', '2', '$4']\n",
      "['Brie Cheese', '1', '$4']\n"
     ]
    }
   ],
   "source": [
    "# First step: import the library\n",
    "import csv\n",
    "\n",
    "# Second step: pass the open file into csv.reader\n",
    "csv_lists = csv.reader(open(\"shopping_list.csv\"))\n",
    "\n",
    "# Third step: iterate through the file you created:\n",
    "for line in csv_lists: \n",
    "    print(line)"
   ]
  },
  {
   "cell_type": "markdown",
   "metadata": {},
   "source": [
    "If we want to rewrite the code for finding the total price:"
   ]
  },
  {
   "cell_type": "code",
   "execution_count": 7,
   "metadata": {
    "collapsed": false
   },
   "outputs": [
    {
     "name": "stdout",
     "output_type": "stream",
     "text": [
      "Total cost is: $21\n"
     ]
    }
   ],
   "source": [
    "csv_lists = csv.reader(open(\"shopping_list.csv\"))\n",
    "total_cost = 0\n",
    "next(csv_lists) # this advances the csv_lists by one\n",
    "\n",
    "for line in csv_lists:\n",
    "    quantity = int(line[1])\n",
    "    price = int(line[2][1:])\n",
    "    total_cost += quantity*price\n",
    "print(\"Total cost is: ${}\".format(total_cost))"
   ]
  },
  {
   "cell_type": "markdown",
   "metadata": {},
   "source": [
    "Something to keep in mind is that csv.reader isn't exactly a list of lists. It just goes through each line, and then becomes empty. So you can't read from csv_lists twice - the second time it will just be empty. This also means you can't do indexing on it. "
   ]
  },
  {
   "cell_type": "code",
   "execution_count": 8,
   "metadata": {
    "collapsed": true
   },
   "outputs": [],
   "source": [
    "for line in csv_lists:\n",
    "    print(line)"
   ]
  },
  {
   "cell_type": "markdown",
   "metadata": {},
   "source": [
    "The reason the csv library does this is in case you had a very large CSV file - this way, you don't have to store it all in memory, you can just read it line by line.\n",
    "\n",
    "To read from it more than once, you can convert it into a list after reading it. This will store the entire list in your computer's memory, and allow you to use it like a list of lists. "
   ]
  },
  {
   "cell_type": "code",
   "execution_count": 9,
   "metadata": {
    "collapsed": false
   },
   "outputs": [
    {
     "name": "stdout",
     "output_type": "stream",
     "text": [
      "[['Item', 'Quantity', 'Price per item'], ['Bag of carrots', '3', '$3'], ['Box of cookies', '2', '$4'], ['Brie Cheese', '1', '$4']]\n",
      "$3\n"
     ]
    }
   ],
   "source": [
    "csv_lists = list(csv.reader(open(\"shopping_list.csv\")))\n",
    "print(csv_lists)\n",
    "\n",
    "print(csv_lists[1][2])"
   ]
  },
  {
   "cell_type": "markdown",
   "metadata": {},
   "source": [
    "Now you have a list of lists, which is the data from your CSV.\n",
    "\n",
    "Try writing code that goes through csv_lists, and prints out the item you're spending the most money on."
   ]
  },
  {
   "cell_type": "code",
   "execution_count": 10,
   "metadata": {
    "collapsed": false
   },
   "outputs": [
    {
     "data": {
      "text/plain": [
       "'Bag of carrots'"
      ]
     },
     "execution_count": 10,
     "metadata": {},
     "output_type": "execute_result"
    }
   ],
   "source": [
    "# answer - will be blank for students:\n",
    "def most_expensive(csv_lists):\n",
    "    max_item = \"\"\n",
    "    max_price = -1\n",
    "    for line in csv_lists:\n",
    "        total_price = int(line[1])*int(line[2][1:])\n",
    "        if total_price>max_price:\n",
    "            max_price = total_price\n",
    "            max_item = line[0]\n",
    "    \n",
    "    return max_item\n",
    "most_expensive(csv_lists[1:])"
   ]
  },
  {
   "cell_type": "markdown",
   "metadata": {},
   "source": [
    "You might have noticed a lot of annoying things about working with this library while working with it. For one, you have to drop the first row, since it doesn't contain any data you want. Secondly, you have to refer to the items by index, which means you have to know the index of what you want.\n",
    "\n",
    "These issues can be solved with the DictReader module of the csv library. Let me show you how that one works, and what it produces:"
   ]
  },
  {
   "cell_type": "code",
   "execution_count": 11,
   "metadata": {
    "collapsed": false
   },
   "outputs": [
    {
     "name": "stdout",
     "output_type": "stream",
     "text": [
      "{'Item': 'Bag of carrots', 'Price per item': '$3', 'Quantity': '3'}\n",
      "{'Item': 'Box of cookies', 'Price per item': '$4', 'Quantity': '2'}\n",
      "{'Item': 'Brie Cheese', 'Price per item': '$4', 'Quantity': '1'}\n"
     ]
    }
   ],
   "source": [
    "# csv library is already imported\n",
    "csv_file = csv.DictReader(open(\"shopping_list.csv\"))\n",
    "\n",
    "# now let's see what's inside\n",
    "for line in csv_file:\n",
    "    print(line)"
   ]
  },
  {
   "cell_type": "markdown",
   "metadata": {},
   "source": [
    "As you can see, the DictReader takes in a CSV file, and gives you a bunch of dictionaries, where the key is the header, and the value is the value at that line. This makes it easy to write very readable code, as you can use the name of the header to get what you want. For example, to rewrite the \"total cost\" code:"
   ]
  },
  {
   "cell_type": "code",
   "execution_count": 13,
   "metadata": {
    "collapsed": false
   },
   "outputs": [
    {
     "name": "stdout",
     "output_type": "stream",
     "text": [
      "Total cost is: $21\n"
     ]
    }
   ],
   "source": [
    "csv_file = csv.DictReader(open(\"shopping_list.csv\"))\n",
    "total_cost = 0\n",
    "for line in csv_file:\n",
    "    quantity = int(line['Quantity'])\n",
    "    price = int(line['Price per item'][1:])\n",
    "    total_cost += quantity*price\n",
    "print(\"Total cost is: ${}\".format(total_cost))"
   ]
  },
  {
   "cell_type": "markdown",
   "metadata": {},
   "source": [
    "It's up to you which version you want to use - whatever you're more comfortable with and you think looks the best."
   ]
  },
  {
   "cell_type": "code",
   "execution_count": null,
   "metadata": {
    "collapsed": true
   },
   "outputs": [],
   "source": []
  }
 ],
 "metadata": {
  "kernelspec": {
   "display_name": "Python 2",
   "language": "python",
   "name": "python2"
  },
  "language_info": {
   "codemirror_mode": {
    "name": "ipython",
    "version": 2
   },
   "file_extension": ".py",
   "mimetype": "text/x-python",
   "name": "python",
   "nbconvert_exporter": "python",
   "pygments_lexer": "ipython2",
   "version": "2.7.10"
  }
 },
 "nbformat": 4,
 "nbformat_minor": 0
}
