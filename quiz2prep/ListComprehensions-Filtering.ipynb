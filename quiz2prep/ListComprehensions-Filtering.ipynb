{
 "cells": [
  {
   "cell_type": "markdown",
   "metadata": {},
   "source": [
    "# List Comprehensions - Filtering\n",
    "In this notebook we look at how to use list comprehensions to filter a list with respect to a condition. In other words, construct the sublist of all elements satisfying some condition. The general for for this kind of list comprehension is\n",
    "\n",
    "     sub_list = [x for x in old_list if g(x)]\n",
    "\n",
    "where g is some boolean function or condition. Here are some examples.\n",
    "\n",
    "First lets define the rand_grades(n) function to generates lists of random quiz scores of a specified length.\n",
    "Note that we have to import the random package and then we can use the random.randint(a,b) function which returns a random integer in the specified range a<=x<=b."
   ]
  },
  {
   "cell_type": "code",
   "execution_count": null,
   "metadata": {
    "collapsed": false
   },
   "outputs": [],
   "source": [
    "import random\n",
    "def rand_grades(n):\n",
    "    \"\"\"rand_grades(n) returns a list of length n of random scores in the range 70 to 100\"\"\"\n",
    "    return [random.randint(70,100) for x in range(0,n)]\n",
    "\n",
    "grades =rand_grades(25)\n",
    "print(grades)"
   ]
  },
  {
   "cell_type": "markdown",
   "metadata": {},
   "source": [
    "Now lets write a function to filter out grades which are within a specified range (lo,hi). This uses the following list comprehension with an \"if\" condition at the end to filter the grades\n",
    "\n",
    "     [x for x in grades if lo<=x<hi]\n",
    "\n",
    "Here we are filtering grades up to but not including the \"hi\" grade."
   ]
  },
  {
   "cell_type": "code",
   "execution_count": null,
   "metadata": {
    "collapsed": false
   },
   "outputs": [],
   "source": [
    "def filter_grades(grades,lo,hi):\n",
    "    return [x for x in grades if lo<=x<hi]\n",
    "\n",
    "grades1 = rand_grades(25)\n",
    "\n",
    "print('the A-\\'s are', filter_grades(grades1,90,93))\n",
    "print('the As are', filter_grades(grades1,93,97))\n",
    "print('the A+\\'s are',filter_grades(grades1,97,101))\n",
    "print()\n",
    "print('All of the grades (sorted) are\\n',sorted(grades1))"
   ]
  },
  {
   "cell_type": "markdown",
   "metadata": {},
   "source": [
    "## Filtering odd and even numbers\n",
    "Here's an example of filtering the odd and even numbers from a list"
   ]
  },
  {
   "cell_type": "code",
   "execution_count": null,
   "metadata": {
    "collapsed": false
   },
   "outputs": [],
   "source": [
    "def filter_odds(vals):\n",
    "    \"\"\"filter_odds(vals) returns the sublist of odd numbers in the list vals of integers\"\"\"\n",
    "    return [x for x in vals if x%2==1]\n",
    "def filter_evens(vals):\n",
    "    \"\"\"filter_evens(vals) returns the sublist of even numbers in the list vals of integers\"\"\"\n",
    "    return [x for x in vals if x%2==0]\n",
    "\n",
    "grades2 = rand_grades(30)\n",
    "print(grades2)\n",
    "print(filter_odds(grades2))\n",
    "print(filter_evens(grades2))"
   ]
  },
  {
   "cell_type": "markdown",
   "metadata": {},
   "source": [
    "# Filtering using a boolean function\n",
    "Here is an example where we filter out all of those points p=(x,y) in a list vals of points if the point p is within 1 unit of the origin (0,0). First, though, we write a method to generate a list of points (x,y) where x and y are randomly selected decimal numbers between 0 and 1"
   ]
  },
  {
   "cell_type": "code",
   "execution_count": null,
   "metadata": {
    "collapsed": false
   },
   "outputs": [],
   "source": [
    "import math\n",
    "def dist_from_zero(p):\n",
    "    \"\"\"dist_from_zero(p) uses the formula d=sqrt(x^2+y^2) to find the distance of p=(x,y) from the origin\"\"\"\n",
    "    return math.sqrt(p[0]*p[0]+p[1]*p[1])\n",
    "\n",
    "def rand_points(n):\n",
    "    \"\"\"rand_points(n) returns a list of n points (x,y) where x,y are random decimal numbers between 0 and 1\"\"\"\n",
    "    return [(random.random(),random.random()) for x in range(0,n)]\n",
    "\n",
    "points = rand_points(10)\n",
    "close_points = [p for p in points if dist_from_zero(p)<1]\n",
    "for x in close_points:\n",
    "    print(x,dist_from_zero(x))"
   ]
  },
  {
   "cell_type": "markdown",
   "metadata": {},
   "source": [
    "## Filtering a list of dictionaries\n",
    "Here is an example of filtering a list of dictionaries, but first we write a function to create a random dictionary and then use list comprehensions to make a list of n random dictionaries"
   ]
  },
  {
   "cell_type": "code",
   "execution_count": 1,
   "metadata": {
    "collapsed": false
   },
   "outputs": [
    {
     "name": "stdout",
     "output_type": "stream",
     "text": [
      "here is a random student {'id': 130449, 'age': 22, 'quizzes': [86, 91, 100]}\n",
      "here is a list of random students\n",
      "{'id': 171037, 'age': 21, 'quizzes': [92, 77, 79]}\n",
      "{'id': 146477, 'age': 18, 'quizzes': [74, 92, 82]}\n",
      "{'id': 128615, 'age': 19, 'quizzes': [73, 75, 100]}\n",
      "{'id': 107228, 'age': 19, 'quizzes': [81, 99, 82]}\n",
      "{'id': 181948, 'age': 22, 'quizzes': [73, 77, 74]}\n",
      "{'id': 113368, 'age': 22, 'quizzes': [92, 87, 95]}\n",
      "{'id': 147059, 'age': 20, 'quizzes': [98, 73, 99]}\n",
      "{'id': 148948, 'age': 22, 'quizzes': [97, 91, 89]}\n",
      "{'id': 165169, 'age': 19, 'quizzes': [70, 98, 70]}\n",
      "{'id': 112900, 'age': 20, 'quizzes': [83, 90, 81]}\n",
      "{'id': 119426, 'age': 18, 'quizzes': [86, 80, 81]}\n",
      "{'id': 122134, 'age': 17, 'quizzes': [96, 80, 77]}\n",
      "{'id': 111018, 'age': 19, 'quizzes': [86, 98, 87]}\n",
      "{'id': 141265, 'age': 21, 'quizzes': [81, 92, 91]}\n",
      "{'id': 162394, 'age': 21, 'quizzes': [84, 88, 79]}\n",
      "{'id': 128736, 'age': 22, 'quizzes': [73, 71, 82]}\n",
      "{'id': 118038, 'age': 18, 'quizzes': [70, 92, 76]}\n",
      "{'id': 150321, 'age': 18, 'quizzes': [98, 96, 70]}\n",
      "{'id': 108642, 'age': 22, 'quizzes': [82, 100, 95]}\n",
      "{'id': 120743, 'age': 21, 'quizzes': [80, 70, 77]}\n"
     ]
    }
   ],
   "source": [
    "import random\n",
    "def rand_student():\n",
    "    \"\"\"rand_student() returns a dictionary with random values for the keys age and id\n",
    "    and list of three random scores for the quizzes key\n",
    "    \"\"\"\n",
    "    id = 100000+random.randint(1,99999)\n",
    "    age = random.randint(17,22)\n",
    "    quiz1 = random.randint(70,100)\n",
    "    quiz2 = random.randint(70,100)\n",
    "    quiz3 = random.randint(70,100)\n",
    "    student = {\"id\":id, \"age\":age, \"quizzes\":[quiz1,quiz2,quiz3]}\n",
    "    return student\n",
    "print('here is a random student',rand_student())\n",
    "\n",
    "def rand_students(n):\n",
    "    \"\"\"rand_students(n) returns a list of n randomly generated students\"\"\"\n",
    "    return [rand_student() for x in range(0,n)]\n",
    "print('here is a list of random students')\n",
    "students = rand_students(20)\n",
    "for x in students:\n",
    "    print(x)"
   ]
  },
  {
   "cell_type": "markdown",
   "metadata": {},
   "source": [
    "# Filtering out the minors\n",
    "Here we return the list of students who are under 18 years old"
   ]
  },
  {
   "cell_type": "code",
   "execution_count": null,
   "metadata": {
    "collapsed": false
   },
   "outputs": [],
   "source": [
    "def filter_minors(students):\n",
    "    \"\"\"filter_minors(students) returns the list of students who are 17 years or younger\"\"\"\n",
    "    return [s for s in students if s['age']<18]\n",
    "print('and here are the minors')\n",
    "minors = filter_minors(students)\n",
    "for s in minors:\n",
    "    print(s)\n"
   ]
  },
  {
   "cell_type": "markdown",
   "metadata": {},
   "source": [
    "## Coding Challenges\n",
    "Write and test a function to filter out the students whose average quiz grade is below 80\n"
   ]
  },
  {
   "cell_type": "code",
   "execution_count": null,
   "metadata": {
    "collapsed": false
   },
   "outputs": [],
   "source": [
    "def average(vals):\n",
    "    \"\"\"average(vals) returns the mean average of the list of numbers, vals\"\"\"\n",
    "    return sum(vals)/len(vals)\n",
    "\n",
    "def average_quiz_score(s):\n",
    "    \"\"\"average_quiz_score(s) returns the average of the 3 quiz scores for the student\"\"\"\n",
    "    return average(s['quizzes'])\n"
   ]
  },
  {
   "cell_type": "code",
   "execution_count": null,
   "metadata": {
    "collapsed": true
   },
   "outputs": [],
   "source": []
  }
 ],
 "metadata": {
  "kernelspec": {
   "display_name": "Python 3",
   "language": "python",
   "name": "python3"
  },
  "language_info": {
   "codemirror_mode": {
    "name": "ipython",
    "version": 3
   },
   "file_extension": ".py",
   "mimetype": "text/x-python",
   "name": "python",
   "nbconvert_exporter": "python",
   "pygments_lexer": "ipython3",
   "version": "3.6.0"
  }
 },
 "nbformat": 4,
 "nbformat_minor": 1
}
