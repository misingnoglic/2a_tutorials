{
 "cells": [
  {
   "cell_type": "markdown",
   "metadata": {},
   "source": [
    "# Lists, Tuples, Dictionaries, and Sets\n",
    "In this notebook we give examples of how to work with dictionaries, tuples, and lists.\n",
    "\n"
   ]
  },
  {
   "cell_type": "markdown",
   "metadata": {},
   "source": [
    "## Lists\n",
    "Recall that lists are created using the square bracket notation, e.g.\n",
    "we can create the list of all prime numbers under 30 as follows. Try adding a few more primes\n",
    "\n",
    "\n"
   ]
  },
  {
   "cell_type": "code",
   "execution_count": null,
   "metadata": {
    "collapsed": false
   },
   "outputs": [],
   "source": [
    "primes = [2,3,5,7,11,13,17,19,23,29]\n",
    "print(primes)\n"
   ]
  },
  {
   "cell_type": "markdown",
   "metadata": {},
   "source": [
    "and we can create a list of seven names using the same square bracket notation.  Try adding a few more names to the list.\n"
   ]
  },
  {
   "cell_type": "code",
   "execution_count": null,
   "metadata": {
    "collapsed": false
   },
   "outputs": [],
   "source": [
    "names = ['Tim','Yas','Shaye','Caitlin','Ryan','Meri','Pippin']\n",
    "print(names)"
   ]
  },
  {
   "cell_type": "markdown",
   "metadata": {},
   "source": [
    "We access the elements in a list using their index with the square bracket notation, remembering that the first element has index 0. So to access the fourth name ('Caitlin') we use"
   ]
  },
  {
   "cell_type": "code",
   "execution_count": null,
   "metadata": {
    "collapsed": false
   },
   "outputs": [],
   "source": [
    "print(names[3])"
   ]
  },
  {
   "cell_type": "markdown",
   "metadata": {},
   "source": [
    "We can iterate through a list using the for loop which has the form\n",
    "\n",
    "     for VARIABLE in ITERATOR\n",
    "\n",
    "where ITERATOR in this case is a list, but in general is some python object that can generate a sequence of elements. The most common iterator besides lists is the range iterator\n",
    "\n",
    "     range(A,B)\n",
    "\n",
    "which returns the integers from A up to but not including B. Here are some examples of loops.\n",
    "\n",
    "Try printing out the names in the list and their lengths.\n",
    "Try printing out the primes, with their squares and their cubes!"
   ]
  },
  {
   "cell_type": "code",
   "execution_count": null,
   "metadata": {
    "collapsed": false
   },
   "outputs": [],
   "source": [
    "print(\"here are some names\")\n",
    "for x in names:\n",
    "    print(x)\n",
    "\n",
    "print(\"\\n\\nhere are some primes, with their squares\")\n",
    "for x in primes:\n",
    "    print(x,x*x)"
   ]
  },
  {
   "cell_type": "markdown",
   "metadata": {},
   "source": [
    "## Iterating using indices\n",
    "We can also iterate through a list using the indices. Remeber that len(vals) returns the length of the list vals, but its usually just easier to iterate through the objects themselves unless you need to use the index."
   ]
  },
  {
   "cell_type": "code",
   "execution_count": 4,
   "metadata": {
    "collapsed": false
   },
   "outputs": [
    {
     "name": "stdout",
     "output_type": "stream",
     "text": [
      "name number 0 is Tim\n",
      "name number 1 is Yas\n",
      "name number 2 is Shaye\n",
      "name number 3 is Caitlin\n",
      "name number 4 is Ryan\n",
      "name number 5 is Meri\n",
      "name number 6 is Pippin\n"
     ]
    }
   ],
   "source": [
    "for i in range(0,len(names)):\n",
    "    print('name number',i,'is',names[i])"
   ]
  },
  {
   "cell_type": "markdown",
   "metadata": {},
   "source": [
    "## Creating list with List Comprehensions\n",
    "\n",
    "We can also create lists using list comprehensions. For example, to create list of the first 10 squares we use the following.  Try it and then change it to generate the first 20 cubes!\n",
    "\n"
   ]
  },
  {
   "cell_type": "code",
   "execution_count": null,
   "metadata": {
    "collapsed": false
   },
   "outputs": [],
   "source": [
    "squares = [x*x for x in range(0,10)]\n",
    "print(squares)"
   ]
  },
  {
   "cell_type": "markdown",
   "metadata": {},
   "source": [
    "## Using the \"random\" package to create lists of random elements\n",
    "\n",
    "We can use the random package create lists of various kinds of random numbers. This is good for testing. Here are the functions from the random package we'll use\n",
    "\n",
    "     import randon # this loads the package\n",
    "     random.randint(a,b) # this returns a random integer x between a and b inclusive, i.e. with a<=x<=b\n",
    "     random.choice(vals)  # this returns a random element of this list vals\n",
    "     random.random() # this returns a random float between 0 and 1\n",
    "     (b-a)*random.random()+a  # this returns a random float between a and b\n",
    "\n",
    "Lets generate a few random lists:"
   ]
  },
  {
   "cell_type": "code",
   "execution_count": null,
   "metadata": {
    "collapsed": false
   },
   "outputs": [],
   "source": [
    "import random\n",
    "quiz_scores = [random.randint(0,20) for x in range(0,20)]  # note we are only using x to count from 0 to 19\n",
    "print(quiz_scores)\n",
    "\n",
    "color_list = [random.choice(['red','blue','green']) for x in range(1,10)]\n",
    "print(color_list)\n",
    "\n",
    "weights = [random.randint(90,250) for x in range(0,15)]\n",
    "print(weights)\n",
    "\n",
    "floats = [random.random() for x in range(0,5)]\n",
    "print(floats)"
   ]
  },
  {
   "cell_type": "markdown",
   "metadata": {},
   "source": [
    "## Coding challenge\n",
    "* Generate a list of 100 numbers in the range 1-6 inclusive\n",
    "* Generate a list of 20 names randomly chosen from this list ['Trump','Clinton']\n",
    "* Generate a list of 15 marital statuses which could be 'married','single',or 'divorced'"
   ]
  },
  {
   "cell_type": "code",
   "execution_count": 8,
   "metadata": {
    "collapsed": false
   },
   "outputs": [
    {
     "name": "stdout",
     "output_type": "stream",
     "text": [
      "[1, 4, 6, 3, 6, 3, 1, 2, 6, 5, 6, 4, 5, 4, 3, 1, 3, 6, 2, 2, 1, 6, 6, 5, 6, 2, 4, 6, 5, 2, 1, 4, 4, 4, 1, 6, 4, 3, 6, 1, 1, 4, 4, 6, 6, 5, 4, 3, 2, 2, 2, 5, 6, 4, 3, 6, 5, 4, 6, 6, 6, 1, 6, 5, 6, 4, 2, 5, 1, 6, 2, 5, 4, 2, 5, 5, 3, 1, 4, 6, 2, 5, 1, 1, 3, 4, 2, 1, 5, 4, 4, 6, 5, 3, 5, 5, 2, 5, 4, 6]\n"
     ]
    }
   ],
   "source": [
    "import random\n",
    "\n",
    "dice_rolls = []\n",
    "print(dice_rolls)\n",
    "\n",
    "names = []\n",
    "print(names)\n",
    "\n",
    "stati = []\n",
    "print(stati)\n",
    "\n"
   ]
  },
  {
   "cell_type": "markdown",
   "metadata": {},
   "source": [
    "## Slices\n",
    "Python allows you to select a subset of a list, a string, or a tuple by specifying a range of indices separated by a colon. Also, Python allows negative indices which refer to the distance from the end of the list, so vals[-1] is the last element in a list, vals[-2] is the second to the last, etc."
   ]
  },
  {
   "cell_type": "code",
   "execution_count": 11,
   "metadata": {
    "collapsed": false
   },
   "outputs": [
    {
     "name": "stdout",
     "output_type": "stream",
     "text": [
      "vals[-1]= m\n",
      "vals[-2]= l\n",
      "vals[0]= a\n",
      "vals[4]= e\n",
      "vals[2:4]= cd\n",
      "vals[3:6]= def\n",
      "vals[6:8]= gh\n",
      "vals[-5:-3]= ij\n",
      "vals[-5:8]= \n",
      "vals[-3:]= klm\n",
      "vals[:3]= abc\n"
     ]
    }
   ],
   "source": [
    "vals = 'abcdefghijklm'\n",
    "print('vals[-1]=',vals[-1])\n",
    "print('vals[-2]=',vals[-2])\n",
    "print('vals[0]=',vals[0])\n",
    "print('vals[4]=',vals[4])\n",
    "print('vals[2:4]=',vals[2:4])\n",
    "print('vals[3:6]=',vals[3:6])\n",
    "print('vals[6:8]=',vals[6:8])\n",
    "print('vals[-5:-3]=',vals[-5:-3])\n",
    "print('vals[-5:8]=',vals[-5:8])\n",
    "print('vals[-3:]=',vals[-3:])\n",
    "print('vals[:3]=',vals[:3])\n"
   ]
  },
  {
   "cell_type": "markdown",
   "metadata": {},
   "source": [
    "## Selecting a subset of an array using slices with a step value\n",
    "You can also use a step value for slices, for example\n",
    "\n",
    "     vals[0:11:2]\n",
    "     \n",
    "generates an array with every other element from 0 to 10 and\n",
    "\n",
    "     vals[0::2]\n",
    "\n",
    "generates the subarray of every other element in vals. Lets look at some examples:\n",
    "     \n"
   ]
  },
  {
   "cell_type": "code",
   "execution_count": 12,
   "metadata": {
    "collapsed": false
   },
   "outputs": [
    {
     "name": "stdout",
     "output_type": "stream",
     "text": [
      "vals= ['a', 'b', 'c', 'd', 'e', 'f', 'g', 'h', 'i', 'j', 'k', 'l', 'm', 'n', 'o', 'p', 'q', 'r', 's', 't', 'u', 'v', 'w', 'x', 'y', 'z']\n",
      "nums= [0, 10, 20, 30, 40, 50, 60, 70, 80, 90, 100, 110, 120, 130, 140, 150, 160, 170, 180, 190, 200, 210, 220, 230, 240]\n",
      "vals[0::2]= ['a', 'c', 'e', 'g', 'i', 'k', 'm', 'o', 'q', 's', 'u', 'w', 'y']\n",
      "nums[3:20:2]= [30, 50, 70, 90, 110, 130, 150, 170, 190]\n",
      "nums[1:21:5]= [10, 60, 110, 160]\n",
      "vals[1:21:5]= ['b', 'g', 'l', 'q']\n",
      "nums[21:1:-5]= [210, 160, 110, 60]\n",
      "vals[21:1:-5]= ['v', 'q', 'l', 'g']\n"
     ]
    }
   ],
   "source": [
    "vals = \"a b c d e f g h i j k l m n o p q r s t u v w x y z\".split()\n",
    "nums = list(range(0,250,10))\n",
    "print('vals=',vals)\n",
    "print('nums=',nums)\n",
    "print('vals[0::2]=',vals[0::2])\n",
    "print('nums[3:20:2]=',nums[3:20:2])\n",
    "print('nums[1:21:5]=',nums[1:21:5])\n",
    "print('vals[1:21:5]=',vals[1:21:5])\n",
    "print('nums[21:1:-5]=',nums[21:1:-5])  # we can even reverse the order of the elements in a slice\n",
    "print('vals[21:1:-5]=',vals[21:1:-5])"
   ]
  },
  {
   "cell_type": "markdown",
   "metadata": {},
   "source": [
    "## Tuples\n",
    "Tuples are like lists except that they are created using parentheses () rather than brackets [].\n",
    "\n",
    "     t = (1,4,2,3)\n",
    "     s = ('red',4,True,2.7,False)\n",
    "\n",
    "Also, tuples are immutable, which means you can't change their values. Here are some examples:"
   ]
  },
  {
   "cell_type": "code",
   "execution_count": 13,
   "metadata": {
    "collapsed": false
   },
   "outputs": [
    {
     "name": "stdout",
     "output_type": "stream",
     "text": [
      "x= ('tim', 61, 'male', 165, 60)\n",
      "x[1]= 61\n",
      "\n",
      "[(1, 1), (1, 2), (3, 1), (5, 2), (5, 4)]\n",
      "\n",
      "p= (1, 1) the sum of the two components is 2\n",
      "p= (1, 2) the sum of the two components is 3\n",
      "p= (3, 1) the sum of the two components is 4\n",
      "p= (5, 2) the sum of the two components is 7\n",
      "p= (5, 4) the sum of the two components is 9\n"
     ]
    }
   ],
   "source": [
    "x = ('tim',61,'male',165,60)\n",
    "print('x=',x)\n",
    "print('x[1]=',x[1])\n",
    "print()\n",
    "\n",
    "\n",
    "points = [(1,1),(1,2),(3,1),(5,2),(5,4)]\n",
    "print(points)\n",
    "print()\n",
    "\n",
    "for p in points:\n",
    "    print(\"p=\",p,'the sum of the two components is',p[0]+p[1])"
   ]
  },
  {
   "cell_type": "markdown",
   "metadata": {},
   "source": [
    "Here is some code to print a set of random integer points"
   ]
  },
  {
   "cell_type": "code",
   "execution_count": 14,
   "metadata": {
    "collapsed": false
   },
   "outputs": [
    {
     "name": "stdout",
     "output_type": "stream",
     "text": [
      "[(4, 9), (-3, -8), (-3, -3), (4, 0), (0, 2), (10, 0), (-7, 9), (1, 6), (-6, 0), (2, 7)]\n"
     ]
    }
   ],
   "source": [
    "def gen_random_point():\n",
    "    x= random.randint(-10,10)\n",
    "    y= random.randint(-10,10)\n",
    "    return (x,y)\n",
    "\n",
    "def gen_points(n):\n",
    "    return [gen_random_point() for x in range(0,n)]\n",
    "\n",
    "points = gen_points(10)\n",
    "print(points)\n"
   ]
  },
  {
   "cell_type": "markdown",
   "metadata": {},
   "source": [
    "## Coding challenge\n",
    "Write a function generate_random_person() which will create a tuple\n",
    "\n",
    "     (age,sex,status)\n",
    "\n",
    "where age is a random number between 0 and 100, sex is a random choice of ['male','female','other'] and status is 'married', 'single', 'divorced', 'other' again randomly selected.\n",
    "\n",
    "Then use this to generate a list of 20 random people"
   ]
  },
  {
   "cell_type": "code",
   "execution_count": null,
   "metadata": {
    "collapsed": true
   },
   "outputs": [],
   "source": []
  },
  {
   "cell_type": "markdown",
   "metadata": {},
   "source": [
    "# Dictionaries\n",
    "Dictionaries are essentially lists of key/value pairs. They are created using curly braces rather than parentheses or brackets, and their elements have the form\n",
    "\n",
    "     key:value\n",
    "\n",
    "For example, here is a dictionary representation of a person\n",
    "\n",
    "     dict = {'age':61, 'sex':'M', 'status':'married'}\n",
    "\n",
    "We access elements of a dictionary using the square bracket notation, but the indices can be any \"hashable\" value, e.g. integers, floats, strings, booleans, tuples of hashable values, etc.\n",
    "\n",
    "     print(dict['age'])  # prints out 61\n",
    "     dict['age']= 62  # changes age to 62, e.g. after a birthday!\n",
    "     dict['kids']=3  # adds a new key value pair\n",
    "\n",
    "\n",
    "Try these and make a dict2 dictionary with info about yourself"
   ]
  },
  {
   "cell_type": "code",
   "execution_count": null,
   "metadata": {
    "collapsed": false
   },
   "outputs": [],
   "source": [
    "dict = {'age':61, 'sex':'M', 'status':'married'}\n",
    "print(dict)\n",
    "print()\n",
    "\n",
    "print('age=',dict['age'])  # prints out 61\n",
    "print()\n",
    "\n",
    "dict['age']= 62  # changes age to 62, e.g. after a birthday!\n",
    "print(dict) \n",
    "print()\n",
    "\n",
    "dict['kids']=3  # adds a new key value pair\n",
    "print(dict)\n"
   ]
  },
  {
   "cell_type": "markdown",
   "metadata": {},
   "source": [
    "You can test if a key is in a dictionary using the \"in\" operator\n",
    "\n",
    "     'age' in dict  # returns true\n",
    "     'name' in dict # returns false, as dict has no key called 'name'\n",
    "\n",
    "and you can iterate through the keys in a dictionary using the for loop\n",
    "\n",
    "     for x in dict:\n",
    "         print('key',x,'has value',dict[x])\n",
    "\n"
   ]
  },
  {
   "cell_type": "code",
   "execution_count": null,
   "metadata": {
    "collapsed": false
   },
   "outputs": [],
   "source": [
    "print('dict = ',dict)\n",
    "print('is \"age\" in dict ?',('age' in dict))  # returns true\n",
    "print('is \"name\" in dict ?',('name' in dict)) # returns false, as dict has no key called 'name'\n",
    "print()\n",
    "\n",
    "for x in dict:\n",
    "    print('key',x,'has value',dict[x])\n",
    "print()\n",
    "\n",
    "dictkeys = [x for x in dict]\n",
    "print('dictkeys =',dictkeys)"
   ]
  },
  {
   "cell_type": "markdown",
   "metadata": {},
   "source": [
    "# Complex data\n",
    "Now that we have lists, tuples, and dictionaries we can represent some fairly complex kinds of data!\n",
    "\n",
    "Lets look at some examples.\n",
    "\n"
   ]
  },
  {
   "cell_type": "code",
   "execution_count": 15,
   "metadata": {
    "collapsed": false
   },
   "outputs": [
    {
     "name": "stdout",
     "output_type": "stream",
     "text": [
      "{'age': 30, 'sex': 'male', 'weight': 169, 'height': 51, 'marital_status': 'married', 'quizzes': [17, 20, 18]}\n",
      "\n",
      "{'age': 65, 'sex': 'male', 'weight': 168, 'height': 57, 'marital_status': 'other', 'quizzes': [15, 14, 6]}\n",
      "{'age': 24, 'sex': 'male', 'weight': 179, 'height': 64, 'marital_status': 'other', 'quizzes': [11, 15, 11]}\n",
      "{'age': 29, 'sex': 'male', 'weight': 137, 'height': 73, 'marital_status': 'other', 'quizzes': [0, 19, 13]}\n",
      "{'age': 63, 'sex': 'female', 'weight': 94, 'height': 56, 'marital_status': 'single', 'quizzes': [18, 13, 2]}\n",
      "{'age': 24, 'sex': 'other', 'weight': 123, 'height': 48, 'marital_status': 'married', 'quizzes': [4, 9, 13]}\n",
      "{'age': 34, 'sex': 'female', 'weight': 206, 'height': 71, 'marital_status': 'married', 'quizzes': [14, 0, 13]}\n",
      "{'age': 52, 'sex': 'female', 'weight': 184, 'height': 73, 'marital_status': 'married', 'quizzes': [20, 10, 8]}\n",
      "{'age': 67, 'sex': 'female', 'weight': 118, 'height': 72, 'marital_status': 'divorced', 'quizzes': [8, 2, 16]}\n",
      "{'age': 65, 'sex': 'other', 'weight': 175, 'height': 61, 'marital_status': 'divorced', 'quizzes': [4, 14, 15]}\n",
      "{'age': 47, 'sex': 'other', 'weight': 99, 'height': 51, 'marital_status': 'other', 'quizzes': [12, 7, 18]}\n"
     ]
    }
   ],
   "source": [
    "import random\n",
    "def random_person():\n",
    "    age=random.randint(1,80)\n",
    "    sex = random.choice(['male','female','other'])\n",
    "    weight = random.randint(90,210)\n",
    "    height = random.randint(48,76)\n",
    "    marital_status = random.choice(['married','single','divorced','other'])\n",
    "    grades = [random.randint(0,20),random.randint(0,20),random.randint(0,20)]\n",
    "    person = {\n",
    "        \"age\":age,\n",
    "        \"sex\":sex,\n",
    "        \"weight\":weight,\n",
    "        \"height\":height,\n",
    "        \"marital_status\":marital_status,\n",
    "        \"quizzes\": grades\n",
    "    }\n",
    "    return person\n",
    "\n",
    "print(random_person())\n",
    "print()\n",
    "\n",
    "people = [random_person() for x in range(0,10)]\n",
    "for p in people:\n",
    "    print(p)"
   ]
  },
  {
   "cell_type": "markdown",
   "metadata": {},
   "source": [
    "Modify the code above so that it adds another key to the dictionary \"student\" which takes the values True or False. Hint: randomly choose a value from the list [True,False]."
   ]
  },
  {
   "cell_type": "markdown",
   "metadata": {},
   "source": [
    "We can sort this list of people by their age, by first writing a function get_age(p) which returns the person's age and then using the sorted function with get_age as the key!\n",
    "\n",
    "     print(sorted(people,key=get_age))\n",
    "\n",
    "as follows:"
   ]
  },
  {
   "cell_type": "code",
   "execution_count": 16,
   "metadata": {
    "collapsed": false
   },
   "outputs": [
    {
     "name": "stdout",
     "output_type": "stream",
     "text": [
      "{'age': 24, 'sex': 'male', 'weight': 179, 'height': 64, 'marital_status': 'other', 'quizzes': [11, 15, 11]}\n",
      "{'age': 24, 'sex': 'other', 'weight': 123, 'height': 48, 'marital_status': 'married', 'quizzes': [4, 9, 13]}\n",
      "{'age': 29, 'sex': 'male', 'weight': 137, 'height': 73, 'marital_status': 'other', 'quizzes': [0, 19, 13]}\n",
      "{'age': 34, 'sex': 'female', 'weight': 206, 'height': 71, 'marital_status': 'married', 'quizzes': [14, 0, 13]}\n",
      "{'age': 47, 'sex': 'other', 'weight': 99, 'height': 51, 'marital_status': 'other', 'quizzes': [12, 7, 18]}\n",
      "{'age': 52, 'sex': 'female', 'weight': 184, 'height': 73, 'marital_status': 'married', 'quizzes': [20, 10, 8]}\n",
      "{'age': 63, 'sex': 'female', 'weight': 94, 'height': 56, 'marital_status': 'single', 'quizzes': [18, 13, 2]}\n",
      "{'age': 65, 'sex': 'male', 'weight': 168, 'height': 57, 'marital_status': 'other', 'quizzes': [15, 14, 6]}\n",
      "{'age': 65, 'sex': 'other', 'weight': 175, 'height': 61, 'marital_status': 'divorced', 'quizzes': [4, 14, 15]}\n",
      "{'age': 67, 'sex': 'female', 'weight': 118, 'height': 72, 'marital_status': 'divorced', 'quizzes': [8, 2, 16]}\n"
     ]
    }
   ],
   "source": [
    "def get_age(p):\n",
    "    return p['age']\n",
    "\n",
    "for s in sorted(people,key=get_age):\n",
    "    print(s)"
   ]
  },
  {
   "cell_type": "markdown",
   "metadata": {},
   "source": [
    "We could also specify the key using the \"lambda\" notation, like this:\n",
    "\n",
    "     sorted(people, key = lambda p: p['age'])\n",
    "\n",
    "which defines the key function to be the one that takes a person p and returns the expresssion p['age'] This is just a shorthand, but it can be convenient at times!"
   ]
  },
  {
   "cell_type": "markdown",
   "metadata": {},
   "source": [
    "## Coding challenge\n",
    "Sort the people by their height.\n",
    "\n",
    "Sort people by their BMI using the definition provided below:"
   ]
  },
  {
   "cell_type": "code",
   "execution_count": null,
   "metadata": {
    "collapsed": false
   },
   "outputs": [],
   "source": [
    "def get_weight(p):\n",
    "    pass # you complete this function!\n",
    "\n",
    "def bmi(p):\n",
    "    return p['weight']*703/p['height']**2\n"
   ]
  },
  {
   "cell_type": "markdown",
   "metadata": {},
   "source": [
    "## Coding challenges\n",
    "* Write an expression to return the age of the 3rd person in the list people\n",
    "* Write the function quiz_grade(p) which returns their average quiz score \n",
    "* Write python expressions to get \n",
    " * the first person in the list people\n",
    " * the quiz grades of the first person\n",
    " * the grade of the first person on their 2nd quiz\n"
   ]
  },
  {
   "cell_type": "code",
   "execution_count": 17,
   "metadata": {
    "collapsed": false
   },
   "outputs": [
    {
     "name": "stdout",
     "output_type": "stream",
     "text": [
      "p 1 is {'age': 65, 'sex': 'male', 'weight': 168, 'height': 57, 'marital_status': 'other', 'quizzes': [15, 14, 6]}\n",
      "p 2 is {'age': 24, 'sex': 'male', 'weight': 179, 'height': 64, 'marital_status': 'other', 'quizzes': [11, 15, 11]}\n",
      "p 3 is {'age': 29, 'sex': 'male', 'weight': 137, 'height': 73, 'marital_status': 'other', 'quizzes': [0, 19, 13]}\n",
      "p 4 is {'age': 63, 'sex': 'female', 'weight': 94, 'height': 56, 'marital_status': 'single', 'quizzes': [18, 13, 2]}\n",
      "\n"
     ]
    }
   ],
   "source": [
    "for x in range(0,4):\n",
    "    print('p',x+1,'is',people[x])\n",
    "print()\n",
    "\n"
   ]
  },
  {
   "cell_type": "markdown",
   "metadata": {
    "collapsed": true
   },
   "source": [
    "## Sets\n",
    "Python also has a set data type, which maintains a collection of elements without duplicates."
   ]
  },
  {
   "cell_type": "code",
   "execution_count": 21,
   "metadata": {
    "collapsed": false
   },
   "outputs": [
    {
     "name": "stdout",
     "output_type": "stream",
     "text": [
      "{1, 2, 3, 4, 5, 6, 9}\n",
      "\n",
      "list of words =  ['that', 'that', 'is', 'is', 'that', 'that', 'is', 'not', 'is', 'not', 'is', 'that', 'not', 'it', 'it', 'is']\n",
      "\n",
      "set of unique words =  {'it', 'that', 'not', 'is'}\n",
      "\n",
      "list of unique words =  ['it', 'that', 'not', 'is']\n",
      "\n"
     ]
    },
    {
     "data": {
      "text/plain": [
       "['it', 'that', 'not', 'is']"
      ]
     },
     "execution_count": 21,
     "metadata": {},
     "output_type": "execute_result"
    }
   ],
   "source": [
    "s = set([3,1,4,1,5,9,2,6])\n",
    "print(s)\n",
    "print()\n",
    "\n",
    "words = \"that that is is that that is not is not is that not it it is\".split();\n",
    "print('list of words = ',words)\n",
    "print()\n",
    "\n",
    "wordset = set(words)  # here we turn the list of words into the set of unique words\n",
    "print('set of unique words = ',wordset)\n",
    "print()\n",
    "\n",
    "wordlist = [w for w in wordset]  # here we turn the set back into a list, using a list comprehension\n",
    "print('list of unique words = ',wordlist)\n",
    "print()\n",
    "\n",
    "# or more simply\n",
    "list(wordset)\n",
    "\n"
   ]
  },
  {
   "cell_type": "code",
   "execution_count": null,
   "metadata": {
    "collapsed": true
   },
   "outputs": [],
   "source": []
  }
 ],
 "metadata": {
  "kernelspec": {
   "display_name": "Python 3",
   "language": "python",
   "name": "python3"
  },
  "language_info": {
   "codemirror_mode": {
    "name": "ipython",
    "version": 3
   },
   "file_extension": ".py",
   "mimetype": "text/x-python",
   "name": "python",
   "nbconvert_exporter": "python",
   "pygments_lexer": "ipython3",
   "version": "3.6.0"
  }
 },
 "nbformat": 4,
 "nbformat_minor": 1
}
