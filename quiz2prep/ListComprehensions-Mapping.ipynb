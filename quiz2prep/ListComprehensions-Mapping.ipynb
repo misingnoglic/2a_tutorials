{
 "cells": [
  {
   "cell_type": "markdown",
   "metadata": {},
   "source": [
    "# Quiz 2 Practice - List Comprehensions - Mapping a function on a list\n",
    "\n",
    "In this notebook we review list comprehensions, showing some standard patterns and then asking you to solve some Spinoza problems using those patterns."
   ]
  },
  {
   "cell_type": "markdown",
   "metadata": {
    "collapsed": true
   },
   "source": [
    "## Mapping\n",
    "The simplest application of list comprehensions is the \"map\" operation. This consists of applying some function to every element of a list to create a new list. The syntax of a this form of a list comprehension is as follows:\n",
    "\n",
    "     new_list = [f(x) for x in old_list]\n",
    "     \n",
    "where f is some function or expression involving x. Here are some examples:"
   ]
  },
  {
   "cell_type": "code",
   "execution_count": null,
   "metadata": {
    "collapsed": false
   },
   "outputs": [],
   "source": [
    "vals = [2,3,5,7,11,13,17,19,23,29,31,37,41,43]\n",
    "\n",
    "squares = [x*x for x in vals]\n",
    "\n",
    "print('squares of vals =',squares)"
   ]
  },
  {
   "cell_type": "code",
   "execution_count": null,
   "metadata": {
    "collapsed": false
   },
   "outputs": [],
   "source": [
    "# here we convert a list of temperatures from centigrade to fahrenheit using a list comprehension mapping\n",
    "temps = [-100, -40,-20,0,20,37,40,100]\n",
    "\n",
    "fahrenheit_vals = [(x*9)/5+32  for x in temps]\n",
    "\n",
    "print('converting temps to fahrenheit =',fahrenheit_vals)"
   ]
  },
  {
   "cell_type": "code",
   "execution_count": null,
   "metadata": {
    "collapsed": false
   },
   "outputs": [],
   "source": [
    "# here is another way to convert a list of C temps to F using a c_to_f function instead of an expression\n",
    "\n",
    "def c_to_f(c):\n",
    "    \"\"\"c_to_f(c) converts centigrade temps c to fahrenheit\"\"\"\n",
    "    return c*9/5+32\n",
    "\n",
    "f_vals = [c_to_f(x) for x in temps]\n",
    "\n",
    "print(\"converting C temps to F using a function call give the same answer:\")\n",
    "print(f_vals)\n",
    "    "
   ]
  },
  {
   "cell_type": "markdown",
   "metadata": {},
   "source": [
    "## Mapping over a list of tuples\n",
    "We can use list-comprehensions to operate on more complex lists as well. For example, here is how we could take  a list of tuples representing rectangle sizes, and add the area and circumference to the tuples"
   ]
  },
  {
   "cell_type": "code",
   "execution_count": 1,
   "metadata": {
    "collapsed": false
   },
   "outputs": [
    {
     "name": "stdout",
     "output_type": "stream",
     "text": [
      "the expanded rects are: [(8, 12, 2, 4), (15, 16, 3, 5), (8, 12, 4, 2), (25, 20, 5, 5), (10, 22, 10, 1)]\n"
     ]
    }
   ],
   "source": [
    "rects = [(2,4), (3,5), (4,2), (5,5), (10,1)]\n",
    "\n",
    "def expand_rect(r):\n",
    "    \"\"\"expand_rect(r) takes a tuple r=(w,h) and returns a tuple (w*h,2*w+2*h,w,h) with the area and perimeter added\"\"\"\n",
    "    w=r[0]\n",
    "    h=r[1]\n",
    "    return (w*h,2*w+2*h,w,h)\n",
    "\n",
    "# now we map the expand_rect function on the list rects\n",
    "rects2 = [expand_rect(r) for r in rects]\n",
    "\n",
    "print('the expanded rects are:',rects2)"
   ]
  },
  {
   "cell_type": "markdown",
   "metadata": {},
   "source": [
    "## Mapping over a list of words, producing a list of tuples\n",
    "Here is an example where we operate on a list of words to produce a list of tuples, which we can then sort using the Python function \"sorted\""
   ]
  },
  {
   "cell_type": "code",
   "execution_count": null,
   "metadata": {
    "collapsed": false
   },
   "outputs": [],
   "source": [
    "sentence = \"now is the time for all good men to come to the aid of their party\"\n",
    "words = sentence.split() # this returns a list of the words in the sentence\n",
    "\n",
    "def add_length(w):\n",
    "    \"\"\"add_length(w) returns a tuple of the length and the word, e.g.\n",
    "       add_length(\"hello\") --> (5,\"hello\")\n",
    "    \"\"\"\n",
    "    return (len(w),w)\n",
    "\n",
    "\n",
    "word_lengths = [add_length(w) for w in words]\n",
    "\n",
    "print(\"the words in the sentence\")\n",
    "print(\"     \",sentence)\n",
    "print(\"sorted by their lengths are\")\n",
    "print(sorted(word_lengths))"
   ]
  },
  {
   "cell_type": "code",
   "execution_count": null,
   "metadata": {
    "collapsed": true
   },
   "outputs": [],
   "source": []
  }
 ],
 "metadata": {
  "kernelspec": {
   "display_name": "Python 3",
   "language": "python",
   "name": "python3"
  },
  "language_info": {
   "codemirror_mode": {
    "name": "ipython",
    "version": 3
   },
   "file_extension": ".py",
   "mimetype": "text/x-python",
   "name": "python",
   "nbconvert_exporter": "python",
   "pygments_lexer": "ipython3",
   "version": "3.6.0"
  }
 },
 "nbformat": 4,
 "nbformat_minor": 1
}
