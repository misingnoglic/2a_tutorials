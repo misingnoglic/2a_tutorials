{
 "cells": [
  {
   "cell_type": "markdown",
   "metadata": {},
   "source": [
    "# List Comprehensions mapping and filtering\n",
    "Here we look at examples of combining mapping and filtering with list comprehensions\n",
    "\n",
    "The general form for this kind of list comprehension is\n",
    "\n",
    "     new_list = [f(x) for x in old_list if g(x)]\n",
    "\n",
    "where f(x) is some function or expression on the elements of the old list and g(x) is some condition or boolean function the list elements.\n",
    "\n",
    "## First we generate a list of 20 random people\n"
   ]
  },
  {
   "cell_type": "code",
   "execution_count": 53,
   "metadata": {
    "collapsed": false
   },
   "outputs": [],
   "source": [
    "import random\n",
    "import math\n",
    "def random_person():\n",
    "    id = 1000000+random.randint(1,999999)\n",
    "    sex = random.choice(['M','F']) #this is 'M' 50% of the time and 'F' otherwise\n",
    "    age = random.randint(20,40)\n",
    "    marital_status = random.choice(['married','single','divorced'])\n",
    "    kids = random.randint(0,4) # this takes values 0,1,2,3 with equal probability (25%)\n",
    "    person = {\n",
    "        \"id\": id,\n",
    "        \"sex\": sex,\n",
    "        \"age\": age,\n",
    "        \"marital_status\": marital_status}        \n",
    "    return person\n",
    "\n",
    "people =[random_person() for x in range(0,20)]\n",
    "\n",
    "for x in people:\n",
    "    pass#print(x)"
   ]
  },
  {
   "cell_type": "markdown",
   "metadata": {},
   "source": [
    "## Average age of the males\n",
    "To calculate the average age of the males, we use a list comprehension to get the list of ages of the males, and then find the average of that list. Ths list comprehension we use is\n",
    "\n",
    "     ages_of_males = [x['age'] for x in people if x['sex']=='M']\n",
    "\n",
    "which iterates through the males mapping them into the list of their ages."
   ]
  },
  {
   "cell_type": "code",
   "execution_count": 54,
   "metadata": {
    "collapsed": false
   },
   "outputs": [
    {
     "name": "stdout",
     "output_type": "stream",
     "text": [
      "[29, 24, 22, 32, 29, 36, 25, 38, 26, 21]\n",
      "average age of males is  28.2\n",
      "average age of females is  30.3\n",
      "average age of both sexes is 29.25\n"
     ]
    }
   ],
   "source": [
    "def average(vals):\n",
    "    return sum(vals)/len(vals)\n",
    "\n",
    "ages_of_males = [x['age'] for x in people if x['sex']=='M']\n",
    "\n",
    "print(ages_of_males)\n",
    "\n",
    "print('average age of males is ',average(ages_of_males))\n",
    "print('average age of females is ',average([x['age'] for x in people if x['sex']=='F']))\n",
    "print('average age of both sexes is',average([x['age'] for x in people]))"
   ]
  },
  {
   "cell_type": "markdown",
   "metadata": {},
   "source": [
    "## Coding Challenge\n",
    "Try to write the python code to calculate \n",
    "* the list of unmarried women\n",
    "* the age of the youngest unmarried woman (she could be single or divorced)\n",
    "* a list of the youngest unmarried women (there might be several of the same youngest ave)\n"
   ]
  },
  {
   "cell_type": "code",
   "execution_count": 55,
   "metadata": {
    "collapsed": false
   },
   "outputs": [
    {
     "data": {
      "text/plain": [
       "[{'age': 23, 'id': 1723448, 'marital_status': 'divorced', 'sex': 'F'}]"
      ]
     },
     "execution_count": 55,
     "metadata": {},
     "output_type": "execute_result"
    }
   ],
   "source": [
    "\n",
    "uw = [x for x in people if x['sex']=='F' and not x['marital_status']=='married']\n",
    "for x in uw:\n",
    "    pass#print(x)\n",
    "minage = min([x['age'] for x in uw])\n",
    "[x for x in uw if x['age']==minage]"
   ]
  },
  {
   "cell_type": "code",
   "execution_count": null,
   "metadata": {
    "collapsed": true
   },
   "outputs": [],
   "source": []
  }
 ],
 "metadata": {
  "kernelspec": {
   "display_name": "Python 3",
   "language": "python",
   "name": "python3"
  },
  "language_info": {
   "codemirror_mode": {
    "name": "ipython",
    "version": 3
   },
   "file_extension": ".py",
   "mimetype": "text/x-python",
   "name": "python",
   "nbconvert_exporter": "python",
   "pygments_lexer": "ipython3",
   "version": "3.6.0"
  }
 },
 "nbformat": 4,
 "nbformat_minor": 1
}
