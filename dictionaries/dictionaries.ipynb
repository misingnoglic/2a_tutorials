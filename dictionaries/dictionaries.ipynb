{
 "cells": [
  {
   "cell_type": "markdown",
   "metadata": {},
   "source": [
    "# Dictionaries"
   ]
  },
  {
   "cell_type": "markdown",
   "metadata": {},
   "source": [
    "This notebook will give you intuition to why you would use dictionaries, as well as teach you how to make them and how to use them"
   ]
  },
  {
   "cell_type": "markdown",
   "metadata": {},
   "source": [
    "## Intuition"
   ]
  },
  {
   "cell_type": "markdown",
   "metadata": {},
   "source": [
    "Let's say you wanted some kind of mapping between two things.\n",
    "For example, lets say you have a list of your friends, and you want to write a function that gives you your friend's age. You could write something like this:"
   ]
  },
  {
   "cell_type": "code",
   "execution_count": 26,
   "metadata": {
    "collapsed": false
   },
   "outputs": [],
   "source": [
    "def age(name):\n",
    "    if name==\"Arya\":\n",
    "        return 21\n",
    "    elif name==\"Vanio\":\n",
    "        return 20\n",
    "    elif name==\"Talie\":\n",
    "        return 21\n",
    "    elif name==\"Bob\":\n",
    "        return 30\n",
    "    else:\n",
    "        return -1 # Error"
   ]
  },
  {
   "cell_type": "markdown",
   "metadata": {},
   "source": [
    "You could use that function now to see the age of someone's name"
   ]
  },
  {
   "cell_type": "code",
   "execution_count": 27,
   "metadata": {
    "collapsed": false
   },
   "outputs": [
    {
     "name": "stdout",
     "output_type": "stream",
     "text": [
      "21\n"
     ]
    }
   ],
   "source": [
    "print(age(\"Talie\"))"
   ]
  },
  {
   "cell_type": "markdown",
   "metadata": {},
   "source": [
    "### Project 1\n",
    "Edit the code above to add your name/age. Try calling it on your name to verify that it works."
   ]
  },
  {
   "cell_type": "markdown",
   "metadata": {},
   "source": [
    "## How to make a Dictionary"
   ]
  },
  {
   "cell_type": "markdown",
   "metadata": {},
   "source": [
    "The above sample works, but it's pretty annoying. It's hard to edit the program to add someone and delete someone, and it's also very slow. If you had a million names, the code would have to run a million if-statements to find the person's age.\n",
    "\n",
    "Thankfully, there's a data type that allows us to do these \"lookups\" very simply. It is called a dictionary. Just like an english dictionary, it lets you use a key (such as a word) to look up a value (such as the word's definition). Here is an example:"
   ]
  },
  {
   "cell_type": "code",
   "execution_count": 28,
   "metadata": {
    "collapsed": false
   },
   "outputs": [
    {
     "name": "stdout",
     "output_type": "stream",
     "text": [
      "{'Arya': 21, 'Bob': 30, 'Talie': 21}\n"
     ]
    }
   ],
   "source": [
    "friend_ages = {\"Arya\": 21, \"Bob\": 30, \"Talie\": 21}\n",
    "print(friend_ages)"
   ]
  },
  {
   "cell_type": "markdown",
   "metadata": {},
   "source": [
    "Look at the syntax clearly, so you can make your own dictionaries later.\n",
    "It's wrapped around curly braces, and has the key and value separated by a colon. Each entry is separated by a comma. It looks kind of like a list, but now you're using the colons to separate the keys and values.\n",
    "\n",
    "Note that the order of the dictionary does NOT matter.\n",
    "\n",
    "### Project 2\n",
    "Edit the friend_ages dictionary so that it has your name and age in it. Print it to make sure it doesn't throw errors. "
   ]
  },
  {
   "cell_type": "markdown",
   "metadata": {},
   "source": [
    "## How to use dictionaries\n",
    "\n",
    "Once you have a dictionary defined, you can get values from it using the same syntax as getting an index from a list."
   ]
  },
  {
   "cell_type": "code",
   "execution_count": 30,
   "metadata": {
    "collapsed": false
   },
   "outputs": [
    {
     "name": "stdout",
     "output_type": "stream",
     "text": [
      "21\n"
     ]
    }
   ],
   "source": [
    "print(friend_ages[\"Arya\"])"
   ]
  },
  {
   "cell_type": "markdown",
   "metadata": {},
   "source": [
    "So to get something from the dictionary, you can just put the key in square brackets next to the dictionary name.\n",
    "You can also modify the values, without changing your previous code."
   ]
  },
  {
   "cell_type": "code",
   "execution_count": 31,
   "metadata": {
    "collapsed": false
   },
   "outputs": [
    {
     "name": "stdout",
     "output_type": "stream",
     "text": [
      "{'Arya': 22, 'Bob': 30, 'Talie': 21}\n"
     ]
    }
   ],
   "source": [
    "friend_ages[\"Arya\"] = 22\n",
    "print(friend_ages)"
   ]
  },
  {
   "cell_type": "markdown",
   "metadata": {},
   "source": [
    "You can also add new names into the dictionary like this:"
   ]
  },
  {
   "cell_type": "code",
   "execution_count": 32,
   "metadata": {
    "collapsed": false
   },
   "outputs": [
    {
     "name": "stdout",
     "output_type": "stream",
     "text": [
      "{'Arya': 22, 'Bob': 30, 'Talie': 21, 'Vanio': 20}\n"
     ]
    }
   ],
   "source": [
    "friend_ages[\"Vanio\"] = 20\n",
    "print(friend_ages)"
   ]
  },
  {
   "cell_type": "markdown",
   "metadata": {},
   "source": [
    "It added our extra person! Note that if you ask for something you don't have in your dictionary, it will throw an error. Read the error and try to understand it. It worked in the above case, because we said what it should be equal to. "
   ]
  },
  {
   "cell_type": "code",
   "execution_count": 11,
   "metadata": {
    "collapsed": false
   },
   "outputs": [
    {
     "ename": "KeyError",
     "evalue": "'Tim Hickey'",
     "output_type": "error",
     "traceback": [
      "\u001b[0;31m---------------------------------------------------------------------------\u001b[0m",
      "\u001b[0;31mKeyError\u001b[0m                                  Traceback (most recent call last)",
      "\u001b[0;32m<ipython-input-11-d161da9ccac3>\u001b[0m in \u001b[0;36m<module>\u001b[0;34m()\u001b[0m\n\u001b[0;32m----> 1\u001b[0;31m \u001b[0mprint\u001b[0m\u001b[1;33m(\u001b[0m\u001b[0mfriend_ages\u001b[0m\u001b[1;33m[\u001b[0m\u001b[1;34m\"Tim Hickey\"\u001b[0m\u001b[1;33m]\u001b[0m\u001b[1;33m)\u001b[0m\u001b[1;33m\u001b[0m\u001b[0m\n\u001b[0m",
      "\u001b[0;31mKeyError\u001b[0m: 'Tim Hickey'"
     ]
    }
   ],
   "source": [
    "print(friend_ages[\"Tim Hickey\"])"
   ]
  },
  {
   "cell_type": "markdown",
   "metadata": {},
   "source": [
    "### Project 3:\n",
    "\n",
    "Create a dictionary with the keys being your team members, and the values being their years in school. Use the strings \"Freshman\", \"Sophomore\", \"Junior\", \"Senior\"\n",
    "\n",
    "Get some value out of it by using the dictionary."
   ]
  },
  {
   "cell_type": "code",
   "execution_count": 16,
   "metadata": {
    "collapsed": true
   },
   "outputs": [],
   "source": [
    "# Write your code here"
   ]
  },
  {
   "cell_type": "markdown",
   "metadata": {},
   "source": [
    "### Project 4:\n",
    "Write a function add1(dictionary, key), which adds one to the value of the dictionary at that key. For example, if I gave it add(friends_ages, \"Arya\"), it would add 1 to Arya's age in the dictionary."
   ]
  },
  {
   "cell_type": "code",
   "execution_count": 38,
   "metadata": {
    "collapsed": true
   },
   "outputs": [],
   "source": [
    "def add1(dictionary, key):\n",
    "    \"\"\"\n",
    "    Add 1 to the value of the key in the dictionary. \n",
    "    E.g. if d = {\"Arya\": 22, \"Talie\": 21}\n",
    "    add(d,\"Arya\") would add 1 to the value of the key \"Arya\", making the value in the dictionary 23\n",
    "    It doesn't have to return anything, as it will just modify the dictionary\n",
    "    \"\"\"\n",
    "    # Write your code here"
   ]
  },
  {
   "cell_type": "markdown",
   "metadata": {},
   "source": [
    "### Project 5\n",
    "\n",
    "#### Part 1\n",
    "Write a dictionary that gives you the compliment of a DNA base.\n",
    "Remember that the 4 DNA bases are \"A\", \"G\", \"T\", \"C\"\n",
    "And A pairs with T (and vice versa), and G pairs with C (and vice versa)"
   ]
  },
  {
   "cell_type": "code",
   "execution_count": null,
   "metadata": {
    "collapsed": true
   },
   "outputs": [],
   "source": [
    "# Write dictionary here"
   ]
  },
  {
   "cell_type": "markdown",
   "metadata": {},
   "source": [
    "#### Part 2\n",
    "\n",
    "Write a function that given a DNA string, returns the compliment of that DNA string. You want to loop through the string, and use the dictionary to get the compliment of each letter. Discuss with your group if you are lost, and if you can't figure it out, talk with another group. This is fairly challenging, but will prove you can effectively use dictionaries. "
   ]
  },
  {
   "cell_type": "markdown",
   "metadata": {},
   "source": [
    "## List of Dictionaries and Dictionaries with lists\n",
    "\n",
    "We can also accumulate dictionaries in lists. This is useful for storing a lot of data that you want labeled, so you can loop through it and get the values that you want. It's useful to see these nested structures, as they come up a lot in real life code. \n",
    "\n",
    "For example, to import a CSV file into Python, it becomes a list of dictionaries, where the key is the thing in the header, and the value is the actual value in that row. You'll see an example of this later. \n",
    "\n",
    "For example, if we had a spreadsheet like this:\n",
    "\n",
    "Name|Age|Graduation Year\n",
    "\n",
    "Arya|21|2017\n",
    "\n",
    "Talie|21|2018\n",
    "\n",
    "We could represent it by this dictionary:"
   ]
  },
  {
   "cell_type": "code",
   "execution_count": 17,
   "metadata": {
    "collapsed": true
   },
   "outputs": [],
   "source": [
    "friends = [{\"Name\": \"Arya\", \"Age\": 21, \"Graduation Year\": 2017}, {\"Name\": \"Talie\", \"Age\": 21, \"Graduation Year\": 2018}]"
   ]
  },
  {
   "cell_type": "code",
   "execution_count": 18,
   "metadata": {
    "collapsed": false
   },
   "outputs": [
    {
     "name": "stdout",
     "output_type": "stream",
     "text": [
      "[{'Name': 'Arya', 'Age': 21, 'Graduation Year': 2017}, {'Name': 'Talie', 'Age': 21, 'Graduation Year': 2018}]\n"
     ]
    }
   ],
   "source": [
    "print(friends)"
   ]
  },
  {
   "cell_type": "markdown",
   "metadata": {},
   "source": [
    "If I want the sum of all of the ages of my friends, I can do something like this:"
   ]
  },
  {
   "cell_type": "code",
   "execution_count": 21,
   "metadata": {
    "collapsed": false
   },
   "outputs": [
    {
     "name": "stdout",
     "output_type": "stream",
     "text": [
      "42\n"
     ]
    }
   ],
   "source": [
    "sum_ages = 0\n",
    "for person in friends:\n",
    "    # Remember this means that person will be equal to a dictionary, since friends is a list of dictionaries\n",
    "    sum_ages = sum_ages + person[\"Age\"]\n",
    "print(sum_ages) # 21 + 21"
   ]
  },
  {
   "cell_type": "markdown",
   "metadata": {},
   "source": [
    "You can also have a list in your dictionary. Lets say that you have a dictionary of students, and the value is their grades in all their quizzes. For example:"
   ]
  },
  {
   "cell_type": "code",
   "execution_count": 24,
   "metadata": {
    "collapsed": false
   },
   "outputs": [
    {
     "name": "stdout",
     "output_type": "stream",
     "text": [
      "{'Arya': [100, 90, 80, 70], 'Bob': [90, 80, 50, 100], 'Sally': [10, 100, 100, 100]}\n",
      "[100, 90, 80, 70]\n"
     ]
    }
   ],
   "source": [
    "student_grades = {\"Arya\": [100,90,80,70], \"Bob\": [90,80,50,100], \"Sally\": [10,100,100,100]}\n",
    "print(student_grades)\n",
    "print(student_grades[\"Arya\"])"
   ]
  },
  {
   "cell_type": "markdown",
   "metadata": {},
   "source": [
    "As you can see, each key is a person's name, and each value is a list of their grades. \n",
    "If you wanted to see which student had the highest average, you could loop over this."
   ]
  },
  {
   "cell_type": "markdown",
   "metadata": {},
   "source": [
    "## How to loop over dictionaries\n",
    "Lets say you want to go through each key in the dictionary. For example, you want to see which friend is graduating earliest, or what the average grade in a class is. We can iterate over the keys in the dictionary almost the same way we can iterate over them in a list.\n",
    "\n",
    "Let's take our friend_ages dictionary"
   ]
  },
  {
   "cell_type": "code",
   "execution_count": 34,
   "metadata": {
    "collapsed": false
   },
   "outputs": [
    {
     "name": "stdout",
     "output_type": "stream",
     "text": [
      "{'Arya': 22, 'Bob': 30, 'Talie': 21, 'Vanio': 20}\n"
     ]
    },
    {
     "data": {
      "text/plain": [
       "4"
      ]
     },
     "execution_count": 34,
     "metadata": {},
     "output_type": "execute_result"
    }
   ],
   "source": [
    "print(friend_ages)"
   ]
  },
  {
   "cell_type": "markdown",
   "metadata": {},
   "source": [
    "Here is the way to loop through each item in the dictionary"
   ]
  },
  {
   "cell_type": "code",
   "execution_count": 37,
   "metadata": {
    "collapsed": false
   },
   "outputs": [
    {
     "name": "stdout",
     "output_type": "stream",
     "text": [
      "Arya\n",
      "22\n",
      "Bob\n",
      "30\n",
      "Talie\n",
      "21\n",
      "Vanio\n",
      "20\n"
     ]
    }
   ],
   "source": [
    "for key in friend_ages:\n",
    "    print(key)\n",
    "    print(friend_ages[key])"
   ]
  },
  {
   "cell_type": "markdown",
   "metadata": {},
   "source": [
    "Notice that we have to do friend_ages[key] to get the value, but doing \n",
    "\n",
    "`for key in friend_ages:`\n",
    "\n",
    "will iterate through each key in the dictionary.\n",
    "Note that the variable doesn't have to be called key.\n",
    "\n",
    "### Project 6\n",
    "Find the average age in the friend_ages dictionary"
   ]
  },
  {
   "cell_type": "code",
   "execution_count": 40,
   "metadata": {
    "collapsed": true
   },
   "outputs": [],
   "source": [
    "# Code goes here"
   ]
  },
  {
   "cell_type": "markdown",
   "metadata": {},
   "source": [
    "### Project 7\n",
    "Below is the code for getting the average of a list. Write a function that takes in a dictionary like `student_grades` and returns the name of the student with the highest average."
   ]
  },
  {
   "cell_type": "code",
   "execution_count": 39,
   "metadata": {
    "collapsed": true
   },
   "outputs": [],
   "source": [
    "def average(L):\n",
    "    \"\"\"\n",
    "    Returns the average of the list\n",
    "    average([1,3,11]) = 5\n",
    "    \"\"\"\n",
    "    return sum(L)/len(L)\n",
    "\n",
    "def highest_grade(d):\n",
    "    \"\"\"\n",
    "    Returns the student with the highest average grade, in a dictionary mapping students names to a list of all their grades.\n",
    "    \"\"\"\n",
    "    "
   ]
  },
  {
   "cell_type": "markdown",
   "metadata": {},
   "source": [
    "## How to turn in:\n",
    "\n",
    "At the top, click File-> Download As ->  HTML (.html) \n",
    "And then download the file, and upload it to Latte.\n",
    "\n",
    "For homework, you should turn in the notebook from today, as well as the one from yesterday. "
   ]
  }
 ],
 "metadata": {
  "kernelspec": {
   "display_name": "Python 3",
   "language": "python",
   "name": "python3"
  },
  "language_info": {
   "codemirror_mode": {
    "name": "ipython",
    "version": 3
   },
   "file_extension": ".py",
   "mimetype": "text/x-python",
   "name": "python",
   "nbconvert_exporter": "python",
   "pygments_lexer": "ipython3",
   "version": "3.6.0"
  }
 },
 "nbformat": 4,
 "nbformat_minor": 2
}
